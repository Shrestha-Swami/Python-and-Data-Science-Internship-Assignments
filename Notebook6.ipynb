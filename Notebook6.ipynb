{
 "cells": [
  {
   "cell_type": "markdown",
   "metadata": {
    "application/vnd.databricks.v1+cell": {
     "cellMetadata": {},
     "inputWidgets": {},
     "nuid": "e4f7cf91-474b-4985-86a7-82393c1d9ea3",
     "showTitle": false,
     "tableResultSettingsMap": {},
     "title": ""
    }
   },
   "source": [
    "defaultdict:\n",
    "\n",
    "A defaultdict is like a regular dictionary (dict), but with a default value if a key doesn't exist — so you don't need to manually check and initialize.\n"
   ]
  },
  {
   "cell_type": "code",
   "execution_count": 0,
   "metadata": {
    "application/vnd.databricks.v1+cell": {
     "cellMetadata": {
      "byteLimit": 2048000,
      "rowLimit": 10000
     },
     "inputWidgets": {},
     "nuid": "5d6f4b92-d02c-4498-9ff0-fdec02a46870",
     "showTitle": false,
     "tableResultSettingsMap": {},
     "title": ""
    }
   },
   "outputs": [
    {
     "output_type": "display_data",
     "data": {
      "text/html": [
       "<style scoped>\n",
       "  .table-result-container {\n",
       "    max-height: 300px;\n",
       "    overflow: auto;\n",
       "  }\n",
       "  table, th, td {\n",
       "    border: 1px solid black;\n",
       "    border-collapse: collapse;\n",
       "  }\n",
       "  th, td {\n",
       "    padding: 5px;\n",
       "  }\n",
       "  th {\n",
       "    text-align: left;\n",
       "  }\n",
       "</style><div class='table-result-container'><table class='table-result'><thead style='background-color: white'><tr><th>Raw Table Name</th><th>Raw Table Column</th><th>Raw Table Column Data Type</th><th>Curated Table Name</th><th>Curated Table Column</th><th>Curated Table Column Data Type</th><th>Presentation Table Name</th><th>Presentation Table Column</th><th>Presentation Table Column Data Type</th></tr></thead><tbody><tr><td>customers_raw</td><td>id</td><td>INT</td><td>customers_curated</td><td>customer_id</td><td>INT</td><td>customers_present</td><td>cust_id</td><td>INT</td></tr><tr><td>customers_raw</td><td>name</td><td>STRING</td><td>customers_curated</td><td>customer_name</td><td>STRING</td><td>customers_present</td><td>cust_name</td><td>STRING</td></tr><tr><td>customers_raw</td><td>email</td><td>STRING</td><td>customers_curated</td><td>email_address</td><td>STRING</td><td>customers_present</td><td>email</td><td>STRING</td></tr><tr><td>orders_raw</td><td>order_id</td><td>INT</td><td>orders_curated</td><td>order_id</td><td>INT</td><td>orders_present</td><td>order_num</td><td>INT</td></tr><tr><td>orders_raw</td><td>customer_id</td><td>INT</td><td>orders_curated</td><td>cust_id</td><td>INT</td><td>orders_present</td><td>customer_id</td><td>INT</td></tr><tr><td>orders_raw</td><td>total_amount</td><td>DOUBLE</td><td>orders_curated</td><td>total</td><td>DOUBLE</td><td>orders_present</td><td>total_amount</td><td>DOUBLE</td></tr></tbody></table></div>"
      ]
     },
     "metadata": {
      "application/vnd.databricks.v1+output": {
       "addedWidgets": {},
       "aggData": [],
       "aggError": "",
       "aggOverflow": false,
       "aggSchema": [],
       "aggSeriesLimitReached": false,
       "aggType": "",
       "arguments": {},
       "columnCustomDisplayInfos": {},
       "data": [
        [
         "customers_raw",
         "id",
         "INT",
         "customers_curated",
         "customer_id",
         "INT",
         "customers_present",
         "cust_id",
         "INT"
        ],
        [
         "customers_raw",
         "name",
         "STRING",
         "customers_curated",
         "customer_name",
         "STRING",
         "customers_present",
         "cust_name",
         "STRING"
        ],
        [
         "customers_raw",
         "email",
         "STRING",
         "customers_curated",
         "email_address",
         "STRING",
         "customers_present",
         "email",
         "STRING"
        ],
        [
         "orders_raw",
         "order_id",
         "INT",
         "orders_curated",
         "order_id",
         "INT",
         "orders_present",
         "order_num",
         "INT"
        ],
        [
         "orders_raw",
         "customer_id",
         "INT",
         "orders_curated",
         "cust_id",
         "INT",
         "orders_present",
         "customer_id",
         "INT"
        ],
        [
         "orders_raw",
         "total_amount",
         "DOUBLE",
         "orders_curated",
         "total",
         "DOUBLE",
         "orders_present",
         "total_amount",
         "DOUBLE"
        ]
       ],
       "datasetInfos": [],
       "dbfsResultPath": null,
       "isJsonSchema": true,
       "metadata": {},
       "overflow": false,
       "plotOptions": {
        "customPlotOptions": {},
        "displayType": "table",
        "pivotAggregation": null,
        "pivotColumns": null,
        "xColumns": null,
        "yColumns": null
       },
       "removedWidgets": [],
       "schema": [
        {
         "metadata": "{}",
         "name": "Raw Table Name",
         "type": "\"string\""
        },
        {
         "metadata": "{}",
         "name": "Raw Table Column",
         "type": "\"string\""
        },
        {
         "metadata": "{}",
         "name": "Raw Table Column Data Type",
         "type": "\"string\""
        },
        {
         "metadata": "{}",
         "name": "Curated Table Name",
         "type": "\"string\""
        },
        {
         "metadata": "{}",
         "name": "Curated Table Column",
         "type": "\"string\""
        },
        {
         "metadata": "{}",
         "name": "Curated Table Column Data Type",
         "type": "\"string\""
        },
        {
         "metadata": "{}",
         "name": "Presentation Table Name",
         "type": "\"string\""
        },
        {
         "metadata": "{}",
         "name": "Presentation Table Column",
         "type": "\"string\""
        },
        {
         "metadata": "{}",
         "name": "Presentation Table Column Data Type",
         "type": "\"string\""
        }
       ],
       "type": "table"
      }
     },
     "output_type": "display_data"
    }
   ],
   "source": [
    "df = spark.table(\"Users.new_metadata\")\n",
    "display(df)"
   ]
  },
  {
   "cell_type": "code",
   "execution_count": 0,
   "metadata": {
    "application/vnd.databricks.v1+cell": {
     "cellMetadata": {
      "byteLimit": 2048000,
      "rowLimit": 10000
     },
     "inputWidgets": {},
     "nuid": "780ea5a7-e1ac-4250-a578-4f678fa367c3",
     "showTitle": false,
     "tableResultSettingsMap": {},
     "title": ""
    }
   },
   "outputs": [
    {
     "output_type": "stream",
     "name": "stdout",
     "output_type": "stream",
     "text": [
      "Created Table: customers_raw\nCreated Table: orders_raw\n"
     ]
    }
   ],
   "source": [
    "from collections import defaultdict\n",
    "tables = defaultdict(list)\n",
    "for row in df.collect():\n",
    "    table_name = row['Raw Table Name']\n",
    "    column_name = row['Raw Table Column']\n",
    "    column_data_type = row['Raw Table Column Data Type']\n",
    "    tables[table_name].append(f\"{column_name} {column_data_type}\")\n",
    "for table_name, columns in tables.items():\n",
    "    col_def = \", \".join(columns)\n",
    "    drop_sql = f\"DROP TABLE IF EXISTS {table_name}\"\n",
    "    spark.sql(drop_sql)\n",
    "    create_sql = f\"CREATE TABLE {table_name} ({col_def})\"\n",
    "    spark.sql(create_sql)\n",
    "    print(f\"Created Table: {table_name}\")\n",
    "                              "
   ]
  },
  {
   "cell_type": "code",
   "execution_count": 0,
   "metadata": {
    "application/vnd.databricks.v1+cell": {
     "cellMetadata": {
      "byteLimit": 2048000,
      "rowLimit": 10000
     },
     "inputWidgets": {},
     "nuid": "e281b051-442f-4b93-8d9c-f77454c9c529",
     "showTitle": false,
     "tableResultSettingsMap": {},
     "title": ""
    }
   },
   "outputs": [
    {
     "output_type": "display_data",
     "data": {
      "text/html": [
       "<style scoped>\n",
       "  .table-result-container {\n",
       "    max-height: 300px;\n",
       "    overflow: auto;\n",
       "  }\n",
       "  table, th, td {\n",
       "    border: 1px solid black;\n",
       "    border-collapse: collapse;\n",
       "  }\n",
       "  th, td {\n",
       "    padding: 5px;\n",
       "  }\n",
       "  th {\n",
       "    text-align: left;\n",
       "  }\n",
       "</style><div class='table-result-container'><table class='table-result'><thead style='background-color: white'><tr><th>Raw Table Name</th><th>Raw Table Column</th><th>Raw Table Column Data Type</th><th>Curated Table Name</th><th>Curated Table Column</th><th>CuratedTable Column Data Type</th><th>Presentation Layer Name</th><th>Presentation Table Column</th><th>PresentationTable Column Data Type</th></tr></thead><tbody><tr><td>User</td><td>ID</td><td>STRING</td><td>Employee</td><td>EmpID</td><td>STRING</td><td>Emp</td><td>EmpID</td><td>STRING</td></tr><tr><td>User</td><td>Name</td><td>STRING</td><td>Employee</td><td>EmpName</td><td>STRING</td><td>Emp</td><td>EmpName</td><td>STRING</td></tr></tbody></table></div>"
      ]
     },
     "metadata": {
      "application/vnd.databricks.v1+output": {
       "addedWidgets": {},
       "aggData": [],
       "aggError": "",
       "aggOverflow": false,
       "aggSchema": [],
       "aggSeriesLimitReached": false,
       "aggType": "",
       "arguments": {},
       "columnCustomDisplayInfos": {},
       "data": [
        [
         "User",
         "ID",
         "STRING",
         "Employee",
         "EmpID",
         "STRING",
         "Emp",
         "EmpID",
         "STRING"
        ],
        [
         "User",
         "Name",
         "STRING",
         "Employee",
         "EmpName",
         "STRING",
         "Emp",
         "EmpName",
         "STRING"
        ]
       ],
       "datasetInfos": [],
       "dbfsResultPath": null,
       "isJsonSchema": true,
       "metadata": {},
       "overflow": false,
       "plotOptions": {
        "customPlotOptions": {},
        "displayType": "table",
        "pivotAggregation": null,
        "pivotColumns": null,
        "xColumns": null,
        "yColumns": null
       },
       "removedWidgets": [],
       "schema": [
        {
         "metadata": "{}",
         "name": "Raw Table Name",
         "type": "\"string\""
        },
        {
         "metadata": "{}",
         "name": "Raw Table Column",
         "type": "\"string\""
        },
        {
         "metadata": "{}",
         "name": "Raw Table Column Data Type",
         "type": "\"string\""
        },
        {
         "metadata": "{}",
         "name": "Curated Table Name",
         "type": "\"string\""
        },
        {
         "metadata": "{}",
         "name": "Curated Table Column",
         "type": "\"string\""
        },
        {
         "metadata": "{}",
         "name": "CuratedTable Column Data Type",
         "type": "\"string\""
        },
        {
         "metadata": "{}",
         "name": "Presentation Layer Name",
         "type": "\"string\""
        },
        {
         "metadata": "{}",
         "name": "Presentation Table Column",
         "type": "\"string\""
        },
        {
         "metadata": "{}",
         "name": "PresentationTable Column Data Type",
         "type": "\"string\""
        }
       ],
       "type": "table"
      }
     },
     "output_type": "display_data"
    }
   ],
   "source": [
    "df = spark.table(\"Users.meta_data\")\n",
    "display(df)"
   ]
  },
  {
   "cell_type": "code",
   "execution_count": 0,
   "metadata": {
    "application/vnd.databricks.v1+cell": {
     "cellMetadata": {
      "byteLimit": 2048000,
      "rowLimit": 10000
     },
     "inputWidgets": {},
     "nuid": "e2dd9098-4b66-4743-bc64-d80c82d715b3",
     "showTitle": false,
     "tableResultSettingsMap": {},
     "title": ""
    }
   },
   "outputs": [
    {
     "output_type": "stream",
     "name": "stdout",
     "output_type": "stream",
     "text": [
      "Created Table: User\n"
     ]
    }
   ],
   "source": [
    "from collections import defaultdict\n",
    "tables = defaultdict(list)\n",
    "for row in df.collect():\n",
    "    table_name = row['Raw Table Name']\n",
    "    column_name = row['Raw Table Column']\n",
    "    column_data_type = row['Raw Table Column Data Type']\n",
    "    tables[table_name].append(f\"{column_name} {column_data_type}\")\n",
    "for table_name, columns in tables.items():\n",
    "    col_def = \", \".join(columns)\n",
    "    drop_sql = f\"DROP TABLE IF EXISTS {table_name}\"\n",
    "    spark.sql(drop_sql)\n",
    "    create_sql = f\"CREATE TABLE {table_name} ({col_def})\"\n",
    "    spark.sql(create_sql)\n",
    "    print(f\"Created Table: {table_name}\")\n",
    "                              "
   ]
  }
 ],
 "metadata": {
  "application/vnd.databricks.v1+notebook": {
   "computePreferences": null,
   "dashboards": [],
   "environmentMetadata": {
    "base_environment": "",
    "environment_version": "2"
   },
   "inputWidgetPreferences": null,
   "language": "python",
   "notebookMetadata": {
    "pythonIndentUnit": 4
   },
   "notebookName": "Notebook6",
   "widgets": {}
  },
  "language_info": {
   "name": "python"
  }
 },
 "nbformat": 4,
 "nbformat_minor": 0
}