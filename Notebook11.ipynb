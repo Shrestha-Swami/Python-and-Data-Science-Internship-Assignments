{
 "cells": [
  {
   "cell_type": "code",
   "execution_count": 0,
   "metadata": {
    "application/vnd.databricks.v1+cell": {
     "cellMetadata": {
      "byteLimit": 2048000,
      "rowLimit": 10000
     },
     "inputWidgets": {},
     "nuid": "d7d2d79e-94fb-4f25-9ec5-35e6f17ab3d4",
     "showTitle": false,
     "tableResultSettingsMap": {},
     "title": ""
    }
   },
   "outputs": [
    {
     "output_type": "display_data",
     "data": {
      "text/html": [
       "<style scoped>\n",
       "  .table-result-container {\n",
       "    max-height: 300px;\n",
       "    overflow: auto;\n",
       "  }\n",
       "  table, th, td {\n",
       "    border: 1px solid black;\n",
       "    border-collapse: collapse;\n",
       "  }\n",
       "  th, td {\n",
       "    padding: 5px;\n",
       "  }\n",
       "  th {\n",
       "    text-align: left;\n",
       "  }\n",
       "</style><div class='table-result-container'><table class='table-result'><thead style='background-color: white'><tr><th>ProcessName</th><th>RawTableName</th><th>RawTableColumn</th><th>RawTableColumnDataType</th><th>Logic</th><th>CuratedTableName</th><th>CuratedTableColumn</th><th>CuratedTableColumnDataType</th></tr></thead><tbody><tr><td>EmployeeInfo</td><td>Employee</td><td>ID</td><td>STRING</td><td>ID is NOT NULL</td><td>cur_Employee</td><td>EmployeeID</td><td>STRING</td></tr><tr><td>EmployeeInfo</td><td>Employee</td><td>Name</td><td>STRING</td><td>null</td><td>cur_Employee</td><td>EmployeeName</td><td>STRING</td></tr><tr><td>SalesInfo</td><td>Sales</td><td>ID</td><td>INTEGER</td><td>ID is NOT NULL</td><td>cur_Sales</td><td>ItemID</td><td>INTEGER</td></tr><tr><td>SalesInfo</td><td>Sales</td><td>Name</td><td>STRING</td><td>null</td><td>cur_Sales</td><td>ItemName</td><td>STRING</td></tr><tr><td>SalesInfo</td><td>Sales</td><td>Txn_Date</td><td>DATE</td><td>null</td><td>cur_Sales</td><td>TransactionDate</td><td>DATE</td></tr></tbody></table></div>"
      ]
     },
     "metadata": {
      "application/vnd.databricks.v1+output": {
       "addedWidgets": {},
       "aggData": [],
       "aggError": "",
       "aggOverflow": false,
       "aggSchema": [],
       "aggSeriesLimitReached": false,
       "aggType": "",
       "arguments": {},
       "columnCustomDisplayInfos": {},
       "data": [
        [
         "EmployeeInfo",
         "Employee",
         "ID",
         "STRING",
         "ID is NOT NULL",
         "cur_Employee",
         "EmployeeID",
         "STRING"
        ],
        [
         "EmployeeInfo",
         "Employee",
         "Name",
         "STRING",
         null,
         "cur_Employee",
         "EmployeeName",
         "STRING"
        ],
        [
         "SalesInfo",
         "Sales",
         "ID",
         "INTEGER",
         "ID is NOT NULL",
         "cur_Sales",
         "ItemID",
         "INTEGER"
        ],
        [
         "SalesInfo",
         "Sales",
         "Name",
         "STRING",
         null,
         "cur_Sales",
         "ItemName",
         "STRING"
        ],
        [
         "SalesInfo",
         "Sales",
         "Txn_Date",
         "DATE",
         null,
         "cur_Sales",
         "TransactionDate",
         "DATE"
        ]
       ],
       "datasetInfos": [],
       "dbfsResultPath": null,
       "isJsonSchema": true,
       "metadata": {},
       "overflow": false,
       "plotOptions": {
        "customPlotOptions": {},
        "displayType": "table",
        "pivotAggregation": null,
        "pivotColumns": null,
        "xColumns": null,
        "yColumns": null
       },
       "removedWidgets": [],
       "schema": [
        {
         "metadata": "{}",
         "name": "ProcessName",
         "type": "\"string\""
        },
        {
         "metadata": "{}",
         "name": "RawTableName",
         "type": "\"string\""
        },
        {
         "metadata": "{}",
         "name": "RawTableColumn",
         "type": "\"string\""
        },
        {
         "metadata": "{}",
         "name": "RawTableColumnDataType",
         "type": "\"string\""
        },
        {
         "metadata": "{}",
         "name": "Logic",
         "type": "\"string\""
        },
        {
         "metadata": "{}",
         "name": "CuratedTableName",
         "type": "\"string\""
        },
        {
         "metadata": "{}",
         "name": "CuratedTableColumn",
         "type": "\"string\""
        },
        {
         "metadata": "{}",
         "name": "CuratedTableColumnDataType",
         "type": "\"string\""
        }
       ],
       "type": "table"
      }
     },
     "output_type": "display_data"
    }
   ],
   "source": [
    "df_metadata = spark.table(\"workspace.users.employee_and_sales_metadata\")\n",
    "display(df_metadata)"
   ]
  },
  {
   "cell_type": "code",
   "execution_count": 0,
   "metadata": {
    "application/vnd.databricks.v1+cell": {
     "cellMetadata": {
      "byteLimit": 2048000,
      "rowLimit": 10000
     },
     "inputWidgets": {},
     "nuid": "b42c2740-2d31-444e-8d96-e742fbf8a721",
     "showTitle": false,
     "tableResultSettingsMap": {},
     "title": ""
    }
   },
   "outputs": [],
   "source": [
    "def drop_and_create_tables(tables_dict):\n",
    "    for table_name, columns in tables_dict.items():\n",
    "        col_def = \", \".join(columns)\n",
    "        drop_sql = f\"DROP TABLE IF EXISTS {table_name}\"\n",
    "        create_sql = f\"CREATE TABLE {table_name} ({col_def})\"\n",
    "        \n",
    "        spark.sql(drop_sql)\n",
    "        spark.sql(create_sql)\n",
    "        print(f\"Created Table: {table_name}\")"
   ]
  },
  {
   "cell_type": "code",
   "execution_count": 0,
   "metadata": {
    "application/vnd.databricks.v1+cell": {
     "cellMetadata": {
      "byteLimit": 2048000,
      "rowLimit": 10000
     },
     "inputWidgets": {},
     "nuid": "3fb63fd7-f483-4ae5-8177-0ea04787ffa6",
     "showTitle": false,
     "tableResultSettingsMap": {},
     "title": ""
    }
   },
   "outputs": [
    {
     "output_type": "stream",
     "name": "stdout",
     "output_type": "stream",
     "text": [
      "Created Table: Employee\nCreated Table: Sales\nCreated Table: cur_Employee\nCreated Table: cur_Sales\n"
     ]
    }
   ],
   "source": [
    "from collections import defaultdict\n",
    "raw_tables = defaultdict(list)\n",
    "curated_tables = defaultdict(list)\n",
    "for row in df_metadata.collect():\n",
    "    #print(row)\n",
    "    table_name = row['RawTableName']\n",
    "    col_def = f\"{row['RawTableColumn']} {row['RawTableColumnDataType']}\"\n",
    "    raw_tables[table_name].append(col_def)\n",
    "    table_name = row['CuratedTableName']\n",
    "    col_def = f\"{row['CuratedTableColumn']} {row['CuratedTableColumnDataType']}\"\n",
    "    curated_tables[table_name].append(col_def)\n",
    "drop_and_create_tables(raw_tables)\n",
    "drop_and_create_tables(curated_tables)"
   ]
  },
  {
   "cell_type": "code",
   "execution_count": 0,
   "metadata": {
    "application/vnd.databricks.v1+cell": {
     "cellMetadata": {
      "byteLimit": 2048000,
      "implicitDf": true,
      "rowLimit": 10000
     },
     "inputWidgets": {},
     "nuid": "0440e0b7-9cff-4942-9653-fb99e485b0dd",
     "showTitle": false,
     "tableResultSettingsMap": {},
     "title": ""
    }
   },
   "outputs": [
    {
     "output_type": "display_data",
     "data": {
      "text/html": [
       "<style scoped>\n",
       "  .table-result-container {\n",
       "    max-height: 300px;\n",
       "    overflow: auto;\n",
       "  }\n",
       "  table, th, td {\n",
       "    border: 1px solid black;\n",
       "    border-collapse: collapse;\n",
       "  }\n",
       "  th, td {\n",
       "    padding: 5px;\n",
       "  }\n",
       "  th {\n",
       "    text-align: left;\n",
       "  }\n",
       "</style><div class='table-result-container'><table class='table-result'><thead style='background-color: white'><tr><th>num_affected_rows</th><th>num_inserted_rows</th></tr></thead><tbody><tr><td>1</td><td>1</td></tr></tbody></table></div>"
      ]
     },
     "metadata": {
      "application/vnd.databricks.v1+output": {
       "addedWidgets": {},
       "aggData": [],
       "aggError": "",
       "aggOverflow": false,
       "aggSchema": [],
       "aggSeriesLimitReached": false,
       "aggType": "",
       "arguments": {},
       "columnCustomDisplayInfos": {},
       "data": [
        [
         1,
         1
        ]
       ],
       "datasetInfos": [
        {
         "name": "_sqldf",
         "schema": {
          "fields": [
           {
            "metadata": {},
            "name": "num_affected_rows",
            "nullable": true,
            "type": "long"
           },
           {
            "metadata": {},
            "name": "num_inserted_rows",
            "nullable": true,
            "type": "long"
           }
          ],
          "type": "struct"
         },
         "tableIdentifier": null,
         "typeStr": "pyspark.sql.connect.dataframe.DataFrame"
        }
       ],
       "dbfsResultPath": null,
       "isJsonSchema": true,
       "metadata": {
        "createTempViewForImplicitDf": true,
        "dataframeName": "_sqldf",
        "executionCount": 107
       },
       "overflow": false,
       "plotOptions": {
        "customPlotOptions": {},
        "displayType": "table",
        "pivotAggregation": null,
        "pivotColumns": null,
        "xColumns": null,
        "yColumns": null
       },
       "removedWidgets": [],
       "schema": [
        {
         "metadata": "{}",
         "name": "num_affected_rows",
         "type": "\"long\""
        },
        {
         "metadata": "{}",
         "name": "num_inserted_rows",
         "type": "\"long\""
        }
       ],
       "type": "table"
      }
     },
     "output_type": "display_data"
    }
   ],
   "source": [
    "%sql\n",
    "insert into default.employee values('201', 'Neha'), ('202', 'Nakul');\n",
    "insert into default.employee(Name) values('Shreya');\n",
    "insert into default.sales values(101, 'Curd', '2025-07-05'), (102, 'Jam', '2025-07-09'), (103, 'Ketchup', '2025-06-09');\n",
    "insert into default.sales(Name, Txn_Date) values('Ghee', '2025-06-21');"
   ]
  },
  {
   "cell_type": "code",
   "execution_count": 0,
   "metadata": {
    "application/vnd.databricks.v1+cell": {
     "cellMetadata": {
      "byteLimit": 2048000,
      "implicitDf": true,
      "rowLimit": 10000
     },
     "inputWidgets": {},
     "nuid": "736b539c-78ab-41a8-b58c-1c715a08dd0c",
     "showTitle": false,
     "tableResultSettingsMap": {},
     "title": ""
    }
   },
   "outputs": [
    {
     "output_type": "display_data",
     "data": {
      "text/html": [
       "<style scoped>\n",
       "  .table-result-container {\n",
       "    max-height: 300px;\n",
       "    overflow: auto;\n",
       "  }\n",
       "  table, th, td {\n",
       "    border: 1px solid black;\n",
       "    border-collapse: collapse;\n",
       "  }\n",
       "  th, td {\n",
       "    padding: 5px;\n",
       "  }\n",
       "  th {\n",
       "    text-align: left;\n",
       "  }\n",
       "</style><div class='table-result-container'><table class='table-result'><thead style='background-color: white'><tr><th>ID</th><th>Name</th></tr></thead><tbody><tr><td>201</td><td>Neha</td></tr><tr><td>202</td><td>Nakul</td></tr><tr><td>null</td><td>Shreya</td></tr></tbody></table></div>"
      ]
     },
     "metadata": {
      "application/vnd.databricks.v1+output": {
       "addedWidgets": {},
       "aggData": [],
       "aggError": "",
       "aggOverflow": false,
       "aggSchema": [],
       "aggSeriesLimitReached": false,
       "aggType": "",
       "arguments": {},
       "columnCustomDisplayInfos": {},
       "data": [
        [
         "201",
         "Neha"
        ],
        [
         "202",
         "Nakul"
        ],
        [
         null,
         "Shreya"
        ]
       ],
       "datasetInfos": [
        {
         "name": "_sqldf",
         "schema": {
          "fields": [
           {
            "metadata": {},
            "name": "ID",
            "nullable": true,
            "type": "string"
           },
           {
            "metadata": {},
            "name": "Name",
            "nullable": true,
            "type": "string"
           }
          ],
          "type": "struct"
         },
         "tableIdentifier": null,
         "typeStr": "pyspark.sql.connect.dataframe.DataFrame"
        }
       ],
       "dbfsResultPath": null,
       "isJsonSchema": true,
       "metadata": {
        "createTempViewForImplicitDf": true,
        "dataframeName": "_sqldf",
        "executionCount": 108
       },
       "overflow": false,
       "plotOptions": {
        "customPlotOptions": {},
        "displayType": "table",
        "pivotAggregation": null,
        "pivotColumns": null,
        "xColumns": null,
        "yColumns": null
       },
       "removedWidgets": [],
       "schema": [
        {
         "metadata": "{}",
         "name": "ID",
         "type": "\"string\""
        },
        {
         "metadata": "{}",
         "name": "Name",
         "type": "\"string\""
        }
       ],
       "type": "table"
      }
     },
     "output_type": "display_data"
    }
   ],
   "source": [
    "%sql\n",
    "Select * from default.employee;"
   ]
  },
  {
   "cell_type": "code",
   "execution_count": 0,
   "metadata": {
    "application/vnd.databricks.v1+cell": {
     "cellMetadata": {
      "byteLimit": 2048000,
      "implicitDf": true,
      "rowLimit": 10000
     },
     "inputWidgets": {},
     "nuid": "917dc14d-ee5b-4e4b-975d-c8170cce1df7",
     "showTitle": false,
     "tableResultSettingsMap": {},
     "title": ""
    }
   },
   "outputs": [
    {
     "output_type": "display_data",
     "data": {
      "text/html": [
       "<style scoped>\n",
       "  .table-result-container {\n",
       "    max-height: 300px;\n",
       "    overflow: auto;\n",
       "  }\n",
       "  table, th, td {\n",
       "    border: 1px solid black;\n",
       "    border-collapse: collapse;\n",
       "  }\n",
       "  th, td {\n",
       "    padding: 5px;\n",
       "  }\n",
       "  th {\n",
       "    text-align: left;\n",
       "  }\n",
       "</style><div class='table-result-container'><table class='table-result'><thead style='background-color: white'><tr><th>ID</th><th>Name</th><th>Txn_Date</th></tr></thead><tbody><tr><td>101</td><td>Curd</td><td>2025-07-05</td></tr><tr><td>102</td><td>Jam</td><td>2025-07-09</td></tr><tr><td>103</td><td>Ketchup</td><td>2025-06-09</td></tr><tr><td>null</td><td>Ghee</td><td>2025-06-21</td></tr></tbody></table></div>"
      ]
     },
     "metadata": {
      "application/vnd.databricks.v1+output": {
       "addedWidgets": {},
       "aggData": [],
       "aggError": "",
       "aggOverflow": false,
       "aggSchema": [],
       "aggSeriesLimitReached": false,
       "aggType": "",
       "arguments": {},
       "columnCustomDisplayInfos": {},
       "data": [
        [
         101,
         "Curd",
         "2025-07-05"
        ],
        [
         102,
         "Jam",
         "2025-07-09"
        ],
        [
         103,
         "Ketchup",
         "2025-06-09"
        ],
        [
         null,
         "Ghee",
         "2025-06-21"
        ]
       ],
       "datasetInfos": [
        {
         "name": "_sqldf",
         "schema": {
          "fields": [
           {
            "metadata": {},
            "name": "ID",
            "nullable": true,
            "type": "integer"
           },
           {
            "metadata": {},
            "name": "Name",
            "nullable": true,
            "type": "string"
           },
           {
            "metadata": {},
            "name": "Txn_Date",
            "nullable": true,
            "type": "date"
           }
          ],
          "type": "struct"
         },
         "tableIdentifier": null,
         "typeStr": "pyspark.sql.connect.dataframe.DataFrame"
        }
       ],
       "dbfsResultPath": null,
       "isJsonSchema": true,
       "metadata": {
        "createTempViewForImplicitDf": true,
        "dataframeName": "_sqldf",
        "executionCount": 109
       },
       "overflow": false,
       "plotOptions": {
        "customPlotOptions": {},
        "displayType": "table",
        "pivotAggregation": null,
        "pivotColumns": null,
        "xColumns": null,
        "yColumns": null
       },
       "removedWidgets": [],
       "schema": [
        {
         "metadata": "{}",
         "name": "ID",
         "type": "\"integer\""
        },
        {
         "metadata": "{}",
         "name": "Name",
         "type": "\"string\""
        },
        {
         "metadata": "{}",
         "name": "Txn_Date",
         "type": "\"date\""
        }
       ],
       "type": "table"
      }
     },
     "output_type": "display_data"
    }
   ],
   "source": [
    "%sql\n",
    "Select * from default.sales"
   ]
  },
  {
   "cell_type": "code",
   "execution_count": 0,
   "metadata": {
    "application/vnd.databricks.v1+cell": {
     "cellMetadata": {
      "byteLimit": 2048000,
      "rowLimit": 10000
     },
     "inputWidgets": {},
     "nuid": "f38108ef-b618-4ba6-9fc7-540f14553f45",
     "showTitle": false,
     "tableResultSettingsMap": {},
     "title": ""
    }
   },
   "outputs": [
    {
     "output_type": "display_data",
     "data": {
      "text/html": [
       "<style scoped>\n",
       "  .table-result-container {\n",
       "    max-height: 300px;\n",
       "    overflow: auto;\n",
       "  }\n",
       "  table, th, td {\n",
       "    border: 1px solid black;\n",
       "    border-collapse: collapse;\n",
       "  }\n",
       "  th, td {\n",
       "    padding: 5px;\n",
       "  }\n",
       "  th {\n",
       "    text-align: left;\n",
       "  }\n",
       "</style><div class='table-result-container'><table class='table-result'><thead style='background-color: white'><tr><th>ProcessName</th><th>RawTableName</th><th>RawTableColumn</th><th>RawTableColumnDataType</th><th>Logic</th><th>CuratedTableName</th><th>CuratedTableColumn</th><th>CuratedTableColumnDataType</th></tr></thead><tbody><tr><td>EmployeeInfo</td><td>Employee</td><td>ID</td><td>STRING</td><td>ID is NOT NULL</td><td>cur_Employee</td><td>EmployeeID</td><td>STRING</td></tr><tr><td>EmployeeInfo</td><td>Employee</td><td>Name</td><td>STRING</td><td>null</td><td>cur_Employee</td><td>EmployeeName</td><td>STRING</td></tr><tr><td>SalesInfo</td><td>Sales</td><td>ID</td><td>INTEGER</td><td>ID is NOT NULL</td><td>cur_Sales</td><td>ItemID</td><td>INTEGER</td></tr><tr><td>SalesInfo</td><td>Sales</td><td>Name</td><td>STRING</td><td>null</td><td>cur_Sales</td><td>ItemName</td><td>STRING</td></tr><tr><td>SalesInfo</td><td>Sales</td><td>Txn_Date</td><td>DATE</td><td>null</td><td>cur_Sales</td><td>TransactionDate</td><td>DATE</td></tr></tbody></table></div>"
      ]
     },
     "metadata": {
      "application/vnd.databricks.v1+output": {
       "addedWidgets": {},
       "aggData": [],
       "aggError": "",
       "aggOverflow": false,
       "aggSchema": [],
       "aggSeriesLimitReached": false,
       "aggType": "",
       "arguments": {},
       "columnCustomDisplayInfos": {},
       "data": [
        [
         "EmployeeInfo",
         "Employee",
         "ID",
         "STRING",
         "ID is NOT NULL",
         "cur_Employee",
         "EmployeeID",
         "STRING"
        ],
        [
         "EmployeeInfo",
         "Employee",
         "Name",
         "STRING",
         null,
         "cur_Employee",
         "EmployeeName",
         "STRING"
        ],
        [
         "SalesInfo",
         "Sales",
         "ID",
         "INTEGER",
         "ID is NOT NULL",
         "cur_Sales",
         "ItemID",
         "INTEGER"
        ],
        [
         "SalesInfo",
         "Sales",
         "Name",
         "STRING",
         null,
         "cur_Sales",
         "ItemName",
         "STRING"
        ],
        [
         "SalesInfo",
         "Sales",
         "Txn_Date",
         "DATE",
         null,
         "cur_Sales",
         "TransactionDate",
         "DATE"
        ]
       ],
       "datasetInfos": [],
       "dbfsResultPath": null,
       "isJsonSchema": true,
       "metadata": {},
       "overflow": false,
       "plotOptions": {
        "customPlotOptions": {},
        "displayType": "table",
        "pivotAggregation": null,
        "pivotColumns": null,
        "xColumns": null,
        "yColumns": null
       },
       "removedWidgets": [],
       "schema": [
        {
         "metadata": "{}",
         "name": "ProcessName",
         "type": "\"string\""
        },
        {
         "metadata": "{}",
         "name": "RawTableName",
         "type": "\"string\""
        },
        {
         "metadata": "{}",
         "name": "RawTableColumn",
         "type": "\"string\""
        },
        {
         "metadata": "{}",
         "name": "RawTableColumnDataType",
         "type": "\"string\""
        },
        {
         "metadata": "{}",
         "name": "Logic",
         "type": "\"string\""
        },
        {
         "metadata": "{}",
         "name": "CuratedTableName",
         "type": "\"string\""
        },
        {
         "metadata": "{}",
         "name": "CuratedTableColumn",
         "type": "\"string\""
        },
        {
         "metadata": "{}",
         "name": "CuratedTableColumnDataType",
         "type": "\"string\""
        }
       ],
       "type": "table"
      }
     },
     "output_type": "display_data"
    }
   ],
   "source": [
    "dbutils.widgets.text(\"process_name\", \" \", \"Enter process name\")\n",
    "process_name = dbutils.widgets.get(\"process_name\")\n",
    "input_process_names = [name.strip() for name in process_name.split(\",\") if name.strip()]\n",
    "filtered_df = df_metadata.filter(df_metadata['processname'].isin(input_process_names))\n",
    "display(filtered_df)"
   ]
  },
  {
   "cell_type": "code",
   "execution_count": 0,
   "metadata": {
    "application/vnd.databricks.v1+cell": {
     "cellMetadata": {
      "byteLimit": 2048000,
      "rowLimit": 10000
     },
     "inputWidgets": {},
     "nuid": "6842bc74-e3a9-46e9-bed8-5a61281a88a4",
     "showTitle": false,
     "tableResultSettingsMap": {},
     "title": ""
    }
   },
   "outputs": [
    {
     "output_type": "stream",
     "name": "stdout",
     "output_type": "stream",
     "text": [
      "[Row(ProcessName='EmployeeInfo', RawTableName='Employee', RawTableColumn='ID', RawTableColumnDataType='STRING', Logic='ID is NOT NULL', CuratedTableName='cur_Employee', CuratedTableColumn='EmployeeID', CuratedTableColumnDataType='STRING'), Row(ProcessName='EmployeeInfo', RawTableName='Employee', RawTableColumn='Name', RawTableColumnDataType='STRING', Logic=None, CuratedTableName='cur_Employee', CuratedTableColumn='EmployeeName', CuratedTableColumnDataType='STRING')]\n"
     ]
    },
    {
     "output_type": "display_data",
     "data": {
      "text/html": [
       "<style scoped>\n",
       "  .table-result-container {\n",
       "    max-height: 300px;\n",
       "    overflow: auto;\n",
       "  }\n",
       "  table, th, td {\n",
       "    border: 1px solid black;\n",
       "    border-collapse: collapse;\n",
       "  }\n",
       "  th, td {\n",
       "    padding: 5px;\n",
       "  }\n",
       "  th {\n",
       "    text-align: left;\n",
       "  }\n",
       "</style><div class='table-result-container'><table class='table-result'><thead style='background-color: white'><tr><th>ID</th><th>Name</th></tr></thead><tbody><tr><td>201</td><td>Neha</td></tr><tr><td>202</td><td>Nakul</td></tr><tr><td>null</td><td>Shreya</td></tr></tbody></table></div>"
      ]
     },
     "metadata": {
      "application/vnd.databricks.v1+output": {
       "addedWidgets": {},
       "aggData": [],
       "aggError": "",
       "aggOverflow": false,
       "aggSchema": [],
       "aggSeriesLimitReached": false,
       "aggType": "",
       "arguments": {},
       "columnCustomDisplayInfos": {},
       "data": [
        [
         "201",
         "Neha"
        ],
        [
         "202",
         "Nakul"
        ],
        [
         null,
         "Shreya"
        ]
       ],
       "datasetInfos": [],
       "dbfsResultPath": null,
       "isJsonSchema": true,
       "metadata": {},
       "overflow": false,
       "plotOptions": {
        "customPlotOptions": {},
        "displayType": "table",
        "pivotAggregation": null,
        "pivotColumns": null,
        "xColumns": null,
        "yColumns": null
       },
       "removedWidgets": [],
       "schema": [
        {
         "metadata": "{}",
         "name": "ID",
         "type": "\"string\""
        },
        {
         "metadata": "{}",
         "name": "Name",
         "type": "\"string\""
        }
       ],
       "type": "table"
      }
     },
     "output_type": "display_data"
    },
    {
     "output_type": "stream",
     "name": "stdout",
     "output_type": "stream",
     "text": [
      "['ID', 'Name']\n[Column<'ID AS EmployeeID'>, Column<'Name AS EmployeeName'>]\n['ID is NOT NULL']\n"
     ]
    },
    {
     "output_type": "display_data",
     "data": {
      "text/html": [
       "<style scoped>\n",
       "  .table-result-container {\n",
       "    max-height: 300px;\n",
       "    overflow: auto;\n",
       "  }\n",
       "  table, th, td {\n",
       "    border: 1px solid black;\n",
       "    border-collapse: collapse;\n",
       "  }\n",
       "  th, td {\n",
       "    padding: 5px;\n",
       "  }\n",
       "  th {\n",
       "    text-align: left;\n",
       "  }\n",
       "</style><div class='table-result-container'><table class='table-result'><thead style='background-color: white'><tr><th>EmployeeID</th><th>EmployeeName</th></tr></thead><tbody><tr><td>201</td><td>Neha</td></tr><tr><td>202</td><td>Nakul</td></tr></tbody></table></div>"
      ]
     },
     "metadata": {
      "application/vnd.databricks.v1+output": {
       "addedWidgets": {},
       "aggData": [],
       "aggError": "",
       "aggOverflow": false,
       "aggSchema": [],
       "aggSeriesLimitReached": false,
       "aggType": "",
       "arguments": {},
       "columnCustomDisplayInfos": {},
       "data": [
        [
         "201",
         "Neha"
        ],
        [
         "202",
         "Nakul"
        ]
       ],
       "datasetInfos": [],
       "dbfsResultPath": null,
       "isJsonSchema": true,
       "metadata": {},
       "overflow": false,
       "plotOptions": {
        "customPlotOptions": {},
        "displayType": "table",
        "pivotAggregation": null,
        "pivotColumns": null,
        "xColumns": null,
        "yColumns": null
       },
       "removedWidgets": [],
       "schema": [
        {
         "metadata": "{}",
         "name": "EmployeeID",
         "type": "\"string\""
        },
        {
         "metadata": "{}",
         "name": "EmployeeName",
         "type": "\"string\""
        }
       ],
       "type": "table"
      }
     },
     "output_type": "display_data"
    },
    {
     "output_type": "stream",
     "name": "stdout",
     "output_type": "stream",
     "text": [
      "Transferred data from `Employee` to `cur_Employee`\n[Row(ProcessName='SalesInfo', RawTableName='Sales', RawTableColumn='ID', RawTableColumnDataType='INTEGER', Logic='ID is NOT NULL', CuratedTableName='cur_Sales', CuratedTableColumn='ItemID', CuratedTableColumnDataType='INTEGER'), Row(ProcessName='SalesInfo', RawTableName='Sales', RawTableColumn='Name', RawTableColumnDataType='STRING', Logic=None, CuratedTableName='cur_Sales', CuratedTableColumn='ItemName', CuratedTableColumnDataType='STRING'), Row(ProcessName='SalesInfo', RawTableName='Sales', RawTableColumn='Txn_Date', RawTableColumnDataType='DATE', Logic=None, CuratedTableName='cur_Sales', CuratedTableColumn='TransactionDate', CuratedTableColumnDataType='DATE')]\n"
     ]
    },
    {
     "output_type": "display_data",
     "data": {
      "text/html": [
       "<style scoped>\n",
       "  .table-result-container {\n",
       "    max-height: 300px;\n",
       "    overflow: auto;\n",
       "  }\n",
       "  table, th, td {\n",
       "    border: 1px solid black;\n",
       "    border-collapse: collapse;\n",
       "  }\n",
       "  th, td {\n",
       "    padding: 5px;\n",
       "  }\n",
       "  th {\n",
       "    text-align: left;\n",
       "  }\n",
       "</style><div class='table-result-container'><table class='table-result'><thead style='background-color: white'><tr><th>ID</th><th>Name</th><th>Txn_Date</th></tr></thead><tbody><tr><td>101</td><td>Curd</td><td>2025-07-05</td></tr><tr><td>102</td><td>Jam</td><td>2025-07-09</td></tr><tr><td>103</td><td>Ketchup</td><td>2025-06-09</td></tr><tr><td>null</td><td>Ghee</td><td>2025-06-21</td></tr></tbody></table></div>"
      ]
     },
     "metadata": {
      "application/vnd.databricks.v1+output": {
       "addedWidgets": {},
       "aggData": [],
       "aggError": "",
       "aggOverflow": false,
       "aggSchema": [],
       "aggSeriesLimitReached": false,
       "aggType": "",
       "arguments": {},
       "columnCustomDisplayInfos": {},
       "data": [
        [
         101,
         "Curd",
         "2025-07-05"
        ],
        [
         102,
         "Jam",
         "2025-07-09"
        ],
        [
         103,
         "Ketchup",
         "2025-06-09"
        ],
        [
         null,
         "Ghee",
         "2025-06-21"
        ]
       ],
       "datasetInfos": [],
       "dbfsResultPath": null,
       "isJsonSchema": true,
       "metadata": {},
       "overflow": false,
       "plotOptions": {
        "customPlotOptions": {},
        "displayType": "table",
        "pivotAggregation": null,
        "pivotColumns": null,
        "xColumns": null,
        "yColumns": null
       },
       "removedWidgets": [],
       "schema": [
        {
         "metadata": "{}",
         "name": "ID",
         "type": "\"integer\""
        },
        {
         "metadata": "{}",
         "name": "Name",
         "type": "\"string\""
        },
        {
         "metadata": "{}",
         "name": "Txn_Date",
         "type": "\"date\""
        }
       ],
       "type": "table"
      }
     },
     "output_type": "display_data"
    },
    {
     "output_type": "stream",
     "name": "stdout",
     "output_type": "stream",
     "text": [
      "['ID', 'Name', 'Txn_Date']\n[Column<'ID AS ItemID'>, Column<'Name AS ItemName'>, Column<'Txn_Date AS TransactionDate'>]\n['ID is NOT NULL']\n"
     ]
    },
    {
     "output_type": "display_data",
     "data": {
      "text/html": [
       "<style scoped>\n",
       "  .table-result-container {\n",
       "    max-height: 300px;\n",
       "    overflow: auto;\n",
       "  }\n",
       "  table, th, td {\n",
       "    border: 1px solid black;\n",
       "    border-collapse: collapse;\n",
       "  }\n",
       "  th, td {\n",
       "    padding: 5px;\n",
       "  }\n",
       "  th {\n",
       "    text-align: left;\n",
       "  }\n",
       "</style><div class='table-result-container'><table class='table-result'><thead style='background-color: white'><tr><th>ItemID</th><th>ItemName</th><th>TransactionDate</th></tr></thead><tbody><tr><td>101</td><td>Curd</td><td>2025-07-05</td></tr><tr><td>102</td><td>Jam</td><td>2025-07-09</td></tr><tr><td>103</td><td>Ketchup</td><td>2025-06-09</td></tr></tbody></table></div>"
      ]
     },
     "metadata": {
      "application/vnd.databricks.v1+output": {
       "addedWidgets": {},
       "aggData": [],
       "aggError": "",
       "aggOverflow": false,
       "aggSchema": [],
       "aggSeriesLimitReached": false,
       "aggType": "",
       "arguments": {},
       "columnCustomDisplayInfos": {},
       "data": [
        [
         101,
         "Curd",
         "2025-07-05"
        ],
        [
         102,
         "Jam",
         "2025-07-09"
        ],
        [
         103,
         "Ketchup",
         "2025-06-09"
        ]
       ],
       "datasetInfos": [],
       "dbfsResultPath": null,
       "isJsonSchema": true,
       "metadata": {},
       "overflow": false,
       "plotOptions": {
        "customPlotOptions": {},
        "displayType": "table",
        "pivotAggregation": null,
        "pivotColumns": null,
        "xColumns": null,
        "yColumns": null
       },
       "removedWidgets": [],
       "schema": [
        {
         "metadata": "{}",
         "name": "ItemID",
         "type": "\"integer\""
        },
        {
         "metadata": "{}",
         "name": "ItemName",
         "type": "\"string\""
        },
        {
         "metadata": "{}",
         "name": "TransactionDate",
         "type": "\"date\""
        }
       ],
       "type": "table"
      }
     },
     "output_type": "display_data"
    },
    {
     "output_type": "stream",
     "name": "stdout",
     "output_type": "stream",
     "text": [
      "Transferred data from `Sales` to `cur_Sales`\n"
     ]
    }
   ],
   "source": [
    "from pyspark.sql.functions import col\n",
    "raw_tables_list = [row[\"RawTableName\"] for row in filtered_df.select(\"RawTableName\").distinct().collect()]\n",
    "\n",
    "for raw_table in raw_tables_list:\n",
    "    table_meta = filtered_df.filter(filtered_df['RawTableName'] == raw_table).collect()\n",
    "    print(table_meta)\n",
    "    raw_df = spark.table(raw_table)\n",
    "    display(raw_df)\n",
    "    raw_columns = raw_df.columns  # for validation\n",
    "    print(raw_columns)\n",
    "    select_exprs = []\n",
    "    logic_conditions = []\n",
    "\n",
    "    for row in table_meta:\n",
    "        raw_col = row['RawTableColumn']\n",
    "        curated_col = row['CuratedTableColumn']\n",
    "        logic = row['Logic']\n",
    "\n",
    "        if raw_col in raw_columns:\n",
    "            select_exprs.append(col(raw_col).alias(curated_col))\n",
    "        else:\n",
    "            print(f\"Column `{raw_col}` not found in table `{raw_table}`. Skipping.\")\n",
    "            continue\n",
    "\n",
    "        if logic and logic.strip().lower() != \"null\":\n",
    "            logic_conditions.append(logic)\n",
    "\n",
    "    if not select_exprs:\n",
    "        print(f\"No valid columns found for table `{raw_table}`. Skipping.\")\n",
    "        continue\n",
    "    # print(select_exprs)\n",
    "    # print(logic_conditions)\n",
    "\n",
    "    final_df = raw_df.filter(\" AND \".join(logic_conditions)) if logic_conditions else raw_df\n",
    "    final_df = final_df.select(*select_exprs)\n",
    "\n",
    "    curated_table = table_meta[0]['CuratedTableName']\n",
    "    final_df.write.mode(\"append\").insertInto(curated_table)\n",
    "    display(final_df)\n",
    "    print(f\"Transferred data from `{raw_table}` to `{curated_table}`\")\n"
   ]
  },
  {
   "cell_type": "code",
   "execution_count": 0,
   "metadata": {
    "application/vnd.databricks.v1+cell": {
     "cellMetadata": {
      "byteLimit": 2048000,
      "implicitDf": true,
      "rowLimit": 10000
     },
     "inputWidgets": {},
     "nuid": "ae4a44fd-b0a9-4ef6-b3c9-1b0f7e7ca2d8",
     "showTitle": false,
     "tableResultSettingsMap": {},
     "title": ""
    }
   },
   "outputs": [
    {
     "output_type": "display_data",
     "data": {
      "text/html": [
       "<style scoped>\n",
       "  .table-result-container {\n",
       "    max-height: 300px;\n",
       "    overflow: auto;\n",
       "  }\n",
       "  table, th, td {\n",
       "    border: 1px solid black;\n",
       "    border-collapse: collapse;\n",
       "  }\n",
       "  th, td {\n",
       "    padding: 5px;\n",
       "  }\n",
       "  th {\n",
       "    text-align: left;\n",
       "  }\n",
       "</style><div class='table-result-container'><table class='table-result'><thead style='background-color: white'><tr><th>ItemID</th><th>ItemName</th><th>TransactionDate</th></tr></thead><tbody><tr><td>101</td><td>Curd</td><td>2025-07-05</td></tr><tr><td>102</td><td>Jam</td><td>2025-07-09</td></tr><tr><td>103</td><td>Ketchup</td><td>2025-06-09</td></tr></tbody></table></div>"
      ]
     },
     "metadata": {
      "application/vnd.databricks.v1+output": {
       "addedWidgets": {},
       "aggData": [],
       "aggError": "",
       "aggOverflow": false,
       "aggSchema": [],
       "aggSeriesLimitReached": false,
       "aggType": "",
       "arguments": {},
       "columnCustomDisplayInfos": {},
       "data": [
        [
         101,
         "Curd",
         "2025-07-05"
        ],
        [
         102,
         "Jam",
         "2025-07-09"
        ],
        [
         103,
         "Ketchup",
         "2025-06-09"
        ]
       ],
       "datasetInfos": [
        {
         "name": "_sqldf",
         "schema": {
          "fields": [
           {
            "metadata": {},
            "name": "ItemID",
            "nullable": true,
            "type": "integer"
           },
           {
            "metadata": {},
            "name": "ItemName",
            "nullable": true,
            "type": "string"
           },
           {
            "metadata": {},
            "name": "TransactionDate",
            "nullable": true,
            "type": "date"
           }
          ],
          "type": "struct"
         },
         "tableIdentifier": null,
         "typeStr": "pyspark.sql.connect.dataframe.DataFrame"
        }
       ],
       "dbfsResultPath": null,
       "isJsonSchema": true,
       "metadata": {
        "createTempViewForImplicitDf": true,
        "dataframeName": "_sqldf",
        "executionCount": 112
       },
       "overflow": false,
       "plotOptions": {
        "customPlotOptions": {},
        "displayType": "table",
        "pivotAggregation": null,
        "pivotColumns": null,
        "xColumns": null,
        "yColumns": null
       },
       "removedWidgets": [],
       "schema": [
        {
         "metadata": "{}",
         "name": "ItemID",
         "type": "\"integer\""
        },
        {
         "metadata": "{}",
         "name": "ItemName",
         "type": "\"string\""
        },
        {
         "metadata": "{}",
         "name": "TransactionDate",
         "type": "\"date\""
        }
       ],
       "type": "table"
      }
     },
     "output_type": "display_data"
    }
   ],
   "source": [
    "%sql\n",
    "select * from cur_sales;\n"
   ]
  },
  {
   "cell_type": "code",
   "execution_count": 0,
   "metadata": {
    "application/vnd.databricks.v1+cell": {
     "cellMetadata": {
      "byteLimit": 2048000,
      "implicitDf": true,
      "rowLimit": 10000
     },
     "inputWidgets": {},
     "nuid": "a6504d7d-95ba-46c1-8f12-cd7cfa7baa30",
     "showTitle": false,
     "tableResultSettingsMap": {},
     "title": ""
    }
   },
   "outputs": [
    {
     "output_type": "display_data",
     "data": {
      "text/html": [
       "<style scoped>\n",
       "  .table-result-container {\n",
       "    max-height: 300px;\n",
       "    overflow: auto;\n",
       "  }\n",
       "  table, th, td {\n",
       "    border: 1px solid black;\n",
       "    border-collapse: collapse;\n",
       "  }\n",
       "  th, td {\n",
       "    padding: 5px;\n",
       "  }\n",
       "  th {\n",
       "    text-align: left;\n",
       "  }\n",
       "</style><div class='table-result-container'><table class='table-result'><thead style='background-color: white'><tr><th>EmployeeID</th><th>EmployeeName</th></tr></thead><tbody><tr><td>201</td><td>Neha</td></tr><tr><td>202</td><td>Nakul</td></tr></tbody></table></div>"
      ]
     },
     "metadata": {
      "application/vnd.databricks.v1+output": {
       "addedWidgets": {},
       "aggData": [],
       "aggError": "",
       "aggOverflow": false,
       "aggSchema": [],
       "aggSeriesLimitReached": false,
       "aggType": "",
       "arguments": {},
       "columnCustomDisplayInfos": {},
       "data": [
        [
         "201",
         "Neha"
        ],
        [
         "202",
         "Nakul"
        ]
       ],
       "datasetInfos": [
        {
         "name": "_sqldf",
         "schema": {
          "fields": [
           {
            "metadata": {},
            "name": "EmployeeID",
            "nullable": true,
            "type": "string"
           },
           {
            "metadata": {},
            "name": "EmployeeName",
            "nullable": true,
            "type": "string"
           }
          ],
          "type": "struct"
         },
         "tableIdentifier": null,
         "typeStr": "pyspark.sql.connect.dataframe.DataFrame"
        }
       ],
       "dbfsResultPath": null,
       "isJsonSchema": true,
       "metadata": {
        "createTempViewForImplicitDf": true,
        "dataframeName": "_sqldf",
        "executionCount": 113
       },
       "overflow": false,
       "plotOptions": {
        "customPlotOptions": {},
        "displayType": "table",
        "pivotAggregation": null,
        "pivotColumns": null,
        "xColumns": null,
        "yColumns": null
       },
       "removedWidgets": [],
       "schema": [
        {
         "metadata": "{}",
         "name": "EmployeeID",
         "type": "\"string\""
        },
        {
         "metadata": "{}",
         "name": "EmployeeName",
         "type": "\"string\""
        }
       ],
       "type": "table"
      }
     },
     "output_type": "display_data"
    }
   ],
   "source": [
    "%sql\n",
    "Select * from cur_Employee;"
   ]
  }
 ],
 "metadata": {
  "application/vnd.databricks.v1+notebook": {
   "computePreferences": null,
   "dashboards": [],
   "environmentMetadata": {
    "base_environment": "",
    "environment_version": "2"
   },
   "inputWidgetPreferences": null,
   "language": "python",
   "notebookMetadata": {
    "mostRecentlyExecutedCommandWithImplicitDF": {
     "commandId": 5344379996853594,
     "dataframes": [
      "_sqldf"
     ]
    },
    "pythonIndentUnit": 4
   },
   "notebookName": "Untitled Notebook 2025-07-10 09:42:55",
   "widgets": {
    "process_name": {
     "currentValue": "SalesInfo, EmployeeInfo",
     "nuid": "3cdcc57b-e6b3-483b-9c8a-05661ee9f349",
     "typedWidgetInfo": {
      "autoCreated": false,
      "defaultValue": " ",
      "label": "Enter process name",
      "name": "process_name",
      "options": {
       "widgetDisplayType": "Text",
       "validationRegex": null
      },
      "parameterDataType": "String"
     },
     "widgetInfo": {
      "widgetType": "text",
      "defaultValue": " ",
      "label": "Enter process name",
      "name": "process_name",
      "options": {
       "widgetType": "text",
       "autoCreated": null,
       "validationRegex": null
      }
     }
    }
   }
  },
  "language_info": {
   "name": "python"
  }
 },
 "nbformat": 4,
 "nbformat_minor": 0
}