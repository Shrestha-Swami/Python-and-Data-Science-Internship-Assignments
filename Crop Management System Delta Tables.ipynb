{
 "cells": [
  {
   "cell_type": "code",
   "execution_count": 0,
   "metadata": {
    "application/vnd.databricks.v1+cell": {
     "cellMetadata": {
      "byteLimit": 2048000,
      "rowLimit": 10000
     },
     "inputWidgets": {},
     "nuid": "e9437b07-a84a-45ff-b8b0-7cd3c4de477f",
     "showTitle": false,
     "tableResultSettingsMap": {},
     "title": ""
    }
   },
   "outputs": [
    {
     "output_type": "display_data",
     "data": {
      "text/html": [
       "<style scoped>\n",
       "  .table-result-container {\n",
       "    max-height: 300px;\n",
       "    overflow: auto;\n",
       "  }\n",
       "  table, th, td {\n",
       "    border: 1px solid black;\n",
       "    border-collapse: collapse;\n",
       "  }\n",
       "  th, td {\n",
       "    padding: 5px;\n",
       "  }\n",
       "  th {\n",
       "    text-align: left;\n",
       "  }\n",
       "</style><div class='table-result-container'><table class='table-result'><thead style='background-color: white'><tr><th>CropID</th><th>CropName</th><th>Variety</th></tr></thead><tbody><tr><td>1</td><td>Paddy</td><td>Common</td></tr><tr><td>2</td><td>Wheat</td><td>General</td></tr><tr><td>3</td><td>Bajra</td><td>General</td></tr><tr><td>4</td><td>Cotton</td><td>Medium Staple</td></tr><tr><td>5</td><td>Maize</td><td>General</td></tr><tr><td>6</td><td>Gram</td><td>General</td></tr><tr><td>7</td><td>Soyabean</td><td>Yellow</td></tr><tr><td>8</td><td>Jowar</td><td>General</td></tr><tr><td>9</td><td>Sesamum</td><td>General</td></tr><tr><td>10</td><td>Groundnut</td><td>General</td></tr></tbody></table></div>"
      ]
     },
     "metadata": {
      "application/vnd.databricks.v1+output": {
       "addedWidgets": {},
       "aggData": [],
       "aggError": "",
       "aggOverflow": false,
       "aggSchema": [],
       "aggSeriesLimitReached": false,
       "aggType": "",
       "arguments": {},
       "columnCustomDisplayInfos": {},
       "data": [
        [
         1,
         "Paddy",
         "Common"
        ],
        [
         2,
         "Wheat",
         "General"
        ],
        [
         3,
         "Bajra",
         "General"
        ],
        [
         4,
         "Cotton",
         "Medium Staple"
        ],
        [
         5,
         "Maize",
         "General"
        ],
        [
         6,
         "Gram",
         "General"
        ],
        [
         7,
         "Soyabean",
         "Yellow"
        ],
        [
         8,
         "Jowar",
         "General"
        ],
        [
         9,
         "Sesamum",
         "General"
        ],
        [
         10,
         "Groundnut",
         "General"
        ]
       ],
       "datasetInfos": [],
       "dbfsResultPath": null,
       "isJsonSchema": true,
       "metadata": {},
       "overflow": false,
       "plotOptions": {
        "customPlotOptions": {},
        "displayType": "table",
        "pivotAggregation": null,
        "pivotColumns": null,
        "xColumns": null,
        "yColumns": null
       },
       "removedWidgets": [],
       "schema": [
        {
         "metadata": "{}",
         "name": "CropID",
         "type": "\"integer\""
        },
        {
         "metadata": "{}",
         "name": "CropName",
         "type": "\"string\""
        },
        {
         "metadata": "{}",
         "name": "Variety",
         "type": "\"string\""
        }
       ],
       "type": "table"
      }
     },
     "output_type": "display_data"
    }
   ],
   "source": [
    "# read the crop csv file(prints the data to understand the content) :\n",
    "dim_crop = spark.read.csv(\"/Volumes/workspace/crop_management_system/dimension_volume/Dim_Crop.csv\", header=True, inferSchema=True)\n",
    "display(dim_crop)"
   ]
  },
  {
   "cell_type": "code",
   "execution_count": 0,
   "metadata": {
    "application/vnd.databricks.v1+cell": {
     "cellMetadata": {
      "byteLimit": 2048000,
      "rowLimit": 10000
     },
     "inputWidgets": {},
     "nuid": "4984568f-98c3-4b19-995e-93e22aa15e3b",
     "showTitle": false,
     "tableResultSettingsMap": {},
     "title": ""
    }
   },
   "outputs": [
    {
     "output_type": "display_data",
     "data": {
      "text/html": [
       "<style scoped>\n",
       "  .table-result-container {\n",
       "    max-height: 300px;\n",
       "    overflow: auto;\n",
       "  }\n",
       "  table, th, td {\n",
       "    border: 1px solid black;\n",
       "    border-collapse: collapse;\n",
       "  }\n",
       "  th, td {\n",
       "    padding: 5px;\n",
       "  }\n",
       "  th {\n",
       "    text-align: left;\n",
       "  }\n",
       "</style><div class='table-result-container'><table class='table-result'><thead style='background-color: white'><tr><th>DistrictID</th><th>DistrictName</th><th>StateID</th></tr></thead><tbody><tr><td>1</td><td>Ludhiana</td><td>1</td></tr><tr><td>2</td><td>Amritsar</td><td>1</td></tr><tr><td>3</td><td>Mumbai</td><td>2</td></tr><tr><td>4</td><td>Pune</td><td>2</td></tr><tr><td>5</td><td>Vizag</td><td>3</td></tr><tr><td>6</td><td>Guntur</td><td>3</td></tr><tr><td>7</td><td>Lucknow</td><td>4</td></tr><tr><td>8</td><td>Kanpur</td><td>4</td></tr><tr><td>9</td><td>Chennai</td><td>5</td></tr><tr><td>10</td><td>Coimbatore</td><td>5</td></tr><tr><td>11</td><td>Bangalore</td><td>6</td></tr><tr><td>12</td><td>Mysore</td><td>6</td></tr><tr><td>13</td><td>Patna</td><td>7</td></tr><tr><td>14</td><td>Gaya</td><td>7</td></tr><tr><td>15</td><td>Kolkata</td><td>8</td></tr><tr><td>16</td><td>Howrah</td><td>8</td></tr><tr><td>17</td><td>Ahmedabad</td><td>9</td></tr><tr><td>18</td><td>Surat</td><td>9</td></tr><tr><td>19</td><td>Bhopal</td><td>10</td></tr><tr><td>20</td><td>Indore</td><td>10</td></tr></tbody></table></div>"
      ]
     },
     "metadata": {
      "application/vnd.databricks.v1+output": {
       "addedWidgets": {},
       "aggData": [],
       "aggError": "",
       "aggOverflow": false,
       "aggSchema": [],
       "aggSeriesLimitReached": false,
       "aggType": "",
       "arguments": {},
       "columnCustomDisplayInfos": {},
       "data": [
        [
         1,
         "Ludhiana",
         1
        ],
        [
         2,
         "Amritsar",
         1
        ],
        [
         3,
         "Mumbai",
         2
        ],
        [
         4,
         "Pune",
         2
        ],
        [
         5,
         "Vizag",
         3
        ],
        [
         6,
         "Guntur",
         3
        ],
        [
         7,
         "Lucknow",
         4
        ],
        [
         8,
         "Kanpur",
         4
        ],
        [
         9,
         "Chennai",
         5
        ],
        [
         10,
         "Coimbatore",
         5
        ],
        [
         11,
         "Bangalore",
         6
        ],
        [
         12,
         "Mysore",
         6
        ],
        [
         13,
         "Patna",
         7
        ],
        [
         14,
         "Gaya",
         7
        ],
        [
         15,
         "Kolkata",
         8
        ],
        [
         16,
         "Howrah",
         8
        ],
        [
         17,
         "Ahmedabad",
         9
        ],
        [
         18,
         "Surat",
         9
        ],
        [
         19,
         "Bhopal",
         10
        ],
        [
         20,
         "Indore",
         10
        ]
       ],
       "datasetInfos": [],
       "dbfsResultPath": null,
       "isJsonSchema": true,
       "metadata": {},
       "overflow": false,
       "plotOptions": {
        "customPlotOptions": {},
        "displayType": "table",
        "pivotAggregation": null,
        "pivotColumns": null,
        "xColumns": null,
        "yColumns": null
       },
       "removedWidgets": [],
       "schema": [
        {
         "metadata": "{}",
         "name": "DistrictID",
         "type": "\"integer\""
        },
        {
         "metadata": "{}",
         "name": "DistrictName",
         "type": "\"string\""
        },
        {
         "metadata": "{}",
         "name": "StateID",
         "type": "\"integer\""
        }
       ],
       "type": "table"
      }
     },
     "output_type": "display_data"
    }
   ],
   "source": [
    "# read the district csv file(prints the data to understand the content) :\n",
    "dim_district = spark.read.csv(\"/Volumes/workspace/crop_management_system/dimension_volume/Dim_District.csv\", header=True, inferSchema=True)\n",
    "display(dim_district)"
   ]
  },
  {
   "cell_type": "code",
   "execution_count": 0,
   "metadata": {
    "application/vnd.databricks.v1+cell": {
     "cellMetadata": {
      "byteLimit": 2048000,
      "rowLimit": 10000
     },
     "inputWidgets": {},
     "nuid": "19c8fc82-2d6e-4027-8be0-e92c61d138b4",
     "showTitle": false,
     "tableResultSettingsMap": {},
     "title": ""
    }
   },
   "outputs": [
    {
     "output_type": "display_data",
     "data": {
      "text/html": [
       "<style scoped>\n",
       "  .table-result-container {\n",
       "    max-height: 300px;\n",
       "    overflow: auto;\n",
       "  }\n",
       "  table, th, td {\n",
       "    border: 1px solid black;\n",
       "    border-collapse: collapse;\n",
       "  }\n",
       "  th, td {\n",
       "    padding: 5px;\n",
       "  }\n",
       "  th {\n",
       "    text-align: left;\n",
       "  }\n",
       "</style><div class='table-result-container'><table class='table-result'><thead style='background-color: white'><tr><th>SeasonID</th><th>SeasonName</th></tr></thead><tbody><tr><td>1</td><td>Kharif</td></tr><tr><td>2</td><td>Rabi</td></tr><tr><td>3</td><td>Summer</td></tr><tr><td>4</td><td>Autumn</td></tr></tbody></table></div>"
      ]
     },
     "metadata": {
      "application/vnd.databricks.v1+output": {
       "addedWidgets": {},
       "aggData": [],
       "aggError": "",
       "aggOverflow": false,
       "aggSchema": [],
       "aggSeriesLimitReached": false,
       "aggType": "",
       "arguments": {},
       "columnCustomDisplayInfos": {},
       "data": [
        [
         1,
         "Kharif"
        ],
        [
         2,
         "Rabi"
        ],
        [
         3,
         "Summer"
        ],
        [
         4,
         "Autumn"
        ]
       ],
       "datasetInfos": [],
       "dbfsResultPath": null,
       "isJsonSchema": true,
       "metadata": {},
       "overflow": false,
       "plotOptions": {
        "customPlotOptions": {},
        "displayType": "table",
        "pivotAggregation": null,
        "pivotColumns": null,
        "xColumns": null,
        "yColumns": null
       },
       "removedWidgets": [],
       "schema": [
        {
         "metadata": "{}",
         "name": "SeasonID",
         "type": "\"integer\""
        },
        {
         "metadata": "{}",
         "name": "SeasonName",
         "type": "\"string\""
        }
       ],
       "type": "table"
      }
     },
     "output_type": "display_data"
    }
   ],
   "source": [
    "# read the season csv file(prints the data to understand the content) :\n",
    "dim_season = spark.read.csv(\"/Volumes/workspace/crop_management_system/dimension_volume/Dim_Season.csv\", header=True, inferSchema=True)\n",
    "display(dim_season)"
   ]
  },
  {
   "cell_type": "code",
   "execution_count": 0,
   "metadata": {
    "application/vnd.databricks.v1+cell": {
     "cellMetadata": {
      "byteLimit": 2048000,
      "rowLimit": 10000
     },
     "inputWidgets": {},
     "nuid": "2b6b5850-74e3-45b7-900f-a6597529a42e",
     "showTitle": false,
     "tableResultSettingsMap": {},
     "title": ""
    }
   },
   "outputs": [
    {
     "output_type": "display_data",
     "data": {
      "text/html": [
       "<style scoped>\n",
       "  .table-result-container {\n",
       "    max-height: 300px;\n",
       "    overflow: auto;\n",
       "  }\n",
       "  table, th, td {\n",
       "    border: 1px solid black;\n",
       "    border-collapse: collapse;\n",
       "  }\n",
       "  th, td {\n",
       "    padding: 5px;\n",
       "  }\n",
       "  th {\n",
       "    text-align: left;\n",
       "  }\n",
       "</style><div class='table-result-container'><table class='table-result'><thead style='background-color: white'><tr><th>StateID</th><th>StateName</th><th>Region</th></tr></thead><tbody><tr><td>1</td><td>Punjab</td><td>North</td></tr><tr><td>2</td><td>Maharashtra</td><td>West</td></tr><tr><td>3</td><td>Andhra Pradesh</td><td>South</td></tr><tr><td>4</td><td>Uttar Pradesh</td><td>North</td></tr><tr><td>5</td><td>Tamil Nadu</td><td>South</td></tr><tr><td>6</td><td>Karnataka</td><td>South</td></tr><tr><td>7</td><td>Bihar</td><td>East</td></tr><tr><td>8</td><td>West Bengal</td><td>East</td></tr><tr><td>9</td><td>Gujarat</td><td>West</td></tr><tr><td>10</td><td>Madhya Pradesh</td><td>Central</td></tr></tbody></table></div>"
      ]
     },
     "metadata": {
      "application/vnd.databricks.v1+output": {
       "addedWidgets": {},
       "aggData": [],
       "aggError": "",
       "aggOverflow": false,
       "aggSchema": [],
       "aggSeriesLimitReached": false,
       "aggType": "",
       "arguments": {},
       "columnCustomDisplayInfos": {},
       "data": [
        [
         1,
         "Punjab",
         "North"
        ],
        [
         2,
         "Maharashtra",
         "West"
        ],
        [
         3,
         "Andhra Pradesh",
         "South"
        ],
        [
         4,
         "Uttar Pradesh",
         "North"
        ],
        [
         5,
         "Tamil Nadu",
         "South"
        ],
        [
         6,
         "Karnataka",
         "South"
        ],
        [
         7,
         "Bihar",
         "East"
        ],
        [
         8,
         "West Bengal",
         "East"
        ],
        [
         9,
         "Gujarat",
         "West"
        ],
        [
         10,
         "Madhya Pradesh",
         "Central"
        ]
       ],
       "datasetInfos": [],
       "dbfsResultPath": null,
       "isJsonSchema": true,
       "metadata": {},
       "overflow": false,
       "plotOptions": {
        "customPlotOptions": {},
        "displayType": "table",
        "pivotAggregation": null,
        "pivotColumns": null,
        "xColumns": null,
        "yColumns": null
       },
       "removedWidgets": [],
       "schema": [
        {
         "metadata": "{}",
         "name": "StateID",
         "type": "\"integer\""
        },
        {
         "metadata": "{}",
         "name": "StateName",
         "type": "\"string\""
        },
        {
         "metadata": "{}",
         "name": "Region",
         "type": "\"string\""
        }
       ],
       "type": "table"
      }
     },
     "output_type": "display_data"
    }
   ],
   "source": [
    "# read the state csv file(prints the data to understand the content) :\n",
    "dim_state = spark.read.csv(\"/Volumes/workspace/crop_management_system/dimension_volume/Dim_State.csv\", header=True, inferSchema=True)\n",
    "display(dim_state)"
   ]
  },
  {
   "cell_type": "code",
   "execution_count": 0,
   "metadata": {
    "application/vnd.databricks.v1+cell": {
     "cellMetadata": {
      "byteLimit": 2048000,
      "rowLimit": 10000
     },
     "inputWidgets": {},
     "nuid": "cbbb3edb-91ae-41ea-a9b7-ef52fa2a8bd1",
     "showTitle": false,
     "tableResultSettingsMap": {},
     "title": ""
    }
   },
   "outputs": [
    {
     "output_type": "display_data",
     "data": {
      "text/html": [
       "<style scoped>\n",
       "  .table-result-container {\n",
       "    max-height: 300px;\n",
       "    overflow: auto;\n",
       "  }\n",
       "  table, th, td {\n",
       "    border: 1px solid black;\n",
       "    border-collapse: collapse;\n",
       "  }\n",
       "  th, td {\n",
       "    padding: 5px;\n",
       "  }\n",
       "  th {\n",
       "    text-align: left;\n",
       "  }\n",
       "</style><div class='table-result-container'><table class='table-result'><thead style='background-color: white'><tr><th>YearID</th><th>Year</th></tr></thead><tbody><tr><td>1</td><td>2014</td></tr><tr><td>2</td><td>2015</td></tr><tr><td>3</td><td>2016</td></tr><tr><td>4</td><td>2017</td></tr><tr><td>5</td><td>2018</td></tr><tr><td>6</td><td>2019</td></tr><tr><td>7</td><td>2020</td></tr><tr><td>8</td><td>2021</td></tr><tr><td>9</td><td>2022</td></tr><tr><td>10</td><td>2023</td></tr></tbody></table></div>"
      ]
     },
     "metadata": {
      "application/vnd.databricks.v1+output": {
       "addedWidgets": {},
       "aggData": [],
       "aggError": "",
       "aggOverflow": false,
       "aggSchema": [],
       "aggSeriesLimitReached": false,
       "aggType": "",
       "arguments": {},
       "columnCustomDisplayInfos": {},
       "data": [
        [
         1,
         2014
        ],
        [
         2,
         2015
        ],
        [
         3,
         2016
        ],
        [
         4,
         2017
        ],
        [
         5,
         2018
        ],
        [
         6,
         2019
        ],
        [
         7,
         2020
        ],
        [
         8,
         2021
        ],
        [
         9,
         2022
        ],
        [
         10,
         2023
        ]
       ],
       "datasetInfos": [],
       "dbfsResultPath": null,
       "isJsonSchema": true,
       "metadata": {},
       "overflow": false,
       "plotOptions": {
        "customPlotOptions": {},
        "displayType": "table",
        "pivotAggregation": null,
        "pivotColumns": null,
        "xColumns": null,
        "yColumns": null
       },
       "removedWidgets": [],
       "schema": [
        {
         "metadata": "{}",
         "name": "YearID",
         "type": "\"integer\""
        },
        {
         "metadata": "{}",
         "name": "Year",
         "type": "\"integer\""
        }
       ],
       "type": "table"
      }
     },
     "output_type": "display_data"
    }
   ],
   "source": [
    "# 2. read the year csv file(prints the data to understand the content) :\n",
    "dim_year = spark.read.csv(\"/Volumes/workspace/crop_management_system/dimension_volume/Dim_Year.csv\", header=True, inferSchema=True)\n",
    "display(dim_year)"
   ]
  },
  {
   "cell_type": "code",
   "execution_count": 0,
   "metadata": {
    "application/vnd.databricks.v1+cell": {
     "cellMetadata": {
      "byteLimit": 2048000,
      "rowLimit": 10000
     },
     "inputWidgets": {},
     "nuid": "48549d51-6a11-4e33-b735-2a87e2154a64",
     "showTitle": false,
     "tableResultSettingsMap": {},
     "title": ""
    }
   },
   "outputs": [
    {
     "output_type": "display_data",
     "data": {
      "text/html": [
       "<style scoped>\n",
       "  .table-result-container {\n",
       "    max-height: 300px;\n",
       "    overflow: auto;\n",
       "  }\n",
       "  table, th, td {\n",
       "    border: 1px solid black;\n",
       "    border-collapse: collapse;\n",
       "  }\n",
       "  th, td {\n",
       "    padding: 5px;\n",
       "  }\n",
       "  th {\n",
       "    text-align: left;\n",
       "  }\n",
       "</style><div class='table-result-container'><table class='table-result'><thead style='background-color: white'><tr><th>FactID</th><th>CropID</th><th>StateID</th><th>DistrictID</th><th>SeasonID</th><th>YearID</th><th>Area_Ha</th><th>Production_Tons</th><th>Yield</th><th>MSP_Per_Quintal</th><th>MarketPrice_Per_Quintal</th><th>Revenue_MSP</th><th>Revenue_MarketPrice</th></tr></thead><tbody><tr><td>1</td><td>1</td><td>9</td><td>17</td><td>1</td><td>5</td><td>12000</td><td>36000</td><td>3.0</td><td>2183</td><td>2900</td><td>7858800000</td><td>10440000000</td></tr><tr><td>2</td><td>2</td><td>1</td><td>1</td><td>2</td><td>6</td><td>15000</td><td>48000</td><td>3.2</td><td>2125</td><td>2850</td><td>10200000000</td><td>13680000000</td></tr><tr><td>3</td><td>3</td><td>2</td><td>3</td><td>1</td><td>7</td><td>18000</td><td>32000</td><td>1.78</td><td>2500</td><td>2600</td><td>8000000000</td><td>8320000000</td></tr><tr><td>4</td><td>4</td><td>3</td><td>5</td><td>2</td><td>8</td><td>10000</td><td>28000</td><td>2.8</td><td>6620</td><td>6500</td><td>18536000000</td><td>18200000000</td></tr><tr><td>5</td><td>1</td><td>5</td><td>9</td><td>3</td><td>9</td><td>9000</td><td>20000</td><td>2.22</td><td>2090</td><td>2200</td><td>4180000000</td><td>4400000000</td></tr><tr><td>6</td><td>2</td><td>4</td><td>7</td><td>1</td><td>10</td><td>13000</td><td>39000</td><td>3.0</td><td>3700</td><td>3900</td><td>14430000000</td><td>15210000000</td></tr><tr><td>7</td><td>5</td><td>6</td><td>11</td><td>2</td><td>5</td><td>8000</td><td>15000</td><td>1.88</td><td>4600</td><td>4700</td><td>6900000000</td><td>7050000000</td></tr><tr><td>8</td><td>6</td><td>7</td><td>13</td><td>1</td><td>6</td><td>7000</td><td>14000</td><td>2.0</td><td>5335</td><td>5200</td><td>7469000000</td><td>7280000000</td></tr><tr><td>9</td><td>7</td><td>8</td><td>15</td><td>2</td><td>7</td><td>6000</td><td>10000</td><td>1.67</td><td>5450</td><td>5550</td><td>5450000000</td><td>5550000000</td></tr><tr><td>10</td><td>3</td><td>10</td><td>19</td><td>3</td><td>8</td><td>5000</td><td>9000</td><td>1.8</td><td>4600</td><td>4800</td><td>4140000000</td><td>4320000000</td></tr><tr><td>11</td><td>8</td><td>1</td><td>2</td><td>1</td><td>9</td><td>7000</td><td>15000</td><td>2.14</td><td>3180</td><td>3300</td><td>4770000000</td><td>4950000000</td></tr><tr><td>12</td><td>9</td><td>2</td><td>4</td><td>2</td><td>10</td><td>4500</td><td>9000</td><td>2.0</td><td>8635</td><td>8800</td><td>7771500000</td><td>7920000000</td></tr><tr><td>13</td><td>10</td><td>3</td><td>6</td><td>1</td><td>1</td><td>4000</td><td>8500</td><td>2.12</td><td>6377</td><td>6500</td><td>5420450000</td><td>5525000000</td></tr><tr><td>14</td><td>1</td><td>4</td><td>8</td><td>3</td><td>2</td><td>15000</td><td>31000</td><td>2.06</td><td>2203</td><td>2300</td><td>6829300000</td><td>7130000000</td></tr><tr><td>15</td><td>2</td><td>5</td><td>10</td><td>2</td><td>3</td><td>10000</td><td>29000</td><td>2.9</td><td>2125</td><td>2250</td><td>6162500000</td><td>6525000000</td></tr><tr><td>16</td><td>4</td><td>6</td><td>12</td><td>1</td><td>4</td><td>8000</td><td>26000</td><td>3.25</td><td>6620</td><td>6700</td><td>17212000000</td><td>17420000000</td></tr><tr><td>17</td><td>5</td><td>7</td><td>14</td><td>3</td><td>5</td><td>7500</td><td>17000</td><td>2.27</td><td>2090</td><td>2200</td><td>3553000000</td><td>3740000000</td></tr><tr><td>18</td><td>6</td><td>8</td><td>16</td><td>2</td><td>6</td><td>9500</td><td>19500</td><td>2.05</td><td>5335</td><td>5450</td><td>10403250000</td><td>10627500000</td></tr><tr><td>19</td><td>7</td><td>9</td><td>18</td><td>1</td><td>7</td><td>6800</td><td>12500</td><td>1.84</td><td>4600</td><td>4800</td><td>5750000000</td><td>6000000000</td></tr><tr><td>20</td><td>10</td><td>10</td><td>20</td><td>3</td><td>8</td><td>6000</td><td>11000</td><td>1.83</td><td>5450</td><td>5600</td><td>5995000000</td><td>6160000000</td></tr></tbody></table></div>"
      ]
     },
     "metadata": {
      "application/vnd.databricks.v1+output": {
       "addedWidgets": {},
       "aggData": [],
       "aggError": "",
       "aggOverflow": false,
       "aggSchema": [],
       "aggSeriesLimitReached": false,
       "aggType": "",
       "arguments": {},
       "columnCustomDisplayInfos": {},
       "data": [
        [
         1,
         1,
         9,
         17,
         1,
         5,
         12000,
         36000,
         3.0,
         2183,
         2900,
         7858800000,
         10440000000
        ],
        [
         2,
         2,
         1,
         1,
         2,
         6,
         15000,
         48000,
         3.2,
         2125,
         2850,
         10200000000,
         13680000000
        ],
        [
         3,
         3,
         2,
         3,
         1,
         7,
         18000,
         32000,
         1.78,
         2500,
         2600,
         8000000000,
         8320000000
        ],
        [
         4,
         4,
         3,
         5,
         2,
         8,
         10000,
         28000,
         2.8,
         6620,
         6500,
         18536000000,
         18200000000
        ],
        [
         5,
         1,
         5,
         9,
         3,
         9,
         9000,
         20000,
         2.22,
         2090,
         2200,
         4180000000,
         4400000000
        ],
        [
         6,
         2,
         4,
         7,
         1,
         10,
         13000,
         39000,
         3.0,
         3700,
         3900,
         14430000000,
         15210000000
        ],
        [
         7,
         5,
         6,
         11,
         2,
         5,
         8000,
         15000,
         1.88,
         4600,
         4700,
         6900000000,
         7050000000
        ],
        [
         8,
         6,
         7,
         13,
         1,
         6,
         7000,
         14000,
         2.0,
         5335,
         5200,
         7469000000,
         7280000000
        ],
        [
         9,
         7,
         8,
         15,
         2,
         7,
         6000,
         10000,
         1.67,
         5450,
         5550,
         5450000000,
         5550000000
        ],
        [
         10,
         3,
         10,
         19,
         3,
         8,
         5000,
         9000,
         1.8,
         4600,
         4800,
         4140000000,
         4320000000
        ],
        [
         11,
         8,
         1,
         2,
         1,
         9,
         7000,
         15000,
         2.14,
         3180,
         3300,
         4770000000,
         4950000000
        ],
        [
         12,
         9,
         2,
         4,
         2,
         10,
         4500,
         9000,
         2.0,
         8635,
         8800,
         7771500000,
         7920000000
        ],
        [
         13,
         10,
         3,
         6,
         1,
         1,
         4000,
         8500,
         2.12,
         6377,
         6500,
         5420450000,
         5525000000
        ],
        [
         14,
         1,
         4,
         8,
         3,
         2,
         15000,
         31000,
         2.06,
         2203,
         2300,
         6829300000,
         7130000000
        ],
        [
         15,
         2,
         5,
         10,
         2,
         3,
         10000,
         29000,
         2.9,
         2125,
         2250,
         6162500000,
         6525000000
        ],
        [
         16,
         4,
         6,
         12,
         1,
         4,
         8000,
         26000,
         3.25,
         6620,
         6700,
         17212000000,
         17420000000
        ],
        [
         17,
         5,
         7,
         14,
         3,
         5,
         7500,
         17000,
         2.27,
         2090,
         2200,
         3553000000,
         3740000000
        ],
        [
         18,
         6,
         8,
         16,
         2,
         6,
         9500,
         19500,
         2.05,
         5335,
         5450,
         10403250000,
         10627500000
        ],
        [
         19,
         7,
         9,
         18,
         1,
         7,
         6800,
         12500,
         1.84,
         4600,
         4800,
         5750000000,
         6000000000
        ],
        [
         20,
         10,
         10,
         20,
         3,
         8,
         6000,
         11000,
         1.83,
         5450,
         5600,
         5995000000,
         6160000000
        ]
       ],
       "datasetInfos": [],
       "dbfsResultPath": null,
       "isJsonSchema": true,
       "metadata": {},
       "overflow": false,
       "plotOptions": {
        "customPlotOptions": {},
        "displayType": "table",
        "pivotAggregation": null,
        "pivotColumns": null,
        "xColumns": null,
        "yColumns": null
       },
       "removedWidgets": [],
       "schema": [
        {
         "metadata": "{}",
         "name": "FactID",
         "type": "\"integer\""
        },
        {
         "metadata": "{}",
         "name": "CropID",
         "type": "\"integer\""
        },
        {
         "metadata": "{}",
         "name": "StateID",
         "type": "\"integer\""
        },
        {
         "metadata": "{}",
         "name": "DistrictID",
         "type": "\"integer\""
        },
        {
         "metadata": "{}",
         "name": "SeasonID",
         "type": "\"integer\""
        },
        {
         "metadata": "{}",
         "name": "YearID",
         "type": "\"integer\""
        },
        {
         "metadata": "{}",
         "name": "Area_Ha",
         "type": "\"integer\""
        },
        {
         "metadata": "{}",
         "name": "Production_Tons",
         "type": "\"integer\""
        },
        {
         "metadata": "{}",
         "name": "Yield",
         "type": "\"double\""
        },
        {
         "metadata": "{}",
         "name": "MSP_Per_Quintal",
         "type": "\"integer\""
        },
        {
         "metadata": "{}",
         "name": "MarketPrice_Per_Quintal",
         "type": "\"integer\""
        },
        {
         "metadata": "{}",
         "name": "Revenue_MSP",
         "type": "\"long\""
        },
        {
         "metadata": "{}",
         "name": "Revenue_MarketPrice",
         "type": "\"long\""
        }
       ],
       "type": "table"
      }
     },
     "output_type": "display_data"
    }
   ],
   "source": [
    "# read the fact_crop_production csv file(prints the data to understand the content) :\n",
    "fact_production = spark.read.csv(\"/Volumes/workspace/crop_management_system/fact_volume/Fact_crop_production_sales.csv\", header=True, inferSchema=True)\n",
    "display(fact_production)\n",
    "# fact_production.show(5)"
   ]
  },
  {
   "cell_type": "code",
   "execution_count": 0,
   "metadata": {
    "application/vnd.databricks.v1+cell": {
     "cellMetadata": {
      "byteLimit": 2048000,
      "rowLimit": 10000
     },
     "inputWidgets": {},
     "nuid": "6749d89a-5b7a-421e-951d-a117c565e581",
     "showTitle": false,
     "tableResultSettingsMap": {},
     "title": ""
    }
   },
   "outputs": [],
   "source": [
    "# delta table of dim_crop table\n",
    "dim_crop.write.format(\"delta\").mode(\"overwrite\").saveAsTable(\"workspace.crop_management_system.Dim_Crop_delta\")\n",
    "# delta table of dim_district table\n",
    "dim_district.write.format(\"delta\").mode(\"overwrite\").saveAsTable(\"workspace.crop_management_system.Dim_District_delta\")\n",
    "# delta table of dim_season table\n",
    "dim_season.write.format(\"delta\").mode(\"overwrite\").saveAsTable(\"workspace.crop_management_system.Dim_Season_delta\")\n",
    "# delta table of dim_state table\n",
    "dim_state.write.format(\"delta\").mode(\"overwrite\").saveAsTable(\"workspace.crop_management_system.Dim_State_delta\")\n",
    "# delta table of dim_year table\n",
    "dim_year.write.format(\"delta\").mode(\"overwrite\").saveAsTable(\"workspace.crop_management_system.Dim_Year_delta\")\n",
    "# delta table of dim_year table\n",
    "dim_year.write.format(\"delta\").mode(\"overwrite\").saveAsTable(\"workspace.crop_management_system.Dim_Year_delta\")\n",
    "# delta table of fact_production table\n",
    "fact_production.write.format(\"delta\").mode(\"overwrite\").saveAsTable(\"workspace.crop_management_system.Fact_crop_production_sales_delta\")"
   ]
  },
  {
   "cell_type": "code",
   "execution_count": 0,
   "metadata": {
    "application/vnd.databricks.v1+cell": {
     "cellMetadata": {
      "byteLimit": 2048000,
      "rowLimit": 10000
     },
     "inputWidgets": {},
     "nuid": "fd22f90c-206f-4049-8286-409ff5740cb2",
     "showTitle": false,
     "tableResultSettingsMap": {},
     "title": ""
    }
   },
   "outputs": [
    {
     "output_type": "display_data",
     "data": {
      "text/html": [
       "<style scoped>\n",
       "  .table-result-container {\n",
       "    max-height: 300px;\n",
       "    overflow: auto;\n",
       "  }\n",
       "  table, th, td {\n",
       "    border: 1px solid black;\n",
       "    border-collapse: collapse;\n",
       "  }\n",
       "  th, td {\n",
       "    padding: 5px;\n",
       "  }\n",
       "  th {\n",
       "    text-align: left;\n",
       "  }\n",
       "</style><div class='table-result-container'><table class='table-result'><thead style='background-color: white'><tr><th>CropID</th><th>CropName</th><th>Variety</th></tr></thead><tbody><tr><td>1</td><td>Paddy</td><td>Common</td></tr><tr><td>2</td><td>Wheat</td><td>General</td></tr><tr><td>3</td><td>Bajra</td><td>General</td></tr><tr><td>4</td><td>Cotton</td><td>Medium Staple</td></tr><tr><td>5</td><td>Maize</td><td>General</td></tr><tr><td>6</td><td>Gram</td><td>General</td></tr><tr><td>7</td><td>Soyabean</td><td>Yellow</td></tr><tr><td>8</td><td>Jowar</td><td>General</td></tr><tr><td>9</td><td>Sesamum</td><td>General</td></tr><tr><td>10</td><td>Groundnut</td><td>General</td></tr></tbody></table></div>"
      ]
     },
     "metadata": {
      "application/vnd.databricks.v1+output": {
       "addedWidgets": {},
       "aggData": [],
       "aggError": "",
       "aggOverflow": false,
       "aggSchema": [],
       "aggSeriesLimitReached": false,
       "aggType": "",
       "arguments": {},
       "columnCustomDisplayInfos": {},
       "data": [
        [
         1,
         "Paddy",
         "Common"
        ],
        [
         2,
         "Wheat",
         "General"
        ],
        [
         3,
         "Bajra",
         "General"
        ],
        [
         4,
         "Cotton",
         "Medium Staple"
        ],
        [
         5,
         "Maize",
         "General"
        ],
        [
         6,
         "Gram",
         "General"
        ],
        [
         7,
         "Soyabean",
         "Yellow"
        ],
        [
         8,
         "Jowar",
         "General"
        ],
        [
         9,
         "Sesamum",
         "General"
        ],
        [
         10,
         "Groundnut",
         "General"
        ]
       ],
       "datasetInfos": [],
       "dbfsResultPath": null,
       "isJsonSchema": true,
       "metadata": {},
       "overflow": false,
       "plotOptions": {
        "customPlotOptions": {},
        "displayType": "table",
        "pivotAggregation": null,
        "pivotColumns": null,
        "xColumns": null,
        "yColumns": null
       },
       "removedWidgets": [],
       "schema": [
        {
         "metadata": "{}",
         "name": "CropID",
         "type": "\"integer\""
        },
        {
         "metadata": "{}",
         "name": "CropName",
         "type": "\"string\""
        },
        {
         "metadata": "{}",
         "name": "Variety",
         "type": "\"string\""
        }
       ],
       "type": "table"
      }
     },
     "output_type": "display_data"
    },
    {
     "output_type": "display_data",
     "data": {
      "text/html": [
       "<style scoped>\n",
       "  .table-result-container {\n",
       "    max-height: 300px;\n",
       "    overflow: auto;\n",
       "  }\n",
       "  table, th, td {\n",
       "    border: 1px solid black;\n",
       "    border-collapse: collapse;\n",
       "  }\n",
       "  th, td {\n",
       "    padding: 5px;\n",
       "  }\n",
       "  th {\n",
       "    text-align: left;\n",
       "  }\n",
       "</style><div class='table-result-container'><table class='table-result'><thead style='background-color: white'><tr><th>DistrictID</th><th>DistrictName</th><th>StateID</th></tr></thead><tbody><tr><td>1</td><td>Ludhiana</td><td>1</td></tr><tr><td>2</td><td>Amritsar</td><td>1</td></tr><tr><td>3</td><td>Mumbai</td><td>2</td></tr><tr><td>4</td><td>Pune</td><td>2</td></tr><tr><td>5</td><td>Vizag</td><td>3</td></tr><tr><td>6</td><td>Guntur</td><td>3</td></tr><tr><td>7</td><td>Lucknow</td><td>4</td></tr><tr><td>8</td><td>Kanpur</td><td>4</td></tr><tr><td>9</td><td>Chennai</td><td>5</td></tr><tr><td>10</td><td>Coimbatore</td><td>5</td></tr><tr><td>11</td><td>Bangalore</td><td>6</td></tr><tr><td>12</td><td>Mysore</td><td>6</td></tr><tr><td>13</td><td>Patna</td><td>7</td></tr><tr><td>14</td><td>Gaya</td><td>7</td></tr><tr><td>15</td><td>Kolkata</td><td>8</td></tr><tr><td>16</td><td>Howrah</td><td>8</td></tr><tr><td>17</td><td>Ahmedabad</td><td>9</td></tr><tr><td>18</td><td>Surat</td><td>9</td></tr><tr><td>19</td><td>Bhopal</td><td>10</td></tr><tr><td>20</td><td>Indore</td><td>10</td></tr></tbody></table></div>"
      ]
     },
     "metadata": {
      "application/vnd.databricks.v1+output": {
       "addedWidgets": {},
       "aggData": [],
       "aggError": "",
       "aggOverflow": false,
       "aggSchema": [],
       "aggSeriesLimitReached": false,
       "aggType": "",
       "arguments": {},
       "columnCustomDisplayInfos": {},
       "data": [
        [
         1,
         "Ludhiana",
         1
        ],
        [
         2,
         "Amritsar",
         1
        ],
        [
         3,
         "Mumbai",
         2
        ],
        [
         4,
         "Pune",
         2
        ],
        [
         5,
         "Vizag",
         3
        ],
        [
         6,
         "Guntur",
         3
        ],
        [
         7,
         "Lucknow",
         4
        ],
        [
         8,
         "Kanpur",
         4
        ],
        [
         9,
         "Chennai",
         5
        ],
        [
         10,
         "Coimbatore",
         5
        ],
        [
         11,
         "Bangalore",
         6
        ],
        [
         12,
         "Mysore",
         6
        ],
        [
         13,
         "Patna",
         7
        ],
        [
         14,
         "Gaya",
         7
        ],
        [
         15,
         "Kolkata",
         8
        ],
        [
         16,
         "Howrah",
         8
        ],
        [
         17,
         "Ahmedabad",
         9
        ],
        [
         18,
         "Surat",
         9
        ],
        [
         19,
         "Bhopal",
         10
        ],
        [
         20,
         "Indore",
         10
        ]
       ],
       "datasetInfos": [],
       "dbfsResultPath": null,
       "isJsonSchema": true,
       "metadata": {},
       "overflow": false,
       "plotOptions": {
        "customPlotOptions": {},
        "displayType": "table",
        "pivotAggregation": null,
        "pivotColumns": null,
        "xColumns": null,
        "yColumns": null
       },
       "removedWidgets": [],
       "schema": [
        {
         "metadata": "{}",
         "name": "DistrictID",
         "type": "\"integer\""
        },
        {
         "metadata": "{}",
         "name": "DistrictName",
         "type": "\"string\""
        },
        {
         "metadata": "{}",
         "name": "StateID",
         "type": "\"integer\""
        }
       ],
       "type": "table"
      }
     },
     "output_type": "display_data"
    },
    {
     "output_type": "display_data",
     "data": {
      "text/html": [
       "<style scoped>\n",
       "  .table-result-container {\n",
       "    max-height: 300px;\n",
       "    overflow: auto;\n",
       "  }\n",
       "  table, th, td {\n",
       "    border: 1px solid black;\n",
       "    border-collapse: collapse;\n",
       "  }\n",
       "  th, td {\n",
       "    padding: 5px;\n",
       "  }\n",
       "  th {\n",
       "    text-align: left;\n",
       "  }\n",
       "</style><div class='table-result-container'><table class='table-result'><thead style='background-color: white'><tr><th>SeasonID</th><th>SeasonName</th></tr></thead><tbody><tr><td>1</td><td>Kharif</td></tr><tr><td>2</td><td>Rabi</td></tr><tr><td>3</td><td>Summer</td></tr><tr><td>4</td><td>Autumn</td></tr></tbody></table></div>"
      ]
     },
     "metadata": {
      "application/vnd.databricks.v1+output": {
       "addedWidgets": {},
       "aggData": [],
       "aggError": "",
       "aggOverflow": false,
       "aggSchema": [],
       "aggSeriesLimitReached": false,
       "aggType": "",
       "arguments": {},
       "columnCustomDisplayInfos": {},
       "data": [
        [
         1,
         "Kharif"
        ],
        [
         2,
         "Rabi"
        ],
        [
         3,
         "Summer"
        ],
        [
         4,
         "Autumn"
        ]
       ],
       "datasetInfos": [],
       "dbfsResultPath": null,
       "isJsonSchema": true,
       "metadata": {},
       "overflow": false,
       "plotOptions": {
        "customPlotOptions": {},
        "displayType": "table",
        "pivotAggregation": null,
        "pivotColumns": null,
        "xColumns": null,
        "yColumns": null
       },
       "removedWidgets": [],
       "schema": [
        {
         "metadata": "{}",
         "name": "SeasonID",
         "type": "\"integer\""
        },
        {
         "metadata": "{}",
         "name": "SeasonName",
         "type": "\"string\""
        }
       ],
       "type": "table"
      }
     },
     "output_type": "display_data"
    },
    {
     "output_type": "display_data",
     "data": {
      "text/html": [
       "<style scoped>\n",
       "  .table-result-container {\n",
       "    max-height: 300px;\n",
       "    overflow: auto;\n",
       "  }\n",
       "  table, th, td {\n",
       "    border: 1px solid black;\n",
       "    border-collapse: collapse;\n",
       "  }\n",
       "  th, td {\n",
       "    padding: 5px;\n",
       "  }\n",
       "  th {\n",
       "    text-align: left;\n",
       "  }\n",
       "</style><div class='table-result-container'><table class='table-result'><thead style='background-color: white'><tr><th>StateID</th><th>StateName</th><th>Region</th></tr></thead><tbody><tr><td>1</td><td>Punjab</td><td>North</td></tr><tr><td>2</td><td>Maharashtra</td><td>West</td></tr><tr><td>3</td><td>Andhra Pradesh</td><td>South</td></tr><tr><td>4</td><td>Uttar Pradesh</td><td>North</td></tr><tr><td>5</td><td>Tamil Nadu</td><td>South</td></tr><tr><td>6</td><td>Karnataka</td><td>South</td></tr><tr><td>7</td><td>Bihar</td><td>East</td></tr><tr><td>8</td><td>West Bengal</td><td>East</td></tr><tr><td>9</td><td>Gujarat</td><td>West</td></tr><tr><td>10</td><td>Madhya Pradesh</td><td>Central</td></tr></tbody></table></div>"
      ]
     },
     "metadata": {
      "application/vnd.databricks.v1+output": {
       "addedWidgets": {},
       "aggData": [],
       "aggError": "",
       "aggOverflow": false,
       "aggSchema": [],
       "aggSeriesLimitReached": false,
       "aggType": "",
       "arguments": {},
       "columnCustomDisplayInfos": {},
       "data": [
        [
         1,
         "Punjab",
         "North"
        ],
        [
         2,
         "Maharashtra",
         "West"
        ],
        [
         3,
         "Andhra Pradesh",
         "South"
        ],
        [
         4,
         "Uttar Pradesh",
         "North"
        ],
        [
         5,
         "Tamil Nadu",
         "South"
        ],
        [
         6,
         "Karnataka",
         "South"
        ],
        [
         7,
         "Bihar",
         "East"
        ],
        [
         8,
         "West Bengal",
         "East"
        ],
        [
         9,
         "Gujarat",
         "West"
        ],
        [
         10,
         "Madhya Pradesh",
         "Central"
        ]
       ],
       "datasetInfos": [],
       "dbfsResultPath": null,
       "isJsonSchema": true,
       "metadata": {},
       "overflow": false,
       "plotOptions": {
        "customPlotOptions": {},
        "displayType": "table",
        "pivotAggregation": null,
        "pivotColumns": null,
        "xColumns": null,
        "yColumns": null
       },
       "removedWidgets": [],
       "schema": [
        {
         "metadata": "{}",
         "name": "StateID",
         "type": "\"integer\""
        },
        {
         "metadata": "{}",
         "name": "StateName",
         "type": "\"string\""
        },
        {
         "metadata": "{}",
         "name": "Region",
         "type": "\"string\""
        }
       ],
       "type": "table"
      }
     },
     "output_type": "display_data"
    },
    {
     "output_type": "display_data",
     "data": {
      "text/html": [
       "<style scoped>\n",
       "  .table-result-container {\n",
       "    max-height: 300px;\n",
       "    overflow: auto;\n",
       "  }\n",
       "  table, th, td {\n",
       "    border: 1px solid black;\n",
       "    border-collapse: collapse;\n",
       "  }\n",
       "  th, td {\n",
       "    padding: 5px;\n",
       "  }\n",
       "  th {\n",
       "    text-align: left;\n",
       "  }\n",
       "</style><div class='table-result-container'><table class='table-result'><thead style='background-color: white'><tr><th>YearID</th><th>Year</th></tr></thead><tbody><tr><td>1</td><td>2014</td></tr><tr><td>2</td><td>2015</td></tr><tr><td>3</td><td>2016</td></tr><tr><td>4</td><td>2017</td></tr><tr><td>5</td><td>2018</td></tr><tr><td>6</td><td>2019</td></tr><tr><td>7</td><td>2020</td></tr><tr><td>8</td><td>2021</td></tr><tr><td>9</td><td>2022</td></tr><tr><td>10</td><td>2023</td></tr></tbody></table></div>"
      ]
     },
     "metadata": {
      "application/vnd.databricks.v1+output": {
       "addedWidgets": {},
       "aggData": [],
       "aggError": "",
       "aggOverflow": false,
       "aggSchema": [],
       "aggSeriesLimitReached": false,
       "aggType": "",
       "arguments": {},
       "columnCustomDisplayInfos": {},
       "data": [
        [
         1,
         2014
        ],
        [
         2,
         2015
        ],
        [
         3,
         2016
        ],
        [
         4,
         2017
        ],
        [
         5,
         2018
        ],
        [
         6,
         2019
        ],
        [
         7,
         2020
        ],
        [
         8,
         2021
        ],
        [
         9,
         2022
        ],
        [
         10,
         2023
        ]
       ],
       "datasetInfos": [],
       "dbfsResultPath": null,
       "isJsonSchema": true,
       "metadata": {},
       "overflow": false,
       "plotOptions": {
        "customPlotOptions": {},
        "displayType": "table",
        "pivotAggregation": null,
        "pivotColumns": null,
        "xColumns": null,
        "yColumns": null
       },
       "removedWidgets": [],
       "schema": [
        {
         "metadata": "{}",
         "name": "YearID",
         "type": "\"integer\""
        },
        {
         "metadata": "{}",
         "name": "Year",
         "type": "\"integer\""
        }
       ],
       "type": "table"
      }
     },
     "output_type": "display_data"
    },
    {
     "output_type": "display_data",
     "data": {
      "text/html": [
       "<style scoped>\n",
       "  .table-result-container {\n",
       "    max-height: 300px;\n",
       "    overflow: auto;\n",
       "  }\n",
       "  table, th, td {\n",
       "    border: 1px solid black;\n",
       "    border-collapse: collapse;\n",
       "  }\n",
       "  th, td {\n",
       "    padding: 5px;\n",
       "  }\n",
       "  th {\n",
       "    text-align: left;\n",
       "  }\n",
       "</style><div class='table-result-container'><table class='table-result'><thead style='background-color: white'><tr><th>FactID</th><th>CropID</th><th>StateID</th><th>DistrictID</th><th>SeasonID</th><th>YearID</th><th>Area_Ha</th><th>Production_Tons</th><th>Yield</th><th>MSP_Per_Quintal</th><th>MarketPrice_Per_Quintal</th><th>Revenue_MSP</th><th>Revenue_MarketPrice</th></tr></thead><tbody><tr><td>1</td><td>1</td><td>9</td><td>17</td><td>1</td><td>5</td><td>12000</td><td>36000</td><td>3.0</td><td>2183</td><td>2900</td><td>7858800000</td><td>10440000000</td></tr><tr><td>2</td><td>2</td><td>1</td><td>1</td><td>2</td><td>6</td><td>15000</td><td>48000</td><td>3.2</td><td>2125</td><td>2850</td><td>10200000000</td><td>13680000000</td></tr><tr><td>3</td><td>3</td><td>2</td><td>3</td><td>1</td><td>7</td><td>18000</td><td>32000</td><td>1.78</td><td>2500</td><td>2600</td><td>8000000000</td><td>8320000000</td></tr><tr><td>4</td><td>4</td><td>3</td><td>5</td><td>2</td><td>8</td><td>10000</td><td>28000</td><td>2.8</td><td>6620</td><td>6500</td><td>18536000000</td><td>18200000000</td></tr><tr><td>5</td><td>1</td><td>5</td><td>9</td><td>3</td><td>9</td><td>9000</td><td>20000</td><td>2.22</td><td>2090</td><td>2200</td><td>4180000000</td><td>4400000000</td></tr><tr><td>6</td><td>2</td><td>4</td><td>7</td><td>1</td><td>10</td><td>13000</td><td>39000</td><td>3.0</td><td>3700</td><td>3900</td><td>14430000000</td><td>15210000000</td></tr><tr><td>7</td><td>5</td><td>6</td><td>11</td><td>2</td><td>5</td><td>8000</td><td>15000</td><td>1.88</td><td>4600</td><td>4700</td><td>6900000000</td><td>7050000000</td></tr><tr><td>8</td><td>6</td><td>7</td><td>13</td><td>1</td><td>6</td><td>7000</td><td>14000</td><td>2.0</td><td>5335</td><td>5200</td><td>7469000000</td><td>7280000000</td></tr><tr><td>9</td><td>7</td><td>8</td><td>15</td><td>2</td><td>7</td><td>6000</td><td>10000</td><td>1.67</td><td>5450</td><td>5550</td><td>5450000000</td><td>5550000000</td></tr><tr><td>10</td><td>3</td><td>10</td><td>19</td><td>3</td><td>8</td><td>5000</td><td>9000</td><td>1.8</td><td>4600</td><td>4800</td><td>4140000000</td><td>4320000000</td></tr><tr><td>11</td><td>8</td><td>1</td><td>2</td><td>1</td><td>9</td><td>7000</td><td>15000</td><td>2.14</td><td>3180</td><td>3300</td><td>4770000000</td><td>4950000000</td></tr><tr><td>12</td><td>9</td><td>2</td><td>4</td><td>2</td><td>10</td><td>4500</td><td>9000</td><td>2.0</td><td>8635</td><td>8800</td><td>7771500000</td><td>7920000000</td></tr><tr><td>13</td><td>10</td><td>3</td><td>6</td><td>1</td><td>1</td><td>4000</td><td>8500</td><td>2.12</td><td>6377</td><td>6500</td><td>5420450000</td><td>5525000000</td></tr><tr><td>14</td><td>1</td><td>4</td><td>8</td><td>3</td><td>2</td><td>15000</td><td>31000</td><td>2.06</td><td>2203</td><td>2300</td><td>6829300000</td><td>7130000000</td></tr><tr><td>15</td><td>2</td><td>5</td><td>10</td><td>2</td><td>3</td><td>10000</td><td>29000</td><td>2.9</td><td>2125</td><td>2250</td><td>6162500000</td><td>6525000000</td></tr><tr><td>16</td><td>4</td><td>6</td><td>12</td><td>1</td><td>4</td><td>8000</td><td>26000</td><td>3.25</td><td>6620</td><td>6700</td><td>17212000000</td><td>17420000000</td></tr><tr><td>17</td><td>5</td><td>7</td><td>14</td><td>3</td><td>5</td><td>7500</td><td>17000</td><td>2.27</td><td>2090</td><td>2200</td><td>3553000000</td><td>3740000000</td></tr><tr><td>18</td><td>6</td><td>8</td><td>16</td><td>2</td><td>6</td><td>9500</td><td>19500</td><td>2.05</td><td>5335</td><td>5450</td><td>10403250000</td><td>10627500000</td></tr><tr><td>19</td><td>7</td><td>9</td><td>18</td><td>1</td><td>7</td><td>6800</td><td>12500</td><td>1.84</td><td>4600</td><td>4800</td><td>5750000000</td><td>6000000000</td></tr><tr><td>20</td><td>10</td><td>10</td><td>20</td><td>3</td><td>8</td><td>6000</td><td>11000</td><td>1.83</td><td>5450</td><td>5600</td><td>5995000000</td><td>6160000000</td></tr></tbody></table></div>"
      ]
     },
     "metadata": {
      "application/vnd.databricks.v1+output": {
       "addedWidgets": {},
       "aggData": [],
       "aggError": "",
       "aggOverflow": false,
       "aggSchema": [],
       "aggSeriesLimitReached": false,
       "aggType": "",
       "arguments": {},
       "columnCustomDisplayInfos": {},
       "data": [
        [
         1,
         1,
         9,
         17,
         1,
         5,
         12000,
         36000,
         3.0,
         2183,
         2900,
         7858800000,
         10440000000
        ],
        [
         2,
         2,
         1,
         1,
         2,
         6,
         15000,
         48000,
         3.2,
         2125,
         2850,
         10200000000,
         13680000000
        ],
        [
         3,
         3,
         2,
         3,
         1,
         7,
         18000,
         32000,
         1.78,
         2500,
         2600,
         8000000000,
         8320000000
        ],
        [
         4,
         4,
         3,
         5,
         2,
         8,
         10000,
         28000,
         2.8,
         6620,
         6500,
         18536000000,
         18200000000
        ],
        [
         5,
         1,
         5,
         9,
         3,
         9,
         9000,
         20000,
         2.22,
         2090,
         2200,
         4180000000,
         4400000000
        ],
        [
         6,
         2,
         4,
         7,
         1,
         10,
         13000,
         39000,
         3.0,
         3700,
         3900,
         14430000000,
         15210000000
        ],
        [
         7,
         5,
         6,
         11,
         2,
         5,
         8000,
         15000,
         1.88,
         4600,
         4700,
         6900000000,
         7050000000
        ],
        [
         8,
         6,
         7,
         13,
         1,
         6,
         7000,
         14000,
         2.0,
         5335,
         5200,
         7469000000,
         7280000000
        ],
        [
         9,
         7,
         8,
         15,
         2,
         7,
         6000,
         10000,
         1.67,
         5450,
         5550,
         5450000000,
         5550000000
        ],
        [
         10,
         3,
         10,
         19,
         3,
         8,
         5000,
         9000,
         1.8,
         4600,
         4800,
         4140000000,
         4320000000
        ],
        [
         11,
         8,
         1,
         2,
         1,
         9,
         7000,
         15000,
         2.14,
         3180,
         3300,
         4770000000,
         4950000000
        ],
        [
         12,
         9,
         2,
         4,
         2,
         10,
         4500,
         9000,
         2.0,
         8635,
         8800,
         7771500000,
         7920000000
        ],
        [
         13,
         10,
         3,
         6,
         1,
         1,
         4000,
         8500,
         2.12,
         6377,
         6500,
         5420450000,
         5525000000
        ],
        [
         14,
         1,
         4,
         8,
         3,
         2,
         15000,
         31000,
         2.06,
         2203,
         2300,
         6829300000,
         7130000000
        ],
        [
         15,
         2,
         5,
         10,
         2,
         3,
         10000,
         29000,
         2.9,
         2125,
         2250,
         6162500000,
         6525000000
        ],
        [
         16,
         4,
         6,
         12,
         1,
         4,
         8000,
         26000,
         3.25,
         6620,
         6700,
         17212000000,
         17420000000
        ],
        [
         17,
         5,
         7,
         14,
         3,
         5,
         7500,
         17000,
         2.27,
         2090,
         2200,
         3553000000,
         3740000000
        ],
        [
         18,
         6,
         8,
         16,
         2,
         6,
         9500,
         19500,
         2.05,
         5335,
         5450,
         10403250000,
         10627500000
        ],
        [
         19,
         7,
         9,
         18,
         1,
         7,
         6800,
         12500,
         1.84,
         4600,
         4800,
         5750000000,
         6000000000
        ],
        [
         20,
         10,
         10,
         20,
         3,
         8,
         6000,
         11000,
         1.83,
         5450,
         5600,
         5995000000,
         6160000000
        ]
       ],
       "datasetInfos": [],
       "dbfsResultPath": null,
       "isJsonSchema": true,
       "metadata": {},
       "overflow": false,
       "plotOptions": {
        "customPlotOptions": {},
        "displayType": "table",
        "pivotAggregation": null,
        "pivotColumns": null,
        "xColumns": null,
        "yColumns": null
       },
       "removedWidgets": [],
       "schema": [
        {
         "metadata": "{}",
         "name": "FactID",
         "type": "\"integer\""
        },
        {
         "metadata": "{}",
         "name": "CropID",
         "type": "\"integer\""
        },
        {
         "metadata": "{}",
         "name": "StateID",
         "type": "\"integer\""
        },
        {
         "metadata": "{}",
         "name": "DistrictID",
         "type": "\"integer\""
        },
        {
         "metadata": "{}",
         "name": "SeasonID",
         "type": "\"integer\""
        },
        {
         "metadata": "{}",
         "name": "YearID",
         "type": "\"integer\""
        },
        {
         "metadata": "{}",
         "name": "Area_Ha",
         "type": "\"integer\""
        },
        {
         "metadata": "{}",
         "name": "Production_Tons",
         "type": "\"integer\""
        },
        {
         "metadata": "{}",
         "name": "Yield",
         "type": "\"double\""
        },
        {
         "metadata": "{}",
         "name": "MSP_Per_Quintal",
         "type": "\"integer\""
        },
        {
         "metadata": "{}",
         "name": "MarketPrice_Per_Quintal",
         "type": "\"integer\""
        },
        {
         "metadata": "{}",
         "name": "Revenue_MSP",
         "type": "\"long\""
        },
        {
         "metadata": "{}",
         "name": "Revenue_MarketPrice",
         "type": "\"long\""
        }
       ],
       "type": "table"
      }
     },
     "output_type": "display_data"
    }
   ],
   "source": [
    "crop_delta = spark.read.table(\"workspace.crop_management_system.Dim_Crop_delta\")\n",
    "display(crop_delta)\n",
    "district_delta = spark.read.table(\"workspace.crop_management_system.Dim_District_delta\")\n",
    "display(district_delta)\n",
    "season_delta = spark.read.table(\"workspace.crop_management_system.Dim_Season_delta\")\n",
    "display(season_delta)\n",
    "state_delta = spark.read.table(\"workspace.crop_management_system.Dim_State_delta\")\n",
    "display(state_delta)\n",
    "year_delta = spark.read.table(\"workspace.crop_management_system.Dim_Year_delta\")\n",
    "display(year_delta)\n",
    "production_delta = spark.read.table(\"workspace.crop_management_system.Fact_crop_production_sales_delta\")\n",
    "display(production_delta)"
   ]
  },
  {
   "cell_type": "code",
   "execution_count": 0,
   "metadata": {
    "application/vnd.databricks.v1+cell": {
     "cellMetadata": {
      "byteLimit": 2048000,
      "rowLimit": 10000
     },
     "inputWidgets": {},
     "nuid": "82434f1b-1c75-446e-8e79-91dbc9b74ff7",
     "showTitle": false,
     "tableResultSettingsMap": {},
     "title": ""
    }
   },
   "outputs": [],
   "source": [
    "# # Convert to Pandas\n",
    "# dim_crop_pd = dim_crop.toPandas()\n",
    "\n",
    "# # Replace NA with General\n",
    "# dim_crop_pd['Variety'] = dim_crop_pd['Variety'].replace('NA', 'General')\n",
    "\n",
    "# # Save back as CSV\n",
    "# dim_crop_pd.to_csv('/Volumes/workspace/crop_management_system/dimension_volume/Dim_Crop.csv', index=False)\n"
   ]
  }
 ],
 "metadata": {
  "application/vnd.databricks.v1+notebook": {
   "computePreferences": null,
   "dashboards": [],
   "environmentMetadata": {
    "base_environment": "",
    "environment_version": "2"
   },
   "inputWidgetPreferences": null,
   "language": "python",
   "notebookMetadata": {
    "pythonIndentUnit": 4
   },
   "notebookName": "Crop Management System Delta Tables",
   "widgets": {}
  },
  "language_info": {
   "name": "python"
  }
 },
 "nbformat": 4,
 "nbformat_minor": 0
}