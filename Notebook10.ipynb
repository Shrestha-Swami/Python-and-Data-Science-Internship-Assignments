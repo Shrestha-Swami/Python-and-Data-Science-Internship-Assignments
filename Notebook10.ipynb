{
 "cells": [
  {
   "cell_type": "code",
   "execution_count": 0,
   "metadata": {
    "application/vnd.databricks.v1+cell": {
     "cellMetadata": {
      "byteLimit": 2048000,
      "rowLimit": 10000
     },
     "inputWidgets": {},
     "nuid": "27047715-a08f-4604-bda5-ab63b8c755b7",
     "showTitle": false,
     "tableResultSettingsMap": {},
     "title": ""
    }
   },
   "outputs": [
    {
     "output_type": "display_data",
     "data": {
      "text/html": [
       "<style scoped>\n",
       "  .table-result-container {\n",
       "    max-height: 300px;\n",
       "    overflow: auto;\n",
       "  }\n",
       "  table, th, td {\n",
       "    border: 1px solid black;\n",
       "    border-collapse: collapse;\n",
       "  }\n",
       "  th, td {\n",
       "    padding: 5px;\n",
       "  }\n",
       "  th {\n",
       "    text-align: left;\n",
       "  }\n",
       "</style><div class='table-result-container'><table class='table-result'><thead style='background-color: white'><tr><th>ProcessName</th><th>RawTableName</th><th>RawTableColumn</th><th>RawTableColumnDataType</th><th>Logic</th><th>CuratedTableName</th><th>CuratedTableColumn</th><th>CuratedTableColumnDataType</th></tr></thead><tbody><tr><td>UserInfo</td><td>User</td><td>ID</td><td>STRING</td><td>ID is NOT NULL</td><td>cur_User</td><td>UserID</td><td>STRING</td></tr><tr><td>UserInfo</td><td>User</td><td>Name</td><td>STRING</td><td>null</td><td>cur_User</td><td>UserName</td><td>STRING</td></tr></tbody></table></div>"
      ]
     },
     "metadata": {
      "application/vnd.databricks.v1+output": {
       "addedWidgets": {},
       "aggData": [],
       "aggError": "",
       "aggOverflow": false,
       "aggSchema": [],
       "aggSeriesLimitReached": false,
       "aggType": "",
       "arguments": {},
       "columnCustomDisplayInfos": {},
       "data": [
        [
         "UserInfo",
         "User",
         "ID",
         "STRING",
         "ID is NOT NULL",
         "cur_User",
         "UserID",
         "STRING"
        ],
        [
         "UserInfo",
         "User",
         "Name",
         "STRING",
         null,
         "cur_User",
         "UserName",
         "STRING"
        ]
       ],
       "datasetInfos": [],
       "dbfsResultPath": null,
       "isJsonSchema": true,
       "metadata": {},
       "overflow": false,
       "plotOptions": {
        "customPlotOptions": {},
        "displayType": "table",
        "pivotAggregation": null,
        "pivotColumns": null,
        "xColumns": null,
        "yColumns": null
       },
       "removedWidgets": [],
       "schema": [
        {
         "metadata": "{}",
         "name": "ProcessName",
         "type": "\"string\""
        },
        {
         "metadata": "{}",
         "name": "RawTableName",
         "type": "\"string\""
        },
        {
         "metadata": "{}",
         "name": "RawTableColumn",
         "type": "\"string\""
        },
        {
         "metadata": "{}",
         "name": "RawTableColumnDataType",
         "type": "\"string\""
        },
        {
         "metadata": "{}",
         "name": "Logic",
         "type": "\"string\""
        },
        {
         "metadata": "{}",
         "name": "CuratedTableName",
         "type": "\"string\""
        },
        {
         "metadata": "{}",
         "name": "CuratedTableColumn",
         "type": "\"string\""
        },
        {
         "metadata": "{}",
         "name": "CuratedTableColumnDataType",
         "type": "\"string\""
        }
       ],
       "type": "table"
      }
     },
     "output_type": "display_data"
    }
   ],
   "source": [
    "df_metadata = spark.table(\"users.user_metadata\")\n",
    "display(df_metadata)"
   ]
  },
  {
   "cell_type": "code",
   "execution_count": 0,
   "metadata": {
    "application/vnd.databricks.v1+cell": {
     "cellMetadata": {
      "byteLimit": 2048000,
      "rowLimit": 10000
     },
     "inputWidgets": {},
     "nuid": "c7e4e16a-247f-4942-864b-dc5387953af5",
     "showTitle": false,
     "tableResultSettingsMap": {},
     "title": ""
    }
   },
   "outputs": [],
   "source": [
    "def drop_and_create_tables(tables_dict):\n",
    "    for table_name, columns in tables_dict.items():\n",
    "        col_def = \", \".join(columns)\n",
    "        drop_sql = f\"DROP TABLE IF EXISTS {table_name}\"\n",
    "        create_sql = f\"CREATE TABLE {table_name} ({col_def})\"\n",
    "        \n",
    "        spark.sql(drop_sql)\n",
    "        spark.sql(create_sql)\n",
    "        print(f\"Created Table: {table_name}\")"
   ]
  },
  {
   "cell_type": "code",
   "execution_count": 0,
   "metadata": {
    "application/vnd.databricks.v1+cell": {
     "cellMetadata": {
      "byteLimit": 2048000,
      "rowLimit": 10000
     },
     "inputWidgets": {},
     "nuid": "1fdf4dcb-a943-474c-9b7b-0787627b115c",
     "showTitle": false,
     "tableResultSettingsMap": {},
     "title": ""
    }
   },
   "outputs": [
    {
     "output_type": "stream",
     "name": "stdout",
     "output_type": "stream",
     "text": [
      "Created Table: User\nCreated Table: cur_User\n"
     ]
    }
   ],
   "source": [
    "from collections import defaultdict\n",
    "raw_tables = defaultdict(list)\n",
    "curated_tables = defaultdict(list)\n",
    "for row in df_metadata.collect():\n",
    "    #print(row)\n",
    "    table_name = row['RawTableName']\n",
    "    col_def = f\"{row['RawTableColumn']} {row['RawTableColumnDataType']}\"\n",
    "    raw_tables[table_name].append(col_def)\n",
    "    table_name = row['CuratedTableName']\n",
    "    col_def = f\"{row['CuratedTableColumn']} {row['CuratedTableColumnDataType']}\"\n",
    "    curated_tables[table_name].append(col_def)\n",
    "drop_and_create_tables(raw_tables)\n",
    "drop_and_create_tables(curated_tables)"
   ]
  },
  {
   "cell_type": "code",
   "execution_count": 0,
   "metadata": {
    "application/vnd.databricks.v1+cell": {
     "cellMetadata": {
      "byteLimit": 2048000,
      "implicitDf": true,
      "rowLimit": 10000
     },
     "inputWidgets": {},
     "nuid": "583c28b6-a179-4149-93e1-7d62d7a819ec",
     "showTitle": false,
     "tableResultSettingsMap": {},
     "title": ""
    }
   },
   "outputs": [
    {
     "output_type": "display_data",
     "data": {
      "text/html": [
       "<style scoped>\n",
       "  .table-result-container {\n",
       "    max-height: 300px;\n",
       "    overflow: auto;\n",
       "  }\n",
       "  table, th, td {\n",
       "    border: 1px solid black;\n",
       "    border-collapse: collapse;\n",
       "  }\n",
       "  th, td {\n",
       "    padding: 5px;\n",
       "  }\n",
       "  th {\n",
       "    text-align: left;\n",
       "  }\n",
       "</style><div class='table-result-container'><table class='table-result'><thead style='background-color: white'><tr><th>ID</th><th>Name</th></tr></thead><tbody><tr><td>201</td><td>Neha</td></tr><tr><td>202</td><td>Nakul</td></tr><tr><td>null</td><td>Shreya</td></tr></tbody></table></div>"
      ]
     },
     "metadata": {
      "application/vnd.databricks.v1+output": {
       "addedWidgets": {},
       "aggData": [],
       "aggError": "",
       "aggOverflow": false,
       "aggSchema": [],
       "aggSeriesLimitReached": false,
       "aggType": "",
       "arguments": {},
       "columnCustomDisplayInfos": {},
       "data": [
        [
         "201",
         "Neha"
        ],
        [
         "202",
         "Nakul"
        ],
        [
         null,
         "Shreya"
        ]
       ],
       "datasetInfos": [
        {
         "name": "_sqldf",
         "schema": {
          "fields": [
           {
            "metadata": {},
            "name": "ID",
            "nullable": true,
            "type": "string"
           },
           {
            "metadata": {},
            "name": "Name",
            "nullable": true,
            "type": "string"
           }
          ],
          "type": "struct"
         },
         "tableIdentifier": null,
         "typeStr": "pyspark.sql.connect.dataframe.DataFrame"
        }
       ],
       "dbfsResultPath": null,
       "isJsonSchema": true,
       "metadata": {
        "createTempViewForImplicitDf": true,
        "dataframeName": "_sqldf",
        "executionCount": 9
       },
       "overflow": false,
       "plotOptions": {
        "customPlotOptions": {},
        "displayType": "table",
        "pivotAggregation": null,
        "pivotColumns": null,
        "xColumns": null,
        "yColumns": null
       },
       "removedWidgets": [],
       "schema": [
        {
         "metadata": "{}",
         "name": "ID",
         "type": "\"string\""
        },
        {
         "metadata": "{}",
         "name": "Name",
         "type": "\"string\""
        }
       ],
       "type": "table"
      }
     },
     "output_type": "display_data"
    }
   ],
   "source": [
    "%sql\n",
    "insert into default.user values('201', 'Neha'), ('202', 'Nakul');\n",
    "insert into default.user(Name) values('Shreya');\n",
    "Select * from default.user;"
   ]
  },
  {
   "cell_type": "code",
   "execution_count": 0,
   "metadata": {
    "application/vnd.databricks.v1+cell": {
     "cellMetadata": {
      "byteLimit": 2048000,
      "rowLimit": 10000
     },
     "inputWidgets": {},
     "nuid": "e9cd5775-38e3-46ef-a1ca-5bf065e615b1",
     "showTitle": false,
     "tableResultSettingsMap": {},
     "title": ""
    }
   },
   "outputs": [
    {
     "output_type": "display_data",
     "data": {
      "text/html": [
       "<style scoped>\n",
       "  .table-result-container {\n",
       "    max-height: 300px;\n",
       "    overflow: auto;\n",
       "  }\n",
       "  table, th, td {\n",
       "    border: 1px solid black;\n",
       "    border-collapse: collapse;\n",
       "  }\n",
       "  th, td {\n",
       "    padding: 5px;\n",
       "  }\n",
       "  th {\n",
       "    text-align: left;\n",
       "  }\n",
       "</style><div class='table-result-container'><table class='table-result'><thead style='background-color: white'><tr><th>ProcessName</th><th>RawTableName</th><th>RawTableColumn</th><th>RawTableColumnDataType</th><th>Logic</th><th>CuratedTableName</th><th>CuratedTableColumn</th><th>CuratedTableColumnDataType</th></tr></thead><tbody><tr><td>UserInfo</td><td>User</td><td>ID</td><td>STRING</td><td>ID is NOT NULL</td><td>cur_User</td><td>UserID</td><td>STRING</td></tr><tr><td>UserInfo</td><td>User</td><td>Name</td><td>STRING</td><td>null</td><td>cur_User</td><td>UserName</td><td>STRING</td></tr></tbody></table></div>"
      ]
     },
     "metadata": {
      "application/vnd.databricks.v1+output": {
       "addedWidgets": {},
       "aggData": [],
       "aggError": "",
       "aggOverflow": false,
       "aggSchema": [],
       "aggSeriesLimitReached": false,
       "aggType": "",
       "arguments": {},
       "columnCustomDisplayInfos": {},
       "data": [
        [
         "UserInfo",
         "User",
         "ID",
         "STRING",
         "ID is NOT NULL",
         "cur_User",
         "UserID",
         "STRING"
        ],
        [
         "UserInfo",
         "User",
         "Name",
         "STRING",
         null,
         "cur_User",
         "UserName",
         "STRING"
        ]
       ],
       "datasetInfos": [],
       "dbfsResultPath": null,
       "isJsonSchema": true,
       "metadata": {},
       "overflow": false,
       "plotOptions": {
        "customPlotOptions": {},
        "displayType": "table",
        "pivotAggregation": null,
        "pivotColumns": null,
        "xColumns": null,
        "yColumns": null
       },
       "removedWidgets": [],
       "schema": [
        {
         "metadata": "{}",
         "name": "ProcessName",
         "type": "\"string\""
        },
        {
         "metadata": "{}",
         "name": "RawTableName",
         "type": "\"string\""
        },
        {
         "metadata": "{}",
         "name": "RawTableColumn",
         "type": "\"string\""
        },
        {
         "metadata": "{}",
         "name": "RawTableColumnDataType",
         "type": "\"string\""
        },
        {
         "metadata": "{}",
         "name": "Logic",
         "type": "\"string\""
        },
        {
         "metadata": "{}",
         "name": "CuratedTableName",
         "type": "\"string\""
        },
        {
         "metadata": "{}",
         "name": "CuratedTableColumn",
         "type": "\"string\""
        },
        {
         "metadata": "{}",
         "name": "CuratedTableColumnDataType",
         "type": "\"string\""
        }
       ],
       "type": "table"
      }
     },
     "output_type": "display_data"
    }
   ],
   "source": [
    "dbutils.widgets.text(\"process_name\", \" \", \"Enter process name\")\n",
    "process_name = dbutils.widgets.get(\"process_name\")\n",
    "input_process_names = [name.strip() for name in process_name.split(\",\") if name.strip()]\n",
    "filtered_df = df_metadata.filter(df_metadata['processname'].isin(input_process_names))\n",
    "display(filtered_df)\n"
   ]
  },
  {
   "cell_type": "markdown",
   "metadata": {
    "application/vnd.databricks.v1+cell": {
     "cellMetadata": {
      "byteLimit": 2048000,
      "rowLimit": 10000
     },
     "inputWidgets": {},
     "nuid": "4e4f0e4f-aa2e-46fa-8ad9-7434c8d3b2c4",
     "showTitle": false,
     "tableResultSettingsMap": {},
     "title": ""
    }
   },
   "source": [
    "dbutils.widgets.get(\"process_name\") retrieves the process names entered by the user in the widget.\n",
    "process_name.split(\",\") splits the input string into a list of process names using a comma as the delimiter.\n",
    "[name.strip() for name in process_name.split(\",\") if name.strip()] iterates over the list, strips any leading or trailing whitespace from each name, and includes only non-empty names in the final list input_process_names."
   ]
  },
  {
   "cell_type": "markdown",
   "metadata": {
    "application/vnd.databricks.v1+cell": {
     "cellMetadata": {
      "byteLimit": 2048000,
      "rowLimit": 10000
     },
     "inputWidgets": {},
     "nuid": "e297a953-532b-4f64-8241-2bb0b679adce",
     "showTitle": false,
     "tableResultSettingsMap": {},
     "title": ""
    }
   },
   "source": [
    "df_metadata.filter(df_metadata['processname'].isin(input_process_names)) filters the df_metadata DataFrame to include only the rows where the processname column matches any of the names in input_process_names.\n",
    "This allows you to dynamically filter the metadata DataFrame based on user input and display the filtered results."
   ]
  },
  {
   "cell_type": "code",
   "execution_count": 0,
   "metadata": {
    "application/vnd.databricks.v1+cell": {
     "cellMetadata": {
      "byteLimit": 2048000,
      "rowLimit": 10000
     },
     "inputWidgets": {},
     "nuid": "1cb9f9b2-8888-4a75-81c6-bcba143b9ee7",
     "showTitle": false,
     "tableResultSettingsMap": {},
     "title": ""
    }
   },
   "outputs": [
    {
     "output_type": "display_data",
     "data": {
      "text/html": [
       "<style scoped>\n",
       "  .table-result-container {\n",
       "    max-height: 300px;\n",
       "    overflow: auto;\n",
       "  }\n",
       "  table, th, td {\n",
       "    border: 1px solid black;\n",
       "    border-collapse: collapse;\n",
       "  }\n",
       "  th, td {\n",
       "    padding: 5px;\n",
       "  }\n",
       "  th {\n",
       "    text-align: left;\n",
       "  }\n",
       "</style><div class='table-result-container'><table class='table-result'><thead style='background-color: white'><tr><th>ID</th><th>Name</th></tr></thead><tbody><tr><td>201</td><td>Neha</td></tr><tr><td>202</td><td>Nakul</td></tr><tr><td>null</td><td>Shreya</td></tr></tbody></table></div>"
      ]
     },
     "metadata": {
      "application/vnd.databricks.v1+output": {
       "addedWidgets": {},
       "aggData": [],
       "aggError": "",
       "aggOverflow": false,
       "aggSchema": [],
       "aggSeriesLimitReached": false,
       "aggType": "",
       "arguments": {},
       "columnCustomDisplayInfos": {},
       "data": [
        [
         "201",
         "Neha"
        ],
        [
         "202",
         "Nakul"
        ],
        [
         null,
         "Shreya"
        ]
       ],
       "datasetInfos": [],
       "dbfsResultPath": null,
       "isJsonSchema": true,
       "metadata": {},
       "overflow": false,
       "plotOptions": {
        "customPlotOptions": {},
        "displayType": "table",
        "pivotAggregation": null,
        "pivotColumns": null,
        "xColumns": null,
        "yColumns": null
       },
       "removedWidgets": [],
       "schema": [
        {
         "metadata": "{}",
         "name": "ID",
         "type": "\"string\""
        },
        {
         "metadata": "{}",
         "name": "Name",
         "type": "\"string\""
        }
       ],
       "type": "table"
      }
     },
     "output_type": "display_data"
    },
    {
     "output_type": "display_data",
     "data": {
      "text/html": [
       "<style scoped>\n",
       "  .table-result-container {\n",
       "    max-height: 300px;\n",
       "    overflow: auto;\n",
       "  }\n",
       "  table, th, td {\n",
       "    border: 1px solid black;\n",
       "    border-collapse: collapse;\n",
       "  }\n",
       "  th, td {\n",
       "    padding: 5px;\n",
       "  }\n",
       "  th {\n",
       "    text-align: left;\n",
       "  }\n",
       "</style><div class='table-result-container'><table class='table-result'><thead style='background-color: white'><tr><th>ID</th><th>Name</th></tr></thead><tbody><tr><td>201</td><td>Neha</td></tr><tr><td>202</td><td>Nakul</td></tr></tbody></table></div>"
      ]
     },
     "metadata": {
      "application/vnd.databricks.v1+output": {
       "addedWidgets": {},
       "aggData": [],
       "aggError": "",
       "aggOverflow": false,
       "aggSchema": [],
       "aggSeriesLimitReached": false,
       "aggType": "",
       "arguments": {},
       "columnCustomDisplayInfos": {},
       "data": [
        [
         "201",
         "Neha"
        ],
        [
         "202",
         "Nakul"
        ]
       ],
       "datasetInfos": [],
       "dbfsResultPath": null,
       "isJsonSchema": true,
       "metadata": {},
       "overflow": false,
       "plotOptions": {
        "customPlotOptions": {},
        "displayType": "table",
        "pivotAggregation": null,
        "pivotColumns": null,
        "xColumns": null,
        "yColumns": null
       },
       "removedWidgets": [],
       "schema": [
        {
         "metadata": "{}",
         "name": "ID",
         "type": "\"string\""
        },
        {
         "metadata": "{}",
         "name": "Name",
         "type": "\"string\""
        }
       ],
       "type": "table"
      }
     },
     "output_type": "display_data"
    },
    {
     "output_type": "display_data",
     "data": {
      "text/html": [
       "<style scoped>\n",
       "  .table-result-container {\n",
       "    max-height: 300px;\n",
       "    overflow: auto;\n",
       "  }\n",
       "  table, th, td {\n",
       "    border: 1px solid black;\n",
       "    border-collapse: collapse;\n",
       "  }\n",
       "  th, td {\n",
       "    padding: 5px;\n",
       "  }\n",
       "  th {\n",
       "    text-align: left;\n",
       "  }\n",
       "</style><div class='table-result-container'><table class='table-result'><thead style='background-color: white'><tr><th>UserID</th><th>UserName</th></tr></thead><tbody><tr><td>201</td><td>Neha</td></tr><tr><td>202</td><td>Nakul</td></tr></tbody></table></div>"
      ]
     },
     "metadata": {
      "application/vnd.databricks.v1+output": {
       "addedWidgets": {},
       "aggData": [],
       "aggError": "",
       "aggOverflow": false,
       "aggSchema": [],
       "aggSeriesLimitReached": false,
       "aggType": "",
       "arguments": {},
       "columnCustomDisplayInfos": {},
       "data": [
        [
         "201",
         "Neha"
        ],
        [
         "202",
         "Nakul"
        ]
       ],
       "datasetInfos": [],
       "dbfsResultPath": null,
       "isJsonSchema": true,
       "metadata": {},
       "overflow": false,
       "plotOptions": {
        "customPlotOptions": {},
        "displayType": "table",
        "pivotAggregation": null,
        "pivotColumns": null,
        "xColumns": null,
        "yColumns": null
       },
       "removedWidgets": [],
       "schema": [
        {
         "metadata": "{}",
         "name": "UserID",
         "type": "\"string\""
        },
        {
         "metadata": "{}",
         "name": "UserName",
         "type": "\"string\""
        }
       ],
       "type": "table"
      }
     },
     "output_type": "display_data"
    }
   ],
   "source": [
    "raw_table_name = df_metadata.select('RawTableName').distinct().collect()[0][0]\n",
    "user_df = spark.table(raw_table_name)\n",
    "display(user_df)\n",
    "\n",
    "for row in df_metadata.collect():\n",
    "    logic = row['Logic']\n",
    "    if logic:\n",
    "        filtered_df = user_df.filter(logic)\n",
    "        display(filtered_df)\n",
    "\n",
    "        if row['CuratedTableName']:\n",
    "            filtered_df.write.insertInto(row['CuratedTableName'])\n",
    "curated_table_name = df_metadata.select('CuratedTableName').distinct().collect()[0][0]\n",
    "cur_user_df = spark.table(curated_table_name)\n",
    "display(cur_user_df)"
   ]
  }
 ],
 "metadata": {
  "application/vnd.databricks.v1+notebook": {
   "computePreferences": null,
   "dashboards": [],
   "environmentMetadata": {
    "base_environment": "",
    "environment_version": "2"
   },
   "inputWidgetPreferences": null,
   "language": "python",
   "notebookMetadata": {
    "mostRecentlyExecutedCommandWithImplicitDF": {
     "commandId": 8081033099153267,
     "dataframes": [
      "_sqldf"
     ]
    },
    "pythonIndentUnit": 4
   },
   "notebookName": "Notebook10",
   "widgets": {
    "process_name": {
     "currentValue": "UserInfo",
     "nuid": "13570590-c1ab-4648-bd99-188d3e7c4896",
     "typedWidgetInfo": {
      "autoCreated": false,
      "defaultValue": " ",
      "label": "Enter process name",
      "name": "process_name",
      "options": {
       "widgetDisplayType": "Text",
       "validationRegex": null
      },
      "parameterDataType": "String"
     },
     "widgetInfo": {
      "widgetType": "text",
      "defaultValue": " ",
      "label": "Enter process name",
      "name": "process_name",
      "options": {
       "widgetType": "text",
       "autoCreated": null,
       "validationRegex": null
      }
     }
    }
   }
  },
  "language_info": {
   "name": "python"
  }
 },
 "nbformat": 4,
 "nbformat_minor": 0
}