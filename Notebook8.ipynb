{
 "cells": [
  {
   "cell_type": "code",
   "execution_count": 0,
   "metadata": {
    "application/vnd.databricks.v1+cell": {
     "cellMetadata": {
      "byteLimit": 2048000,
      "rowLimit": 10000
     },
     "inputWidgets": {},
     "nuid": "35b4d603-5036-40b7-b638-6310569e1284",
     "showTitle": false,
     "tableResultSettingsMap": {},
     "title": ""
    }
   },
   "outputs": [],
   "source": [
    "from collections import defaultdict"
   ]
  },
  {
   "cell_type": "code",
   "execution_count": 0,
   "metadata": {
    "application/vnd.databricks.v1+cell": {
     "cellMetadata": {
      "byteLimit": 2048000,
      "rowLimit": 10000
     },
     "inputWidgets": {},
     "nuid": "331dd171-a496-4e8b-92d8-b48b07a34429",
     "showTitle": false,
     "tableResultSettingsMap": {},
     "title": ""
    }
   },
   "outputs": [],
   "source": [
    "def drop_and_create_tables(tables_dict):\n",
    "    for table_name, columns in tables_dict.items():\n",
    "        col_def = \", \".join(columns)\n",
    "        drop_sql = f\"DROP TABLE IF EXISTS {table_name}\"\n",
    "        create_sql = f\"CREATE TABLE {table_name} ({col_def})\"\n",
    "        spark.sql(drop_sql)\n",
    "        spark.sql(create_sql)\n",
    "        print(\"Created Table: \",table_name)"
   ]
  },
  {
   "cell_type": "code",
   "execution_count": 0,
   "metadata": {
    "application/vnd.databricks.v1+cell": {
     "cellMetadata": {
      "byteLimit": 2048000,
      "rowLimit": 10000
     },
     "inputWidgets": {},
     "nuid": "55558059-e24b-450a-81f0-e7f000b92aac",
     "showTitle": false,
     "tableResultSettingsMap": {},
     "title": ""
    }
   },
   "outputs": [],
   "source": [
    "def create_table_from_metadata(df_metadata, table_name, col_name, col_data_type):\n",
    "    tables = defaultdict(list)\n",
    "    for row in df_metadata.collect():\n",
    "        tname = row[table_name]\n",
    "        col_def = f\"{row[col_name]} {row[col_data_type]}\"\n",
    "        tables[tname].append(col_def)\n",
    "    drop_and_create_tables(tables)\n"
   ]
  },
  {
   "cell_type": "code",
   "execution_count": 0,
   "metadata": {
    "application/vnd.databricks.v1+cell": {
     "cellMetadata": {
      "byteLimit": 2048000,
      "rowLimit": 10000
     },
     "inputWidgets": {},
     "nuid": "30ed6d6a-71b5-4de0-b2af-f338b36f16fc",
     "showTitle": false,
     "tableResultSettingsMap": {},
     "title": ""
    }
   },
   "outputs": [
    {
     "output_type": "display_data",
     "data": {
      "text/html": [
       "<style scoped>\n",
       "  .table-result-container {\n",
       "    max-height: 300px;\n",
       "    overflow: auto;\n",
       "  }\n",
       "  table, th, td {\n",
       "    border: 1px solid black;\n",
       "    border-collapse: collapse;\n",
       "  }\n",
       "  th, td {\n",
       "    padding: 5px;\n",
       "  }\n",
       "  th {\n",
       "    text-align: left;\n",
       "  }\n",
       "</style><div class='table-result-container'><table class='table-result'><thead style='background-color: white'><tr><th>Raw Table Name</th><th>Raw Table Column</th><th>Raw Table Column Data Type</th><th>Curated Table Name</th><th>Curated Table Column</th><th>Curated Table Column Data Type</th><th>Presentation Table Name</th><th>Presentation Table Column</th><th>Presentation Table Column Data Type</th></tr></thead><tbody><tr><td>customers_raw</td><td>id</td><td>INT</td><td>customers_curated</td><td>customer_id</td><td>INT</td><td>customers_present</td><td>cust_id</td><td>INT</td></tr><tr><td>customers_raw</td><td>name</td><td>STRING</td><td>customers_curated</td><td>customer_name</td><td>STRING</td><td>customers_present</td><td>cust_name</td><td>STRING</td></tr><tr><td>customers_raw</td><td>email</td><td>STRING</td><td>customers_curated</td><td>email_address</td><td>STRING</td><td>customers_present</td><td>email</td><td>STRING</td></tr><tr><td>orders_raw</td><td>order_id</td><td>INT</td><td>orders_curated</td><td>order_id</td><td>INT</td><td>orders_present</td><td>order_num</td><td>INT</td></tr><tr><td>orders_raw</td><td>customer_id</td><td>INT</td><td>orders_curated</td><td>cust_id</td><td>INT</td><td>orders_present</td><td>customer_id</td><td>INT</td></tr><tr><td>orders_raw</td><td>total_amount</td><td>DOUBLE</td><td>orders_curated</td><td>total</td><td>DOUBLE</td><td>orders_present</td><td>total_amount</td><td>DOUBLE</td></tr></tbody></table></div>"
      ]
     },
     "metadata": {
      "application/vnd.databricks.v1+output": {
       "addedWidgets": {},
       "aggData": [],
       "aggError": "",
       "aggOverflow": false,
       "aggSchema": [],
       "aggSeriesLimitReached": false,
       "aggType": "",
       "arguments": {},
       "columnCustomDisplayInfos": {},
       "data": [
        [
         "customers_raw",
         "id",
         "INT",
         "customers_curated",
         "customer_id",
         "INT",
         "customers_present",
         "cust_id",
         "INT"
        ],
        [
         "customers_raw",
         "name",
         "STRING",
         "customers_curated",
         "customer_name",
         "STRING",
         "customers_present",
         "cust_name",
         "STRING"
        ],
        [
         "customers_raw",
         "email",
         "STRING",
         "customers_curated",
         "email_address",
         "STRING",
         "customers_present",
         "email",
         "STRING"
        ],
        [
         "orders_raw",
         "order_id",
         "INT",
         "orders_curated",
         "order_id",
         "INT",
         "orders_present",
         "order_num",
         "INT"
        ],
        [
         "orders_raw",
         "customer_id",
         "INT",
         "orders_curated",
         "cust_id",
         "INT",
         "orders_present",
         "customer_id",
         "INT"
        ],
        [
         "orders_raw",
         "total_amount",
         "DOUBLE",
         "orders_curated",
         "total",
         "DOUBLE",
         "orders_present",
         "total_amount",
         "DOUBLE"
        ]
       ],
       "datasetInfos": [],
       "dbfsResultPath": null,
       "isJsonSchema": true,
       "metadata": {},
       "overflow": false,
       "plotOptions": {
        "customPlotOptions": {},
        "displayType": "table",
        "pivotAggregation": null,
        "pivotColumns": null,
        "xColumns": null,
        "yColumns": null
       },
       "removedWidgets": [],
       "schema": [
        {
         "metadata": "{}",
         "name": "Raw Table Name",
         "type": "\"string\""
        },
        {
         "metadata": "{}",
         "name": "Raw Table Column",
         "type": "\"string\""
        },
        {
         "metadata": "{}",
         "name": "Raw Table Column Data Type",
         "type": "\"string\""
        },
        {
         "metadata": "{}",
         "name": "Curated Table Name",
         "type": "\"string\""
        },
        {
         "metadata": "{}",
         "name": "Curated Table Column",
         "type": "\"string\""
        },
        {
         "metadata": "{}",
         "name": "Curated Table Column Data Type",
         "type": "\"string\""
        },
        {
         "metadata": "{}",
         "name": "Presentation Table Name",
         "type": "\"string\""
        },
        {
         "metadata": "{}",
         "name": "Presentation Table Column",
         "type": "\"string\""
        },
        {
         "metadata": "{}",
         "name": "Presentation Table Column Data Type",
         "type": "\"string\""
        }
       ],
       "type": "table"
      }
     },
     "output_type": "display_data"
    },
    {
     "output_type": "stream",
     "name": "stdout",
     "output_type": "stream",
     "text": [
      "Created Table:  customers_raw\nCreated Table:  orders_raw\nCreated Table:  customers_curated\nCreated Table:  orders_curated\nCreated Table:  customers_present\nCreated Table:  orders_present\n"
     ]
    }
   ],
   "source": [
    "df = spark.table(\"users.new_metadata\")\n",
    "display(df)\n",
    "create_table_from_metadata(df, 'Raw Table Name', 'Raw Table Column', 'Raw Table Column Data Type')\n",
    "create_table_from_metadata(df, 'Curated Table Name', 'Curated Table Column', 'Curated Table Column Data Type')\n",
    "create_table_from_metadata(df, 'Presentation Table Name', 'Presentation Table Column', 'Presentation Table Column Data Type')"
   ]
  }
 ],
 "metadata": {
  "application/vnd.databricks.v1+notebook": {
   "computePreferences": null,
   "dashboards": [],
   "environmentMetadata": {
    "base_environment": "",
    "environment_version": "2"
   },
   "inputWidgetPreferences": null,
   "language": "python",
   "notebookMetadata": {
    "pythonIndentUnit": 4
   },
   "notebookName": "Notebook8",
   "widgets": {}
  },
  "language_info": {
   "name": "python"
  }
 },
 "nbformat": 4,
 "nbformat_minor": 0
}