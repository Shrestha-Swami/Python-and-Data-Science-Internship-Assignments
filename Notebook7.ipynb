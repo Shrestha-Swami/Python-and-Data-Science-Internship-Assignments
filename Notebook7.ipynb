{
 "cells": [
  {
   "cell_type": "code",
   "execution_count": 0,
   "metadata": {
    "application/vnd.databricks.v1+cell": {
     "cellMetadata": {
      "byteLimit": 2048000,
      "rowLimit": 10000
     },
     "inputWidgets": {},
     "nuid": "4d4f11ab-1970-43ac-b340-645db927ee18",
     "showTitle": false,
     "tableResultSettingsMap": {},
     "title": ""
    }
   },
   "outputs": [],
   "source": [
    "def drop_and_create_tables(tables_dict):\n",
    "    for table_name, columns in tables_dict.items():\n",
    "        col_def = \", \".join(columns)\n",
    "        drop_sql = f\"DROP TABLE IF EXISTS {table_name}\"\n",
    "        create_sql = f\"CREATE TABLE {table_name} ({col_def})\"\n",
    "        \n",
    "        spark.sql(drop_sql)\n",
    "        spark.sql(create_sql)\n",
    "        print(f\"Created Table: {table_name}\")"
   ]
  },
  {
   "cell_type": "code",
   "execution_count": 0,
   "metadata": {
    "application/vnd.databricks.v1+cell": {
     "cellMetadata": {
      "byteLimit": 2048000,
      "rowLimit": 10000
     },
     "inputWidgets": {},
     "nuid": "802fe9c5-064c-4a14-bfa5-2916bc7e13c1",
     "showTitle": false,
     "tableResultSettingsMap": {},
     "title": ""
    }
   },
   "outputs": [
    {
     "output_type": "display_data",
     "data": {
      "text/html": [
       "<style scoped>\n",
       "  .table-result-container {\n",
       "    max-height: 300px;\n",
       "    overflow: auto;\n",
       "  }\n",
       "  table, th, td {\n",
       "    border: 1px solid black;\n",
       "    border-collapse: collapse;\n",
       "  }\n",
       "  th, td {\n",
       "    padding: 5px;\n",
       "  }\n",
       "  th {\n",
       "    text-align: left;\n",
       "  }\n",
       "</style><div class='table-result-container'><table class='table-result'><thead style='background-color: white'><tr><th>Raw Table Name</th><th>Raw Table Column</th><th>Raw Table Column Data Type</th><th>Curated Table Name</th><th>Curated Table Column</th><th>CuratedTable Column Data Type</th><th>Presentation Layer Name</th><th>Presentation Table Column</th><th>PresentationTable Column Data Type</th></tr></thead><tbody><tr><td>User</td><td>ID</td><td>STRING</td><td>Employee</td><td>EmpID</td><td>STRING</td><td>Emp</td><td>EmpID</td><td>STRING</td></tr><tr><td>User</td><td>Name</td><td>STRING</td><td>Employee</td><td>EmpName</td><td>STRING</td><td>Emp</td><td>EmpName</td><td>STRING</td></tr></tbody></table></div>"
      ]
     },
     "metadata": {
      "application/vnd.databricks.v1+output": {
       "addedWidgets": {},
       "aggData": [],
       "aggError": "",
       "aggOverflow": false,
       "aggSchema": [],
       "aggSeriesLimitReached": false,
       "aggType": "",
       "arguments": {},
       "columnCustomDisplayInfos": {},
       "data": [
        [
         "User",
         "ID",
         "STRING",
         "Employee",
         "EmpID",
         "STRING",
         "Emp",
         "EmpID",
         "STRING"
        ],
        [
         "User",
         "Name",
         "STRING",
         "Employee",
         "EmpName",
         "STRING",
         "Emp",
         "EmpName",
         "STRING"
        ]
       ],
       "datasetInfos": [],
       "dbfsResultPath": null,
       "isJsonSchema": true,
       "metadata": {},
       "overflow": false,
       "plotOptions": {
        "customPlotOptions": {},
        "displayType": "table",
        "pivotAggregation": null,
        "pivotColumns": null,
        "xColumns": null,
        "yColumns": null
       },
       "removedWidgets": [],
       "schema": [
        {
         "metadata": "{}",
         "name": "Raw Table Name",
         "type": "\"string\""
        },
        {
         "metadata": "{}",
         "name": "Raw Table Column",
         "type": "\"string\""
        },
        {
         "metadata": "{}",
         "name": "Raw Table Column Data Type",
         "type": "\"string\""
        },
        {
         "metadata": "{}",
         "name": "Curated Table Name",
         "type": "\"string\""
        },
        {
         "metadata": "{}",
         "name": "Curated Table Column",
         "type": "\"string\""
        },
        {
         "metadata": "{}",
         "name": "CuratedTable Column Data Type",
         "type": "\"string\""
        },
        {
         "metadata": "{}",
         "name": "Presentation Layer Name",
         "type": "\"string\""
        },
        {
         "metadata": "{}",
         "name": "Presentation Table Column",
         "type": "\"string\""
        },
        {
         "metadata": "{}",
         "name": "PresentationTable Column Data Type",
         "type": "\"string\""
        }
       ],
       "type": "table"
      }
     },
     "output_type": "display_data"
    },
    {
     "output_type": "stream",
     "name": "stdout",
     "output_type": "stream",
     "text": [
      "Created Table: User\nCreated Table: Employee\nCreated Table: Emp\n"
     ]
    }
   ],
   "source": [
    "df_metadata = spark.table(\"users.meta_data\")\n",
    "display(df_metadata)\n",
    "\n",
    "from collections import defaultdict\n",
    "raw_tables = defaultdict(list)\n",
    "curated_tables = defaultdict(list)\n",
    "presentation_tables = defaultdict(list)\n",
    "for row in df_metadata.collect():\n",
    "    table_name = row['Raw Table Name']\n",
    "    col_def = f\"{row['Raw Table Column']} {row['Raw Table Column Data Type']}\"\n",
    "    raw_tables[table_name].append(col_def)\n",
    "    table_name = row['Curated Table Name']\n",
    "    col_def = f\"{row['Curated Table Column']} {row['CuratedTable Column Data Type']}\"\n",
    "    curated_tables[table_name].append(col_def)\n",
    "    table_name = row['Presentation Layer Name']\n",
    "    col_def = f\"{row['Presentation Table Column']} {row['PresentationTable Column Data Type']}\"\n",
    "    presentation_tables[table_name].append(col_def)\n",
    "# Create raw tables\n",
    "drop_and_create_tables(raw_tables)\n",
    "\n",
    "# Create curated tables\n",
    "drop_and_create_tables(curated_tables)\n",
    "\n",
    "# Create presentation tables\n",
    "drop_and_create_tables(presentation_tables)"
   ]
  }
 ],
 "metadata": {
  "application/vnd.databricks.v1+notebook": {
   "computePreferences": null,
   "dashboards": [],
   "environmentMetadata": {
    "base_environment": "",
    "environment_version": "2"
   },
   "inputWidgetPreferences": null,
   "language": "python",
   "notebookMetadata": {
    "pythonIndentUnit": 4
   },
   "notebookName": "Notebook7",
   "widgets": {}
  },
  "language_info": {
   "name": "python"
  }
 },
 "nbformat": 4,
 "nbformat_minor": 0
}