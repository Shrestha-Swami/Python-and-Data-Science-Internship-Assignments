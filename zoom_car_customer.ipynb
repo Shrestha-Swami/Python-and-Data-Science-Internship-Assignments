{
 "cells": [
  {
   "cell_type": "code",
   "execution_count": 0,
   "metadata": {
    "application/vnd.databricks.v1+cell": {
     "cellMetadata": {
      "byteLimit": 2048000,
      "rowLimit": 10000
     },
     "inputWidgets": {},
     "nuid": "0b6011cd-00e3-4cef-a56b-7d391b759979",
     "showTitle": false,
     "tableResultSettingsMap": {},
     "title": ""
    }
   },
   "outputs": [],
   "source": [
    "from pyspark.sql.functions import col,current_date,to_date,datediff, lit, current_timestamp, sum as _sum, regexp_extract\n",
    "from delta.tables import DeltaTable"
   ]
  },
  {
   "cell_type": "code",
   "execution_count": 0,
   "metadata": {
    "application/vnd.databricks.v1+cell": {
     "cellMetadata": {
      "byteLimit": 2048000,
      "rowLimit": 10000
     },
     "inputWidgets": {},
     "nuid": "3263429b-a665-48b4-bb64-e38ca7435ae6",
     "showTitle": false,
     "tableResultSettingsMap": {},
     "title": ""
    }
   },
   "outputs": [
    {
     "output_type": "stream",
     "name": "stdout",
     "output_type": "stream",
     "text": [
      "/Volumes/workspace/zoom_car/zoom_car_volume/zoom_car_customers_20250717.json\n"
     ]
    }
   ],
   "source": [
    "import datetime\n",
    "\n",
    "# Format the current date as YYYYMMDD\n",
    "current_date_str = datetime.datetime.now().strftime(\"%Y%m%d\")\n",
    "\n",
    "# dbutils.widgets.text(\"arrival_date\", current_date_str)\n",
    "# date_of_arrival = dbutils.widgets.get(\"arrival_date\")\n",
    "customer_data = f\"/Volumes/workspace/zoom_car/zoom_car_volume/zoom_car_customers_{current_date_str}.json\"\n",
    "print(customer_data)"
   ]
  },
  {
   "cell_type": "code",
   "execution_count": 0,
   "metadata": {
    "application/vnd.databricks.v1+cell": {
     "cellMetadata": {
      "byteLimit": 2048000,
      "rowLimit": 10000
     },
     "inputWidgets": {},
     "nuid": "6b56146e-705d-448c-963b-e2ceaad29a38",
     "showTitle": false,
     "tableResultSettingsMap": {},
     "title": ""
    }
   },
   "outputs": [
    {
     "output_type": "stream",
     "name": "stdout",
     "output_type": "stream",
     "text": [
      "root\n |-- customer_id: string (nullable = true)\n |-- email: string (nullable = true)\n |-- name: string (nullable = true)\n |-- phone_number: string (nullable = true)\n |-- signup_date: string (nullable = true)\n |-- status: string (nullable = true)\n\n"
     ]
    },
    {
     "output_type": "display_data",
     "data": {
      "text/html": [
       "<style scoped>\n",
       "  .table-result-container {\n",
       "    max-height: 300px;\n",
       "    overflow: auto;\n",
       "  }\n",
       "  table, th, td {\n",
       "    border: 1px solid black;\n",
       "    border-collapse: collapse;\n",
       "  }\n",
       "  th, td {\n",
       "    padding: 5px;\n",
       "  }\n",
       "  th {\n",
       "    text-align: left;\n",
       "  }\n",
       "</style><div class='table-result-container'><table class='table-result'><thead style='background-color: white'><tr><th>customer_id</th><th>email</th><th>name</th><th>phone_number</th><th>signup_date</th><th>status</th></tr></thead><tbody><tr><td>C001</td><td>joshuathomas@yahoo.com</td><td>Emma Hawkins</td><td>3138135510</td><td>2025-05-28</td><td>inactive</td></tr><tr><td>C002</td><td>lrosario@gmail.com</td><td>Brenda Galloway</td><td>3304466710</td><td>2025-03-28</td><td>active</td></tr><tr><td>C003</td><td>yanderson@gmail.com</td><td>Michele Branch</td><td>1895122579</td><td>2025-02-17</td><td>active</td></tr><tr><td>C004</td><td>rhale@gmail.com</td><td>Jessica Gray</td><td>7041080388</td><td>2024-10-28</td><td>active</td></tr><tr><td>C005</td><td>orobinson@gmail.com</td><td>Carolyn Martinez</td><td>1403054963</td><td>2025-06-25</td><td>active</td></tr><tr><td>C006</td><td>twilliams@simmons.com</td><td>Kathy Strickland</td><td>8385627187</td><td>2024-11-14</td><td>active</td></tr><tr><td>C007</td><td>aramirez@vazquez.com</td><td>Tabitha Smith</td><td>4917908181</td><td>2025-02-08</td><td>active</td></tr><tr><td>C008</td><td>gregory64@porter.com</td><td>Christopher Lopez</td><td>0893704162</td><td>2024-03-30</td><td>active</td></tr><tr><td>C009</td><td>hcabrera@hotmail.com</td><td>Rebecca Fleming</td><td>5078290394</td><td>2024-03-13</td><td>active</td></tr><tr><td>C010</td><td>tgoodwin@cohen.biz</td><td>Amanda Bradley</td><td>7593852622</td><td>2024-06-04</td><td>inactive</td></tr></tbody></table></div>"
      ]
     },
     "metadata": {
      "application/vnd.databricks.v1+output": {
       "addedWidgets": {},
       "aggData": [],
       "aggError": "",
       "aggOverflow": false,
       "aggSchema": [],
       "aggSeriesLimitReached": false,
       "aggType": "",
       "arguments": {},
       "columnCustomDisplayInfos": {},
       "data": [
        [
         "C001",
         "joshuathomas@yahoo.com",
         "Emma Hawkins",
         "3138135510",
         "2025-05-28",
         "inactive"
        ],
        [
         "C002",
         "lrosario@gmail.com",
         "Brenda Galloway",
         "3304466710",
         "2025-03-28",
         "active"
        ],
        [
         "C003",
         "yanderson@gmail.com",
         "Michele Branch",
         "1895122579",
         "2025-02-17",
         "active"
        ],
        [
         "C004",
         "rhale@gmail.com",
         "Jessica Gray",
         "7041080388",
         "2024-10-28",
         "active"
        ],
        [
         "C005",
         "orobinson@gmail.com",
         "Carolyn Martinez",
         "1403054963",
         "2025-06-25",
         "active"
        ],
        [
         "C006",
         "twilliams@simmons.com",
         "Kathy Strickland",
         "8385627187",
         "2024-11-14",
         "active"
        ],
        [
         "C007",
         "aramirez@vazquez.com",
         "Tabitha Smith",
         "4917908181",
         "2025-02-08",
         "active"
        ],
        [
         "C008",
         "gregory64@porter.com",
         "Christopher Lopez",
         "0893704162",
         "2024-03-30",
         "active"
        ],
        [
         "C009",
         "hcabrera@hotmail.com",
         "Rebecca Fleming",
         "5078290394",
         "2024-03-13",
         "active"
        ],
        [
         "C010",
         "tgoodwin@cohen.biz",
         "Amanda Bradley",
         "7593852622",
         "2024-06-04",
         "inactive"
        ]
       ],
       "datasetInfos": [],
       "dbfsResultPath": null,
       "isJsonSchema": true,
       "metadata": {},
       "overflow": false,
       "plotOptions": {
        "customPlotOptions": {},
        "displayType": "table",
        "pivotAggregation": null,
        "pivotColumns": null,
        "xColumns": null,
        "yColumns": null
       },
       "removedWidgets": [],
       "schema": [
        {
         "metadata": "{}",
         "name": "customer_id",
         "type": "\"string\""
        },
        {
         "metadata": "{}",
         "name": "email",
         "type": "\"string\""
        },
        {
         "metadata": "{}",
         "name": "name",
         "type": "\"string\""
        },
        {
         "metadata": "{}",
         "name": "phone_number",
         "type": "\"string\""
        },
        {
         "metadata": "{}",
         "name": "signup_date",
         "type": "\"string\""
        },
        {
         "metadata": "{}",
         "name": "status",
         "type": "\"string\""
        }
       ],
       "type": "table"
      }
     },
     "output_type": "display_data"
    }
   ],
   "source": [
    "customer_df = spark.read.format(\"json\").option(\"header\", \"true\").option(\"inferschema\", \"true\").option(\"quote\", \"\\\"\").option(\"multiline\", \"true\").load(customer_data)\n",
    "# Print customerSchema\n",
    "customer_df.printSchema()\n",
    "display(customer_df)"
   ]
  },
  {
   "cell_type": "code",
   "execution_count": 0,
   "metadata": {
    "application/vnd.databricks.v1+cell": {
     "cellMetadata": {
      "byteLimit": 2048000,
      "rowLimit": 10000
     },
     "inputWidgets": {},
     "nuid": "0f53c8db-7274-42cb-bf4e-c745e6da477c",
     "showTitle": false,
     "tableResultSettingsMap": {},
     "title": ""
    }
   },
   "outputs": [
    {
     "output_type": "display_data",
     "data": {
      "text/html": [
       "<style scoped>\n",
       "  .table-result-container {\n",
       "    max-height: 300px;\n",
       "    overflow: auto;\n",
       "  }\n",
       "  table, th, td {\n",
       "    border: 1px solid black;\n",
       "    border-collapse: collapse;\n",
       "  }\n",
       "  th, td {\n",
       "    padding: 5px;\n",
       "  }\n",
       "  th {\n",
       "    text-align: left;\n",
       "  }\n",
       "</style><div class='table-result-container'><table class='table-result'><thead style='background-color: white'><tr><th>customer_id</th><th>email</th><th>name</th><th>phone_number</th><th>signup_date</th><th>status</th></tr></thead><tbody><tr><td>C001</td><td>joshuathomas@yahoo.com</td><td>Emma Hawkins</td><td>3138135510</td><td>2025-05-28</td><td>inactive</td></tr><tr><td>C002</td><td>lrosario@gmail.com</td><td>Brenda Galloway</td><td>3304466710</td><td>2025-03-28</td><td>active</td></tr><tr><td>C003</td><td>yanderson@gmail.com</td><td>Michele Branch</td><td>1895122579</td><td>2025-02-17</td><td>active</td></tr><tr><td>C004</td><td>rhale@gmail.com</td><td>Jessica Gray</td><td>7041080388</td><td>2024-10-28</td><td>active</td></tr><tr><td>C005</td><td>orobinson@gmail.com</td><td>Carolyn Martinez</td><td>1403054963</td><td>2025-06-25</td><td>active</td></tr><tr><td>C006</td><td>twilliams@simmons.com</td><td>Kathy Strickland</td><td>8385627187</td><td>2024-11-14</td><td>active</td></tr><tr><td>C007</td><td>aramirez@vazquez.com</td><td>Tabitha Smith</td><td>4917908181</td><td>2025-02-08</td><td>active</td></tr><tr><td>C009</td><td>hcabrera@hotmail.com</td><td>Rebecca Fleming</td><td>5078290394</td><td>2024-03-13</td><td>active</td></tr><tr><td>C010</td><td>tgoodwin@cohen.biz</td><td>Amanda Bradley</td><td>7593852622</td><td>2024-06-04</td><td>inactive</td></tr></tbody></table></div>"
      ]
     },
     "metadata": {
      "application/vnd.databricks.v1+output": {
       "addedWidgets": {},
       "aggData": [],
       "aggError": "",
       "aggOverflow": false,
       "aggSchema": [],
       "aggSeriesLimitReached": false,
       "aggType": "",
       "arguments": {},
       "columnCustomDisplayInfos": {},
       "data": [
        [
         "C001",
         "joshuathomas@yahoo.com",
         "Emma Hawkins",
         "3138135510",
         "2025-05-28",
         "inactive"
        ],
        [
         "C002",
         "lrosario@gmail.com",
         "Brenda Galloway",
         "3304466710",
         "2025-03-28",
         "active"
        ],
        [
         "C003",
         "yanderson@gmail.com",
         "Michele Branch",
         "1895122579",
         "2025-02-17",
         "active"
        ],
        [
         "C004",
         "rhale@gmail.com",
         "Jessica Gray",
         "7041080388",
         "2024-10-28",
         "active"
        ],
        [
         "C005",
         "orobinson@gmail.com",
         "Carolyn Martinez",
         "1403054963",
         "2025-06-25",
         "active"
        ],
        [
         "C006",
         "twilliams@simmons.com",
         "Kathy Strickland",
         "8385627187",
         "2024-11-14",
         "active"
        ],
        [
         "C007",
         "aramirez@vazquez.com",
         "Tabitha Smith",
         "4917908181",
         "2025-02-08",
         "active"
        ],
        [
         "C009",
         "hcabrera@hotmail.com",
         "Rebecca Fleming",
         "5078290394",
         "2024-03-13",
         "active"
        ],
        [
         "C010",
         "tgoodwin@cohen.biz",
         "Amanda Bradley",
         "7593852622",
         "2024-06-04",
         "inactive"
        ]
       ],
       "datasetInfos": [],
       "dbfsResultPath": null,
       "isJsonSchema": true,
       "metadata": {},
       "overflow": false,
       "plotOptions": {
        "customPlotOptions": {},
        "displayType": "table",
        "pivotAggregation": null,
        "pivotColumns": null,
        "xColumns": null,
        "yColumns": null
       },
       "removedWidgets": [],
       "schema": [
        {
         "metadata": "{}",
         "name": "customer_id",
         "type": "\"string\""
        },
        {
         "metadata": "{}",
         "name": "email",
         "type": "\"string\""
        },
        {
         "metadata": "{}",
         "name": "name",
         "type": "\"string\""
        },
        {
         "metadata": "{}",
         "name": "phone_number",
         "type": "\"string\""
        },
        {
         "metadata": "{}",
         "name": "signup_date",
         "type": "\"date\""
        },
        {
         "metadata": "{}",
         "name": "status",
         "type": "\"string\""
        }
       ],
       "type": "table"
      }
     },
     "output_type": "display_data"
    }
   ],
   "source": [
    "# Data Cleaning Steps\n",
    "customer_df = customer_df.na.drop(subset=[\"customer_id\", \"email\", \"name\", \"phone_number\", \"signup_date\", \"status\"])\n",
    "\n",
    "# Email Validation\n",
    "email_pattern = r\"^[\\w\\.-]+@[\\w\\.-]+\\.\\w+$\"\n",
    "customer_df = customer_df.withColumn(\"is_valid_email\", regexp_extract(col(\"email\"), email_pattern, 0) != \"\")\n",
    "customer_df = customer_df.filter(col(\"is_valid_email\")).drop(\"is_valid_email\")\n",
    "\n",
    "# Phone Validation\n",
    "customer_df = customer_df.filter(col(\"phone_number\").rlike(r\"^[1-9]\\d{9}$\"))\n",
    "\n",
    "\n",
    "# Date Validation\n",
    "customer_df = customer_df.withColumn(\"signup_date\", to_date(col(\"signup_date\"), \"yyyy-MM-dd\"))\n",
    "customer_df = customer_df.filter(col(\"signup_date\").isNotNull())\n",
    "customer_df = customer_df.filter(col(\"signup_date\") <= current_date())\n",
    "\n",
    "# Status Validation\n",
    "customer_df = customer_df.filter(col(\"status\").isin(\"active\", \"inactive\"))\n",
    "\n",
    "display(customer_df)"
   ]
  },
  {
   "cell_type": "code",
   "execution_count": 0,
   "metadata": {
    "application/vnd.databricks.v1+cell": {
     "cellMetadata": {
      "byteLimit": 2048000,
      "rowLimit": 10000
     },
     "inputWidgets": {},
     "nuid": "9e8d7c84-a5e7-4922-99b6-4dfa4c6c2bd1",
     "showTitle": false,
     "tableResultSettingsMap": {},
     "title": ""
    }
   },
   "outputs": [
    {
     "output_type": "display_data",
     "data": {
      "text/html": [
       "<style scoped>\n",
       "  .table-result-container {\n",
       "    max-height: 300px;\n",
       "    overflow: auto;\n",
       "  }\n",
       "  table, th, td {\n",
       "    border: 1px solid black;\n",
       "    border-collapse: collapse;\n",
       "  }\n",
       "  th, td {\n",
       "    padding: 5px;\n",
       "  }\n",
       "  th {\n",
       "    text-align: left;\n",
       "  }\n",
       "</style><div class='table-result-container'><table class='table-result'><thead style='background-color: white'><tr><th>customer_id</th><th>email</th><th>name</th><th>phone_number</th><th>signup_date</th><th>status</th><th>tenure_days</th></tr></thead><tbody><tr><td>C001</td><td>joshuathomas@yahoo.com</td><td>Emma Hawkins</td><td>3138135510</td><td>2025-05-28</td><td>inactive</td><td>50</td></tr><tr><td>C002</td><td>lrosario@gmail.com</td><td>Brenda Galloway</td><td>3304466710</td><td>2025-03-28</td><td>active</td><td>111</td></tr><tr><td>C003</td><td>yanderson@gmail.com</td><td>Michele Branch</td><td>1895122579</td><td>2025-02-17</td><td>active</td><td>150</td></tr><tr><td>C004</td><td>rhale@gmail.com</td><td>Jessica Gray</td><td>7041080388</td><td>2024-10-28</td><td>active</td><td>262</td></tr><tr><td>C005</td><td>orobinson@gmail.com</td><td>Carolyn Martinez</td><td>1403054963</td><td>2025-06-25</td><td>active</td><td>22</td></tr><tr><td>C006</td><td>twilliams@simmons.com</td><td>Kathy Strickland</td><td>8385627187</td><td>2024-11-14</td><td>active</td><td>245</td></tr><tr><td>C007</td><td>aramirez@vazquez.com</td><td>Tabitha Smith</td><td>4917908181</td><td>2025-02-08</td><td>active</td><td>159</td></tr><tr><td>C009</td><td>hcabrera@hotmail.com</td><td>Rebecca Fleming</td><td>5078290394</td><td>2024-03-13</td><td>active</td><td>491</td></tr><tr><td>C010</td><td>tgoodwin@cohen.biz</td><td>Amanda Bradley</td><td>7593852622</td><td>2024-06-04</td><td>inactive</td><td>408</td></tr></tbody></table></div>"
      ]
     },
     "metadata": {
      "application/vnd.databricks.v1+output": {
       "addedWidgets": {},
       "aggData": [],
       "aggError": "",
       "aggOverflow": false,
       "aggSchema": [],
       "aggSeriesLimitReached": false,
       "aggType": "",
       "arguments": {},
       "columnCustomDisplayInfos": {},
       "data": [
        [
         "C001",
         "joshuathomas@yahoo.com",
         "Emma Hawkins",
         "3138135510",
         "2025-05-28",
         "inactive",
         50
        ],
        [
         "C002",
         "lrosario@gmail.com",
         "Brenda Galloway",
         "3304466710",
         "2025-03-28",
         "active",
         111
        ],
        [
         "C003",
         "yanderson@gmail.com",
         "Michele Branch",
         "1895122579",
         "2025-02-17",
         "active",
         150
        ],
        [
         "C004",
         "rhale@gmail.com",
         "Jessica Gray",
         "7041080388",
         "2024-10-28",
         "active",
         262
        ],
        [
         "C005",
         "orobinson@gmail.com",
         "Carolyn Martinez",
         "1403054963",
         "2025-06-25",
         "active",
         22
        ],
        [
         "C006",
         "twilliams@simmons.com",
         "Kathy Strickland",
         "8385627187",
         "2024-11-14",
         "active",
         245
        ],
        [
         "C007",
         "aramirez@vazquez.com",
         "Tabitha Smith",
         "4917908181",
         "2025-02-08",
         "active",
         159
        ],
        [
         "C009",
         "hcabrera@hotmail.com",
         "Rebecca Fleming",
         "5078290394",
         "2024-03-13",
         "active",
         491
        ],
        [
         "C010",
         "tgoodwin@cohen.biz",
         "Amanda Bradley",
         "7593852622",
         "2024-06-04",
         "inactive",
         408
        ]
       ],
       "datasetInfos": [],
       "dbfsResultPath": null,
       "isJsonSchema": true,
       "metadata": {},
       "overflow": false,
       "plotOptions": {
        "customPlotOptions": {},
        "displayType": "table",
        "pivotAggregation": null,
        "pivotColumns": null,
        "xColumns": null,
        "yColumns": null
       },
       "removedWidgets": [],
       "schema": [
        {
         "metadata": "{}",
         "name": "customer_id",
         "type": "\"string\""
        },
        {
         "metadata": "{}",
         "name": "email",
         "type": "\"string\""
        },
        {
         "metadata": "{}",
         "name": "name",
         "type": "\"string\""
        },
        {
         "metadata": "{}",
         "name": "phone_number",
         "type": "\"string\""
        },
        {
         "metadata": "{}",
         "name": "signup_date",
         "type": "\"date\""
        },
        {
         "metadata": "{}",
         "name": "status",
         "type": "\"string\""
        },
        {
         "metadata": "{}",
         "name": "tenure_days",
         "type": "\"integer\""
        }
       ],
       "type": "table"
      }
     },
     "output_type": "display_data"
    }
   ],
   "source": [
    "# Tenure in days\n",
    "customer_df = customer_df.withColumn(\"tenure_days\", datediff(current_date(), col(\"signup_date\")))\n",
    "display(customer_df)"
   ]
  },
  {
   "cell_type": "code",
   "execution_count": 0,
   "metadata": {
    "application/vnd.databricks.v1+cell": {
     "cellMetadata": {
      "byteLimit": 2048000,
      "rowLimit": 10000
     },
     "inputWidgets": {},
     "nuid": "390dbc2d-3d82-4db9-a66a-4611b27ab11f",
     "showTitle": false,
     "tableResultSettingsMap": {},
     "title": ""
    }
   },
   "outputs": [
    {
     "output_type": "display_data",
     "data": {
      "text/html": [
       "<style scoped>\n",
       "  .table-result-container {\n",
       "    max-height: 300px;\n",
       "    overflow: auto;\n",
       "  }\n",
       "  table, th, td {\n",
       "    border: 1px solid black;\n",
       "    border-collapse: collapse;\n",
       "  }\n",
       "  th, td {\n",
       "    padding: 5px;\n",
       "  }\n",
       "  th {\n",
       "    text-align: left;\n",
       "  }\n",
       "</style><div class='table-result-container'><table class='table-result'><thead style='background-color: white'><tr><th>customer_id</th><th>email</th><th>name</th><th>phone_number</th><th>signup_date</th><th>status</th><th>tenure_days</th><th>arrival_date</th><th>load_timestamp</th></tr></thead><tbody><tr><td>C001</td><td>joshuathomas@yahoo.com</td><td>Emma Hawkins</td><td>3138135510</td><td>2025-05-28</td><td>inactive</td><td>50</td><td>2025-07-17</td><td>2025-07-17T16:41:32.123Z</td></tr><tr><td>C002</td><td>lrosario@gmail.com</td><td>Brenda Galloway</td><td>3304466710</td><td>2025-03-28</td><td>active</td><td>111</td><td>2025-07-17</td><td>2025-07-17T16:41:32.123Z</td></tr><tr><td>C003</td><td>yanderson@gmail.com</td><td>Michele Branch</td><td>1895122579</td><td>2025-02-17</td><td>active</td><td>150</td><td>2025-07-17</td><td>2025-07-17T16:41:32.123Z</td></tr><tr><td>C004</td><td>rhale@gmail.com</td><td>Jessica Gray</td><td>7041080388</td><td>2024-10-28</td><td>active</td><td>262</td><td>2025-07-17</td><td>2025-07-17T16:41:32.123Z</td></tr><tr><td>C005</td><td>orobinson@gmail.com</td><td>Carolyn Martinez</td><td>1403054963</td><td>2025-06-25</td><td>active</td><td>22</td><td>2025-07-17</td><td>2025-07-17T16:41:32.123Z</td></tr><tr><td>C006</td><td>twilliams@simmons.com</td><td>Kathy Strickland</td><td>8385627187</td><td>2024-11-14</td><td>active</td><td>245</td><td>2025-07-17</td><td>2025-07-17T16:41:32.123Z</td></tr><tr><td>C007</td><td>aramirez@vazquez.com</td><td>Tabitha Smith</td><td>4917908181</td><td>2025-02-08</td><td>active</td><td>159</td><td>2025-07-17</td><td>2025-07-17T16:41:32.123Z</td></tr><tr><td>C009</td><td>hcabrera@hotmail.com</td><td>Rebecca Fleming</td><td>5078290394</td><td>2024-03-13</td><td>active</td><td>491</td><td>2025-07-17</td><td>2025-07-17T16:41:32.123Z</td></tr><tr><td>C010</td><td>tgoodwin@cohen.biz</td><td>Amanda Bradley</td><td>7593852622</td><td>2024-06-04</td><td>inactive</td><td>408</td><td>2025-07-17</td><td>2025-07-17T16:41:32.123Z</td></tr></tbody></table></div>"
      ]
     },
     "metadata": {
      "application/vnd.databricks.v1+output": {
       "addedWidgets": {},
       "aggData": [],
       "aggError": "",
       "aggOverflow": false,
       "aggSchema": [],
       "aggSeriesLimitReached": false,
       "aggType": "",
       "arguments": {},
       "columnCustomDisplayInfos": {},
       "data": [
        [
         "C001",
         "joshuathomas@yahoo.com",
         "Emma Hawkins",
         "3138135510",
         "2025-05-28",
         "inactive",
         50,
         "2025-07-17",
         "2025-07-17T16:41:32.123Z"
        ],
        [
         "C002",
         "lrosario@gmail.com",
         "Brenda Galloway",
         "3304466710",
         "2025-03-28",
         "active",
         111,
         "2025-07-17",
         "2025-07-17T16:41:32.123Z"
        ],
        [
         "C003",
         "yanderson@gmail.com",
         "Michele Branch",
         "1895122579",
         "2025-02-17",
         "active",
         150,
         "2025-07-17",
         "2025-07-17T16:41:32.123Z"
        ],
        [
         "C004",
         "rhale@gmail.com",
         "Jessica Gray",
         "7041080388",
         "2024-10-28",
         "active",
         262,
         "2025-07-17",
         "2025-07-17T16:41:32.123Z"
        ],
        [
         "C005",
         "orobinson@gmail.com",
         "Carolyn Martinez",
         "1403054963",
         "2025-06-25",
         "active",
         22,
         "2025-07-17",
         "2025-07-17T16:41:32.123Z"
        ],
        [
         "C006",
         "twilliams@simmons.com",
         "Kathy Strickland",
         "8385627187",
         "2024-11-14",
         "active",
         245,
         "2025-07-17",
         "2025-07-17T16:41:32.123Z"
        ],
        [
         "C007",
         "aramirez@vazquez.com",
         "Tabitha Smith",
         "4917908181",
         "2025-02-08",
         "active",
         159,
         "2025-07-17",
         "2025-07-17T16:41:32.123Z"
        ],
        [
         "C009",
         "hcabrera@hotmail.com",
         "Rebecca Fleming",
         "5078290394",
         "2024-03-13",
         "active",
         491,
         "2025-07-17",
         "2025-07-17T16:41:32.123Z"
        ],
        [
         "C010",
         "tgoodwin@cohen.biz",
         "Amanda Bradley",
         "7593852622",
         "2024-06-04",
         "inactive",
         408,
         "2025-07-17",
         "2025-07-17T16:41:32.123Z"
        ]
       ],
       "datasetInfos": [],
       "dbfsResultPath": null,
       "isJsonSchema": true,
       "metadata": {},
       "overflow": false,
       "plotOptions": {
        "customPlotOptions": {},
        "displayType": "table",
        "pivotAggregation": null,
        "pivotColumns": null,
        "xColumns": null,
        "yColumns": null
       },
       "removedWidgets": [],
       "schema": [
        {
         "metadata": "{}",
         "name": "customer_id",
         "type": "\"string\""
        },
        {
         "metadata": "{}",
         "name": "email",
         "type": "\"string\""
        },
        {
         "metadata": "{}",
         "name": "name",
         "type": "\"string\""
        },
        {
         "metadata": "{}",
         "name": "phone_number",
         "type": "\"string\""
        },
        {
         "metadata": "{}",
         "name": "signup_date",
         "type": "\"date\""
        },
        {
         "metadata": "{}",
         "name": "status",
         "type": "\"string\""
        },
        {
         "metadata": "{}",
         "name": "tenure_days",
         "type": "\"integer\""
        },
        {
         "metadata": "{}",
         "name": "arrival_date",
         "type": "\"date\""
        },
        {
         "metadata": "{}",
         "name": "load_timestamp",
         "type": "\"timestamp\""
        }
       ],
       "type": "table"
      }
     },
     "output_type": "display_data"
    }
   ],
   "source": [
    "# Add audit columns\n",
    "customer_df = customer_df.withColumn(\"arrival_date\", current_date())\n",
    "customer_df = customer_df.withColumn(\"load_timestamp\", current_timestamp())\n",
    "display(customer_df)"
   ]
  },
  {
   "cell_type": "code",
   "execution_count": 0,
   "metadata": {
    "application/vnd.databricks.v1+cell": {
     "cellMetadata": {
      "byteLimit": 2048000,
      "rowLimit": 10000
     },
     "inputWidgets": {},
     "nuid": "7ccc860d-c3c9-4f33-8858-9828603e6502",
     "showTitle": false,
     "tableResultSettingsMap": {},
     "title": ""
    }
   },
   "outputs": [
    {
     "output_type": "display_data",
     "data": {
      "text/html": [
       "<style scoped>\n",
       "  .table-result-container {\n",
       "    max-height: 300px;\n",
       "    overflow: auto;\n",
       "  }\n",
       "  table, th, td {\n",
       "    border: 1px solid black;\n",
       "    border-collapse: collapse;\n",
       "  }\n",
       "  th, td {\n",
       "    padding: 5px;\n",
       "  }\n",
       "  th {\n",
       "    text-align: left;\n",
       "  }\n",
       "</style><div class='table-result-container'><table class='table-result'><thead style='background-color: white'><tr><th>customer_id</th><th>email</th><th>name</th><th>phone_number</th><th>signup_date</th><th>status</th><th>tenure_days</th><th>arrival_date</th><th>load_timestamp</th></tr></thead><tbody><tr><td>C001</td><td>joshuathomas@yahoo.com</td><td>Emma Hawkins</td><td>3138135510</td><td>2025-05-28</td><td>inactive</td><td>50</td><td>2025-07-17</td><td>2025-07-17T16:41:34.791Z</td></tr><tr><td>C002</td><td>lrosario@gmail.com</td><td>Brenda Galloway</td><td>3304466710</td><td>2025-03-28</td><td>active</td><td>111</td><td>2025-07-17</td><td>2025-07-17T16:41:34.791Z</td></tr><tr><td>C003</td><td>yanderson@gmail.com</td><td>Michele Branch</td><td>1895122579</td><td>2025-02-17</td><td>active</td><td>150</td><td>2025-07-17</td><td>2025-07-17T16:41:34.791Z</td></tr><tr><td>C004</td><td>rhale@gmail.com</td><td>Jessica Gray</td><td>7041080388</td><td>2024-10-28</td><td>active</td><td>262</td><td>2025-07-17</td><td>2025-07-17T16:41:34.791Z</td></tr><tr><td>C005</td><td>orobinson@gmail.com</td><td>Carolyn Martinez</td><td>1403054963</td><td>2025-06-25</td><td>active</td><td>22</td><td>2025-07-17</td><td>2025-07-17T16:41:34.791Z</td></tr><tr><td>C006</td><td>twilliams@simmons.com</td><td>Kathy Strickland</td><td>8385627187</td><td>2024-11-14</td><td>active</td><td>245</td><td>2025-07-17</td><td>2025-07-17T16:41:34.791Z</td></tr><tr><td>C007</td><td>aramirez@vazquez.com</td><td>Tabitha Smith</td><td>4917908181</td><td>2025-02-08</td><td>active</td><td>159</td><td>2025-07-17</td><td>2025-07-17T16:41:34.791Z</td></tr><tr><td>C009</td><td>hcabrera@hotmail.com</td><td>Rebecca Fleming</td><td>5078290394</td><td>2024-03-13</td><td>active</td><td>491</td><td>2025-07-17</td><td>2025-07-17T16:41:34.791Z</td></tr><tr><td>C010</td><td>tgoodwin@cohen.biz</td><td>Amanda Bradley</td><td>7593852622</td><td>2024-06-04</td><td>inactive</td><td>408</td><td>2025-07-17</td><td>2025-07-17T16:41:34.791Z</td></tr></tbody></table></div>"
      ]
     },
     "metadata": {
      "application/vnd.databricks.v1+output": {
       "addedWidgets": {},
       "aggData": [],
       "aggError": "",
       "aggOverflow": false,
       "aggSchema": [],
       "aggSeriesLimitReached": false,
       "aggType": "",
       "arguments": {},
       "columnCustomDisplayInfos": {},
       "data": [
        [
         "C001",
         "joshuathomas@yahoo.com",
         "Emma Hawkins",
         "3138135510",
         "2025-05-28",
         "inactive",
         50,
         "2025-07-17",
         "2025-07-17T16:41:34.791Z"
        ],
        [
         "C002",
         "lrosario@gmail.com",
         "Brenda Galloway",
         "3304466710",
         "2025-03-28",
         "active",
         111,
         "2025-07-17",
         "2025-07-17T16:41:34.791Z"
        ],
        [
         "C003",
         "yanderson@gmail.com",
         "Michele Branch",
         "1895122579",
         "2025-02-17",
         "active",
         150,
         "2025-07-17",
         "2025-07-17T16:41:34.791Z"
        ],
        [
         "C004",
         "rhale@gmail.com",
         "Jessica Gray",
         "7041080388",
         "2024-10-28",
         "active",
         262,
         "2025-07-17",
         "2025-07-17T16:41:34.791Z"
        ],
        [
         "C005",
         "orobinson@gmail.com",
         "Carolyn Martinez",
         "1403054963",
         "2025-06-25",
         "active",
         22,
         "2025-07-17",
         "2025-07-17T16:41:34.791Z"
        ],
        [
         "C006",
         "twilliams@simmons.com",
         "Kathy Strickland",
         "8385627187",
         "2024-11-14",
         "active",
         245,
         "2025-07-17",
         "2025-07-17T16:41:34.791Z"
        ],
        [
         "C007",
         "aramirez@vazquez.com",
         "Tabitha Smith",
         "4917908181",
         "2025-02-08",
         "active",
         159,
         "2025-07-17",
         "2025-07-17T16:41:34.791Z"
        ],
        [
         "C009",
         "hcabrera@hotmail.com",
         "Rebecca Fleming",
         "5078290394",
         "2024-03-13",
         "active",
         491,
         "2025-07-17",
         "2025-07-17T16:41:34.791Z"
        ],
        [
         "C010",
         "tgoodwin@cohen.biz",
         "Amanda Bradley",
         "7593852622",
         "2024-06-04",
         "inactive",
         408,
         "2025-07-17",
         "2025-07-17T16:41:34.791Z"
        ]
       ],
       "datasetInfos": [],
       "dbfsResultPath": null,
       "isJsonSchema": true,
       "metadata": {},
       "overflow": false,
       "plotOptions": {
        "customPlotOptions": {},
        "displayType": "table",
        "pivotAggregation": null,
        "pivotColumns": null,
        "xColumns": null,
        "yColumns": null
       },
       "removedWidgets": [],
       "schema": [
        {
         "metadata": "{}",
         "name": "customer_id",
         "type": "\"string\""
        },
        {
         "metadata": "{}",
         "name": "email",
         "type": "\"string\""
        },
        {
         "metadata": "{}",
         "name": "name",
         "type": "\"string\""
        },
        {
         "metadata": "{}",
         "name": "phone_number",
         "type": "\"string\""
        },
        {
         "metadata": "{}",
         "name": "signup_date",
         "type": "\"date\""
        },
        {
         "metadata": "{}",
         "name": "status",
         "type": "\"string\""
        },
        {
         "metadata": "{}",
         "name": "tenure_days",
         "type": "\"integer\""
        },
        {
         "metadata": "{}",
         "name": "arrival_date",
         "type": "\"date\""
        },
        {
         "metadata": "{}",
         "name": "load_timestamp",
         "type": "\"timestamp\""
        }
       ],
       "type": "table"
      }
     },
     "output_type": "display_data"
    }
   ],
   "source": [
    "from pyspark.sql.functions import current_date\n",
    "\n",
    "staging_customer_path = \"workspace.zoom_car.staging_customers_delta\"\n",
    "\n",
    "# Compute the current date\n",
    "current_date_str = spark.sql(\"SELECT current_date()\").collect()[0][0]\n",
    "\n",
    "customer_df.write.format(\"delta\") \\\n",
    "    .mode(\"overwrite\") \\\n",
    "    .option(\"replaceWhere\", f\"arrival_date = '{current_date_str}'\") \\\n",
    "    .saveAsTable(staging_customer_path)\n",
    "\n",
    "display(customer_df)"
   ]
  },
  {
   "cell_type": "code",
   "execution_count": 0,
   "metadata": {
    "application/vnd.databricks.v1+cell": {
     "cellMetadata": {
      "byteLimit": 2048000,
      "rowLimit": 10000
     },
     "inputWidgets": {},
     "nuid": "636b9d29-e6ae-4374-b352-fd4a2c95b705",
     "showTitle": false,
     "tableResultSettingsMap": {},
     "title": ""
    }
   },
   "outputs": [],
   "source": [
    "# customer_df.write.format(\"delta\") \\\n",
    "#     .mode(\"overwrite\") \\\n",
    "#     .partitionBy(\"arrival_date\") \\\n",
    "#     .option(\"mergeSchema\", \"true\") \\\n",
    "#     .saveAsTable(\"workspace.zoom_car.staging_customers_delta\")"
   ]
  },
  {
   "cell_type": "code",
   "execution_count": 0,
   "metadata": {
    "application/vnd.databricks.v1+cell": {
     "cellMetadata": {
      "byteLimit": 2048000,
      "rowLimit": 10000
     },
     "inputWidgets": {},
     "nuid": "442f31f0-8a41-4918-8858-b7dd4b21fd7e",
     "showTitle": false,
     "tableResultSettingsMap": {},
     "title": ""
    }
   },
   "outputs": [
    {
     "output_type": "display_data",
     "data": {
      "text/html": [
       "<style scoped>\n",
       "  .table-result-container {\n",
       "    max-height: 300px;\n",
       "    overflow: auto;\n",
       "  }\n",
       "  table, th, td {\n",
       "    border: 1px solid black;\n",
       "    border-collapse: collapse;\n",
       "  }\n",
       "  th, td {\n",
       "    padding: 5px;\n",
       "  }\n",
       "  th {\n",
       "    text-align: left;\n",
       "  }\n",
       "</style><div class='table-result-container'><table class='table-result'><thead style='background-color: white'><tr><th>customer_id</th><th>email</th><th>name</th><th>phone_number</th><th>signup_date</th><th>status</th><th>tenure_days</th><th>arrival_date</th><th>load_timestamp</th></tr></thead><tbody><tr><td>C001</td><td>joshuathomas@yahoo.com</td><td>Emma Hawkins</td><td>3138135510</td><td>2025-05-28</td><td>inactive</td><td>50</td><td>2025-07-17</td><td>2025-07-17T16:41:33.688Z</td></tr><tr><td>C002</td><td>lrosario@gmail.com</td><td>Brenda Galloway</td><td>3304466710</td><td>2025-03-28</td><td>active</td><td>111</td><td>2025-07-17</td><td>2025-07-17T16:41:33.688Z</td></tr><tr><td>C003</td><td>yanderson@gmail.com</td><td>Michele Branch</td><td>1895122579</td><td>2025-02-17</td><td>active</td><td>150</td><td>2025-07-17</td><td>2025-07-17T16:41:33.688Z</td></tr><tr><td>C004</td><td>rhale@gmail.com</td><td>Jessica Gray</td><td>7041080388</td><td>2024-10-28</td><td>active</td><td>262</td><td>2025-07-17</td><td>2025-07-17T16:41:33.688Z</td></tr><tr><td>C005</td><td>orobinson@gmail.com</td><td>Carolyn Martinez</td><td>1403054963</td><td>2025-06-25</td><td>active</td><td>22</td><td>2025-07-17</td><td>2025-07-17T16:41:33.688Z</td></tr><tr><td>C006</td><td>twilliams@simmons.com</td><td>Kathy Strickland</td><td>8385627187</td><td>2024-11-14</td><td>active</td><td>245</td><td>2025-07-17</td><td>2025-07-17T16:41:33.688Z</td></tr><tr><td>C007</td><td>aramirez@vazquez.com</td><td>Tabitha Smith</td><td>4917908181</td><td>2025-02-08</td><td>active</td><td>159</td><td>2025-07-17</td><td>2025-07-17T16:41:33.688Z</td></tr><tr><td>C009</td><td>hcabrera@hotmail.com</td><td>Rebecca Fleming</td><td>5078290394</td><td>2024-03-13</td><td>active</td><td>491</td><td>2025-07-17</td><td>2025-07-17T16:41:33.688Z</td></tr><tr><td>C010</td><td>tgoodwin@cohen.biz</td><td>Amanda Bradley</td><td>7593852622</td><td>2024-06-04</td><td>inactive</td><td>408</td><td>2025-07-17</td><td>2025-07-17T16:41:33.688Z</td></tr></tbody></table></div>"
      ]
     },
     "metadata": {
      "application/vnd.databricks.v1+output": {
       "addedWidgets": {},
       "aggData": [],
       "aggError": "",
       "aggOverflow": false,
       "aggSchema": [],
       "aggSeriesLimitReached": false,
       "aggType": "",
       "arguments": {},
       "columnCustomDisplayInfos": {},
       "data": [
        [
         "C001",
         "joshuathomas@yahoo.com",
         "Emma Hawkins",
         "3138135510",
         "2025-05-28",
         "inactive",
         50,
         "2025-07-17",
         "2025-07-17T16:41:33.688Z"
        ],
        [
         "C002",
         "lrosario@gmail.com",
         "Brenda Galloway",
         "3304466710",
         "2025-03-28",
         "active",
         111,
         "2025-07-17",
         "2025-07-17T16:41:33.688Z"
        ],
        [
         "C003",
         "yanderson@gmail.com",
         "Michele Branch",
         "1895122579",
         "2025-02-17",
         "active",
         150,
         "2025-07-17",
         "2025-07-17T16:41:33.688Z"
        ],
        [
         "C004",
         "rhale@gmail.com",
         "Jessica Gray",
         "7041080388",
         "2024-10-28",
         "active",
         262,
         "2025-07-17",
         "2025-07-17T16:41:33.688Z"
        ],
        [
         "C005",
         "orobinson@gmail.com",
         "Carolyn Martinez",
         "1403054963",
         "2025-06-25",
         "active",
         22,
         "2025-07-17",
         "2025-07-17T16:41:33.688Z"
        ],
        [
         "C006",
         "twilliams@simmons.com",
         "Kathy Strickland",
         "8385627187",
         "2024-11-14",
         "active",
         245,
         "2025-07-17",
         "2025-07-17T16:41:33.688Z"
        ],
        [
         "C007",
         "aramirez@vazquez.com",
         "Tabitha Smith",
         "4917908181",
         "2025-02-08",
         "active",
         159,
         "2025-07-17",
         "2025-07-17T16:41:33.688Z"
        ],
        [
         "C009",
         "hcabrera@hotmail.com",
         "Rebecca Fleming",
         "5078290394",
         "2024-03-13",
         "active",
         491,
         "2025-07-17",
         "2025-07-17T16:41:33.688Z"
        ],
        [
         "C010",
         "tgoodwin@cohen.biz",
         "Amanda Bradley",
         "7593852622",
         "2024-06-04",
         "inactive",
         408,
         "2025-07-17",
         "2025-07-17T16:41:33.688Z"
        ]
       ],
       "datasetInfos": [],
       "dbfsResultPath": null,
       "isJsonSchema": true,
       "metadata": {},
       "overflow": false,
       "plotOptions": {
        "customPlotOptions": {},
        "displayType": "table",
        "pivotAggregation": null,
        "pivotColumns": null,
        "xColumns": null,
        "yColumns": null
       },
       "removedWidgets": [],
       "schema": [
        {
         "metadata": "{}",
         "name": "customer_id",
         "type": "\"string\""
        },
        {
         "metadata": "{}",
         "name": "email",
         "type": "\"string\""
        },
        {
         "metadata": "{}",
         "name": "name",
         "type": "\"string\""
        },
        {
         "metadata": "{}",
         "name": "phone_number",
         "type": "\"string\""
        },
        {
         "metadata": "{}",
         "name": "signup_date",
         "type": "\"date\""
        },
        {
         "metadata": "{}",
         "name": "status",
         "type": "\"string\""
        },
        {
         "metadata": "{}",
         "name": "tenure_days",
         "type": "\"integer\""
        },
        {
         "metadata": "{}",
         "name": "arrival_date",
         "type": "\"date\""
        },
        {
         "metadata": "{}",
         "name": "load_timestamp",
         "type": "\"timestamp\""
        }
       ],
       "type": "table"
      }
     },
     "output_type": "display_data"
    }
   ],
   "source": [
    "cleaned_df = spark.table(\"workspace.zoom_car.staging_customers_delta\")\n",
    "display(cleaned_df)"
   ]
  },
  {
   "cell_type": "code",
   "execution_count": 0,
   "metadata": {
    "application/vnd.databricks.v1+cell": {
     "cellMetadata": {
      "byteLimit": 2048000,
      "rowLimit": 10000
     },
     "inputWidgets": {},
     "nuid": "1e2d8143-2681-4da2-8339-1dcfe4292ddb",
     "showTitle": false,
     "tableResultSettingsMap": {},
     "title": ""
    }
   },
   "outputs": [],
   "source": [
    "# staging_customer_path = \"workspace/zoom_car/staging_customers_delta/_delta_log\"\n",
    "\n",
    "# from delta.tables import DeltaTable\n",
    "\n",
    "# if DeltaTable.isDeltaTable(spark, staging_customer_path):\n",
    "#     delta_table = DeltaTable.forPath(spark, staging_customer_path)\n",
    "\n",
    "#     (\n",
    "#         delta_table.alias(\"t\")\n",
    "#         .merge(\n",
    "#             customer_df.alias(\"s\"),\n",
    "#             \"t.customer_id = s.customer_id\"\n",
    "#         )\n",
    "#         .whenMatchedUpdateAll()\n",
    "#         .whenNotMatchedInsertAll()\n",
    "#         .execute()\n",
    "#     )\n",
    "# else:\n",
    "#     customer_df.write.format(\"delta\") \\\n",
    "#         .mode(\"overwrite\") \\\n",
    "#         .partitionBy(\"arrival_date\") \\\n",
    "#         .saveAsTable(\"workspace.zoom_car.staging_customers_delta\")\n"
   ]
  },
  {
   "cell_type": "code",
   "execution_count": 0,
   "metadata": {
    "application/vnd.databricks.v1+cell": {
     "cellMetadata": {
      "byteLimit": 2048000,
      "rowLimit": 10000
     },
     "inputWidgets": {},
     "nuid": "c2771e5d-5a57-4f05-a690-632c338b3e68",
     "showTitle": false,
     "tableResultSettingsMap": {},
     "title": ""
    }
   },
   "outputs": [],
   "source": [
    "# final_df = spark.table(\"workspace.zoom_car.staging_customers_delta\")\n",
    "# display(final_df)"
   ]
  }
 ],
 "metadata": {
  "application/vnd.databricks.v1+notebook": {
   "computePreferences": null,
   "dashboards": [],
   "environmentMetadata": {
    "base_environment": "",
    "environment_version": "2"
   },
   "inputWidgetPreferences": null,
   "language": "python",
   "notebookMetadata": {
    "pythonIndentUnit": 4
   },
   "notebookName": "zoom_car_customer",
   "widgets": {
    "arrival_date": {
     "currentValue": "",
     "nuid": "56f57ee0-c942-4cbf-87e9-4ad4d3d3dc51",
     "typedWidgetInfo": {
      "autoCreated": false,
      "defaultValue": "20250717",
      "label": "",
      "name": "arrival_date",
      "options": {
       "widgetDisplayType": "Text",
       "validationRegex": null
      },
      "parameterDataType": "String"
     },
     "widgetInfo": {
      "widgetType": "text",
      "defaultValue": "20250717",
      "label": "",
      "name": "arrival_date",
      "options": {
       "widgetType": "text",
       "autoCreated": false,
       "validationRegex": null
      }
     }
    }
   }
  },
  "language_info": {
   "name": "python"
  }
 },
 "nbformat": 4,
 "nbformat_minor": 0
}